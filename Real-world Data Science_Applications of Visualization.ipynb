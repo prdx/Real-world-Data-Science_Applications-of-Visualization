{
 "cells": [
  {
   "cell_type": "markdown",
   "metadata": {},
   "source": [
    "# Anak Agung Ngurah Bagus Trihatmaja - DS5500\n",
    "----------------------------------------------------------------------------------------------------"
   ]
  },
  {
   "cell_type": "code",
   "execution_count": 2,
   "metadata": {},
   "outputs": [],
   "source": [
    "import pandas as pd\n",
    "import numpy as np\n",
    "\n",
    "from sklearn.decomposition import LatentDirichletAllocation\n",
    "from sklearn.feature_extraction.text import CountVectorizer, TfidfVectorizer\n",
    "from sklearn.manifold import TSNE\n",
    "from sklearn.model_selection import RandomizedSearchCV\n",
    "from sklearn.model_selection import train_test_split\n",
    "from sklearn.ensemble import RandomForestRegressor\n",
    "from sklearn.preprocessing import StandardScaler\n",
    "from sklearn.linear_model import Ridge\n",
    "from sklearn.metrics import r2_score\n",
    "import xgboost as xgb\n",
    "\n",
    "# spacy for lemmatization\n",
    "import spacy\n",
    "\n",
    "# Plotting tools\n",
    "import pyLDAvis\n",
    "import  pyLDAvis.sklearn\n",
    "\n",
    "from tqdm import tqdm\n",
    "from spacy.lang.en.stop_words import STOP_WORDS\n",
    "from spacy.lang.en import English\n",
    "import string\n",
    "\n",
    "import matplotlib.pyplot as plt\n",
    "\n",
    "\n",
    "# !python3 -m spacy download en_core_web_lg --user"
   ]
  },
  {
   "cell_type": "code",
   "execution_count": 3,
   "metadata": {},
   "outputs": [],
   "source": [
    "nlp = spacy.load('en_core_web_lg')"
   ]
  },
  {
   "cell_type": "code",
   "execution_count": 4,
   "metadata": {},
   "outputs": [],
   "source": [
    "data = pd.read_csv(\"./winemag-data_first150k.csv\")"
   ]
  },
  {
   "cell_type": "code",
   "execution_count": 5,
   "metadata": {},
   "outputs": [
    {
     "data": {
      "text/html": [
       "<div>\n",
       "<style scoped>\n",
       "    .dataframe tbody tr th:only-of-type {\n",
       "        vertical-align: middle;\n",
       "    }\n",
       "\n",
       "    .dataframe tbody tr th {\n",
       "        vertical-align: top;\n",
       "    }\n",
       "\n",
       "    .dataframe thead th {\n",
       "        text-align: right;\n",
       "    }\n",
       "</style>\n",
       "<table border=\"1\" class=\"dataframe\">\n",
       "  <thead>\n",
       "    <tr style=\"text-align: right;\">\n",
       "      <th></th>\n",
       "      <th>Unnamed: 0</th>\n",
       "      <th>country</th>\n",
       "      <th>description</th>\n",
       "      <th>designation</th>\n",
       "      <th>points</th>\n",
       "      <th>price</th>\n",
       "      <th>province</th>\n",
       "      <th>region_1</th>\n",
       "      <th>region_2</th>\n",
       "      <th>variety</th>\n",
       "      <th>winery</th>\n",
       "    </tr>\n",
       "  </thead>\n",
       "  <tbody>\n",
       "    <tr>\n",
       "      <th>1133</th>\n",
       "      <td>1133</td>\n",
       "      <td>NaN</td>\n",
       "      <td>Delicate white flowers and a spin of lemon pee...</td>\n",
       "      <td>Askitikos</td>\n",
       "      <td>90</td>\n",
       "      <td>17.0</td>\n",
       "      <td>NaN</td>\n",
       "      <td>NaN</td>\n",
       "      <td>NaN</td>\n",
       "      <td>Assyrtiko</td>\n",
       "      <td>Tsililis</td>\n",
       "    </tr>\n",
       "    <tr>\n",
       "      <th>1440</th>\n",
       "      <td>1440</td>\n",
       "      <td>NaN</td>\n",
       "      <td>A blend of 60% Syrah, 30% Cabernet Sauvignon a...</td>\n",
       "      <td>Shah</td>\n",
       "      <td>90</td>\n",
       "      <td>30.0</td>\n",
       "      <td>NaN</td>\n",
       "      <td>NaN</td>\n",
       "      <td>NaN</td>\n",
       "      <td>Red Blend</td>\n",
       "      <td>Büyülübağ</td>\n",
       "    </tr>\n",
       "    <tr>\n",
       "      <th>68226</th>\n",
       "      <td>68226</td>\n",
       "      <td>NaN</td>\n",
       "      <td>From first sniff to last, the nose never makes...</td>\n",
       "      <td>Piedra Feliz</td>\n",
       "      <td>81</td>\n",
       "      <td>15.0</td>\n",
       "      <td>NaN</td>\n",
       "      <td>NaN</td>\n",
       "      <td>NaN</td>\n",
       "      <td>Pinot Noir</td>\n",
       "      <td>Chilcas</td>\n",
       "    </tr>\n",
       "    <tr>\n",
       "      <th>113016</th>\n",
       "      <td>113016</td>\n",
       "      <td>NaN</td>\n",
       "      <td>From first sniff to last, the nose never makes...</td>\n",
       "      <td>Piedra Feliz</td>\n",
       "      <td>81</td>\n",
       "      <td>15.0</td>\n",
       "      <td>NaN</td>\n",
       "      <td>NaN</td>\n",
       "      <td>NaN</td>\n",
       "      <td>Pinot Noir</td>\n",
       "      <td>Chilcas</td>\n",
       "    </tr>\n",
       "    <tr>\n",
       "      <th>135696</th>\n",
       "      <td>135696</td>\n",
       "      <td>NaN</td>\n",
       "      <td>From first sniff to last, the nose never makes...</td>\n",
       "      <td>Piedra Feliz</td>\n",
       "      <td>81</td>\n",
       "      <td>15.0</td>\n",
       "      <td>NaN</td>\n",
       "      <td>NaN</td>\n",
       "      <td>NaN</td>\n",
       "      <td>Pinot Noir</td>\n",
       "      <td>Chilcas</td>\n",
       "    </tr>\n",
       "  </tbody>\n",
       "</table>\n",
       "</div>"
      ],
      "text/plain": [
       "        Unnamed: 0 country                                        description  \\\n",
       "1133          1133     NaN  Delicate white flowers and a spin of lemon pee...   \n",
       "1440          1440     NaN  A blend of 60% Syrah, 30% Cabernet Sauvignon a...   \n",
       "68226        68226     NaN  From first sniff to last, the nose never makes...   \n",
       "113016      113016     NaN  From first sniff to last, the nose never makes...   \n",
       "135696      135696     NaN  From first sniff to last, the nose never makes...   \n",
       "\n",
       "         designation  points  price province region_1 region_2     variety  \\\n",
       "1133       Askitikos      90   17.0      NaN      NaN      NaN   Assyrtiko   \n",
       "1440            Shah      90   30.0      NaN      NaN      NaN   Red Blend   \n",
       "68226   Piedra Feliz      81   15.0      NaN      NaN      NaN  Pinot Noir   \n",
       "113016  Piedra Feliz      81   15.0      NaN      NaN      NaN  Pinot Noir   \n",
       "135696  Piedra Feliz      81   15.0      NaN      NaN      NaN  Pinot Noir   \n",
       "\n",
       "           winery  \n",
       "1133     Tsililis  \n",
       "1440    Büyülübağ  \n",
       "68226     Chilcas  \n",
       "113016    Chilcas  \n",
       "135696    Chilcas  "
      ]
     },
     "execution_count": 5,
     "metadata": {},
     "output_type": "execute_result"
    }
   ],
   "source": [
    "# We can see duplicated rows\n",
    "data.loc[data[\"country\"].isna()]"
   ]
  },
  {
   "cell_type": "code",
   "execution_count": 6,
   "metadata": {},
   "outputs": [],
   "source": [
    "# Remove duplicate and NA\n",
    "data = data[data.duplicated('description', keep=False)]\n",
    "data = data.dropna(subset=['description', 'points', 'country', 'province', 'price'])"
   ]
  },
  {
   "cell_type": "code",
   "execution_count": 7,
   "metadata": {},
   "outputs": [
    {
     "data": {
      "text/plain": [
       "Unnamed: 0         0\n",
       "country            0\n",
       "description        0\n",
       "designation    25735\n",
       "points             0\n",
       "price              0\n",
       "province           0\n",
       "region_1       14453\n",
       "region_2       46677\n",
       "variety            0\n",
       "winery             0\n",
       "dtype: int64"
      ]
     },
     "execution_count": 7,
     "metadata": {},
     "output_type": "execute_result"
    }
   ],
   "source": [
    "data.isna().sum()"
   ]
  },
  {
   "cell_type": "code",
   "execution_count": 8,
   "metadata": {},
   "outputs": [],
   "source": [
    "# Remove variables, the Unnamed variable is just an index, the region_2 is mostly empty\n",
    "data = data.drop(['Unnamed: 0', 'region_2'], axis=1)"
   ]
  },
  {
   "cell_type": "code",
   "execution_count": 9,
   "metadata": {},
   "outputs": [],
   "source": [
    "# Fill NA\n",
    "data = data.fillna(value={'designation': \"EMPTY\", 'region_1': \"EMPTY\"})"
   ]
  },
  {
   "cell_type": "code",
   "execution_count": 10,
   "metadata": {},
   "outputs": [],
   "source": [
    "labels = data['points']\n",
    "descriptions = data['description']"
   ]
  },
  {
   "cell_type": "code",
   "execution_count": 11,
   "metadata": {},
   "outputs": [],
   "source": [
    "punctuations = string.punctuation\n",
    "stopwords = list(STOP_WORDS)"
   ]
  },
  {
   "cell_type": "code",
   "execution_count": 12,
   "metadata": {},
   "outputs": [],
   "source": [
    "# Parser for reviews\n",
    "parser = English()\n",
    "def spacy_tokenizer(sentence):\n",
    "    mytokens = parser(sentence)\n",
    "    mytokens = [ word.lemma_.lower().strip() if word.lemma_ != \"-PRON-\" else word.lower_ for word in mytokens ]\n",
    "    mytokens = [ word for word in mytokens if word not in stopwords and word not in punctuations ]\n",
    "    mytokens = \" \".join([i for i in mytokens])\n",
    "    return mytokens"
   ]
  },
  {
   "cell_type": "code",
   "execution_count": 13,
   "metadata": {},
   "outputs": [
    {
     "name": "stderr",
     "output_type": "stream",
     "text": [
      "100%|██████████| 83945/83945 [01:44<00:00, 801.00it/s] \n"
     ]
    }
   ],
   "source": [
    "tqdm.pandas()\n",
    "data[\"processed_description\"] = data[\"description\"].progress_apply(spacy_tokenizer)"
   ]
  },
  {
   "cell_type": "code",
   "execution_count": 14,
   "metadata": {},
   "outputs": [],
   "source": [
    "vectorizer = CountVectorizer(lowercase=True)\n",
    "data_vectorized = vectorizer.fit_transform(data[\"processed_description\"])"
   ]
  },
  {
   "cell_type": "markdown",
   "metadata": {},
   "source": [
    "> Create 2 visualizations of different aspects of data to get a general understanding of its distribution. Explore correlations between different features, their distributions, etc. \n",
    "\n",
    "As we know the task here is to discover the pattern and get insight what can be useful as a feature"
   ]
  },
  {
   "cell_type": "code",
   "execution_count": 15,
   "metadata": {},
   "outputs": [
    {
     "name": "stdout",
     "output_type": "stream",
     "text": [
      "iteration: 1 of max_iter: 10\n",
      "iteration: 2 of max_iter: 10\n",
      "iteration: 3 of max_iter: 10\n",
      "iteration: 4 of max_iter: 10\n",
      "iteration: 5 of max_iter: 10\n",
      "iteration: 6 of max_iter: 10\n",
      "iteration: 7 of max_iter: 10\n",
      "iteration: 8 of max_iter: 10\n",
      "iteration: 9 of max_iter: 10\n",
      "iteration: 10 of max_iter: 10\n"
     ]
    }
   ],
   "source": [
    "lda = LatentDirichletAllocation(n_components=10, doc_topic_prior=.01, max_iter=10, learning_method='online',verbose=True)\n",
    "data_lda = lda.fit_transform(data_vectorized)"
   ]
  },
  {
   "cell_type": "code",
   "execution_count": 16,
   "metadata": {
    "scrolled": false
   },
   "outputs": [
    {
     "name": "stderr",
     "output_type": "stream",
     "text": [
      "/home/prdx/.local/lib/python3.7/site-packages/pyLDAvis/_prepare.py:257: FutureWarning: Sorting because non-concatenation axis is not aligned. A future version\n",
      "of pandas will change to not sort by default.\n",
      "\n",
      "To accept the future behavior, pass 'sort=False'.\n",
      "\n",
      "To retain the current behavior and silence the warning, pass 'sort=True'.\n",
      "\n",
      "  return pd.concat([default_term_info] + list(topic_dfs))\n"
     ]
    },
    {
     "data": {
      "text/html": [
       "\n",
       "<link rel=\"stylesheet\" type=\"text/css\" href=\"https://cdn.rawgit.com/bmabey/pyLDAvis/files/ldavis.v1.0.0.css\">\n",
       "\n",
       "\n",
       "<div id=\"ldavis_el87281398209129646168546575087\"></div>\n",
       "<script type=\"text/javascript\">\n",
       "\n",
       "var ldavis_el87281398209129646168546575087_data = {\"mdsDat\": {\"x\": [124.1764144897461, -66.53052520751953, -31.58755111694336, -62.09819793701172, 138.6929931640625, 87.88667297363281, 252.03054809570312, -204.45578002929688, -49.48576736450195, -231.7047119140625], \"y\": [196.95172119140625, 78.53675079345703, -79.67110443115234, 246.14105224609375, -153.74905395507812, 29.571975708007812, 17.07391357421875, -87.91339111328125, -242.90272521972656, 104.24793243408203], \"topics\": [1, 2, 3, 4, 5, 6, 7, 8, 9, 10], \"cluster\": [1, 1, 1, 1, 1, 1, 1, 1, 1, 1], \"Freq\": [16.671307179396, 15.077722423888407, 12.441374799284683, 11.911503430524775, 9.590611545247453, 8.375716656914973, 7.817958516533781, 7.030641450037707, 6.54270377068836, 4.540460227483869]}, \"tinfo\": {\"Category\": [\"Default\", \"Default\", \"Default\", \"Default\", \"Default\", \"Default\", \"Default\", \"Default\", \"Default\", \"Default\", \"Default\", \"Default\", \"Default\", \"Default\", \"Default\", \"Default\", \"Default\", \"Default\", \"Default\", \"Default\", \"Default\", \"Default\", \"Default\", \"Default\", \"Default\", \"Default\", \"Default\", \"Default\", \"Default\", \"Default\", \"Topic1\", \"Topic1\", \"Topic1\", \"Topic1\", \"Topic1\", \"Topic1\", \"Topic1\", \"Topic1\", \"Topic1\", \"Topic1\", \"Topic1\", \"Topic1\", \"Topic1\", \"Topic1\", \"Topic1\", \"Topic1\", \"Topic1\", \"Topic1\", \"Topic1\", \"Topic1\", \"Topic1\", \"Topic1\", \"Topic1\", \"Topic1\", \"Topic1\", \"Topic1\", \"Topic1\", \"Topic1\", \"Topic1\", \"Topic1\", \"Topic1\", \"Topic1\", \"Topic1\", \"Topic1\", \"Topic1\", \"Topic1\", \"Topic1\", \"Topic1\", \"Topic1\", \"Topic1\", \"Topic1\", \"Topic1\", \"Topic1\", \"Topic1\", \"Topic1\", \"Topic1\", \"Topic1\", \"Topic1\", \"Topic1\", \"Topic1\", \"Topic1\", \"Topic1\", \"Topic1\", \"Topic1\", \"Topic1\", \"Topic1\", \"Topic1\", \"Topic1\", \"Topic1\", \"Topic1\", \"Topic1\", \"Topic1\", \"Topic1\", \"Topic1\", \"Topic1\", \"Topic1\", \"Topic1\", \"Topic1\", \"Topic1\", \"Topic1\", \"Topic2\", \"Topic2\", \"Topic2\", \"Topic2\", \"Topic2\", \"Topic2\", \"Topic2\", \"Topic2\", \"Topic2\", \"Topic2\", \"Topic2\", \"Topic2\", \"Topic2\", \"Topic2\", \"Topic2\", \"Topic2\", \"Topic2\", \"Topic2\", \"Topic2\", \"Topic2\", \"Topic2\", \"Topic2\", \"Topic2\", \"Topic2\", \"Topic2\", \"Topic2\", \"Topic2\", \"Topic2\", \"Topic2\", \"Topic2\", \"Topic2\", \"Topic2\", \"Topic2\", \"Topic2\", \"Topic2\", \"Topic2\", \"Topic2\", \"Topic2\", \"Topic2\", \"Topic2\", \"Topic2\", \"Topic2\", \"Topic2\", \"Topic2\", \"Topic2\", \"Topic2\", \"Topic2\", \"Topic2\", \"Topic2\", \"Topic2\", \"Topic2\", \"Topic2\", \"Topic2\", \"Topic2\", \"Topic2\", \"Topic2\", \"Topic2\", \"Topic2\", \"Topic2\", \"Topic2\", \"Topic2\", \"Topic2\", \"Topic2\", \"Topic2\", \"Topic2\", \"Topic2\", \"Topic2\", \"Topic2\", \"Topic2\", \"Topic2\", \"Topic3\", \"Topic3\", \"Topic3\", \"Topic3\", \"Topic3\", \"Topic3\", \"Topic3\", \"Topic3\", \"Topic3\", \"Topic3\", \"Topic3\", \"Topic3\", \"Topic3\", \"Topic3\", \"Topic3\", \"Topic3\", \"Topic3\", \"Topic3\", \"Topic3\", \"Topic3\", \"Topic3\", \"Topic3\", \"Topic3\", \"Topic3\", \"Topic3\", \"Topic3\", \"Topic3\", \"Topic3\", \"Topic3\", \"Topic3\", \"Topic3\", \"Topic3\", \"Topic3\", \"Topic3\", \"Topic3\", \"Topic3\", \"Topic3\", \"Topic3\", \"Topic3\", \"Topic3\", \"Topic3\", \"Topic3\", \"Topic3\", \"Topic3\", \"Topic3\", \"Topic3\", \"Topic3\", \"Topic3\", \"Topic4\", \"Topic4\", \"Topic4\", \"Topic4\", \"Topic4\", \"Topic4\", \"Topic4\", \"Topic4\", \"Topic4\", \"Topic4\", \"Topic4\", \"Topic4\", \"Topic4\", \"Topic4\", \"Topic4\", \"Topic4\", \"Topic4\", \"Topic4\", \"Topic4\", \"Topic4\", \"Topic4\", \"Topic4\", \"Topic4\", \"Topic4\", \"Topic4\", \"Topic4\", \"Topic4\", \"Topic4\", \"Topic4\", \"Topic4\", \"Topic4\", \"Topic4\", \"Topic4\", \"Topic4\", \"Topic4\", \"Topic4\", \"Topic4\", \"Topic4\", \"Topic4\", \"Topic4\", \"Topic4\", \"Topic4\", \"Topic4\", \"Topic4\", \"Topic4\", \"Topic4\", \"Topic4\", \"Topic4\", \"Topic4\", \"Topic4\", \"Topic4\", \"Topic4\", \"Topic4\", \"Topic4\", \"Topic4\", \"Topic4\", \"Topic4\", \"Topic4\", \"Topic4\", \"Topic4\", \"Topic4\", \"Topic4\", \"Topic4\", \"Topic5\", \"Topic5\", \"Topic5\", \"Topic5\", \"Topic5\", \"Topic5\", \"Topic5\", \"Topic5\", \"Topic5\", \"Topic5\", \"Topic5\", \"Topic5\", \"Topic5\", \"Topic5\", \"Topic5\", \"Topic5\", \"Topic5\", \"Topic5\", \"Topic5\", \"Topic5\", \"Topic5\", \"Topic5\", \"Topic5\", \"Topic5\", \"Topic5\", \"Topic5\", \"Topic5\", \"Topic5\", \"Topic5\", \"Topic5\", \"Topic5\", \"Topic5\", \"Topic5\", \"Topic5\", \"Topic5\", \"Topic5\", \"Topic5\", \"Topic5\", \"Topic5\", \"Topic5\", \"Topic5\", \"Topic5\", \"Topic5\", \"Topic5\", \"Topic5\", \"Topic5\", \"Topic5\", \"Topic5\", \"Topic5\", \"Topic5\", \"Topic5\", \"Topic5\", \"Topic5\", \"Topic5\", \"Topic5\", \"Topic5\", \"Topic5\", \"Topic5\", \"Topic6\", \"Topic6\", \"Topic6\", \"Topic6\", \"Topic6\", \"Topic6\", \"Topic6\", \"Topic6\", \"Topic6\", \"Topic6\", \"Topic6\", \"Topic6\", \"Topic6\", \"Topic6\", \"Topic6\", \"Topic6\", \"Topic6\", \"Topic6\", \"Topic6\", \"Topic6\", \"Topic6\", \"Topic6\", \"Topic6\", \"Topic6\", \"Topic6\", \"Topic6\", \"Topic6\", \"Topic6\", \"Topic6\", \"Topic6\", \"Topic6\", \"Topic6\", \"Topic6\", \"Topic6\", \"Topic6\", \"Topic6\", \"Topic6\", \"Topic6\", \"Topic6\", \"Topic6\", \"Topic6\", \"Topic6\", \"Topic6\", \"Topic6\", \"Topic6\", \"Topic6\", \"Topic6\", \"Topic6\", \"Topic6\", \"Topic6\", \"Topic6\", \"Topic6\", \"Topic6\", \"Topic6\", \"Topic6\", \"Topic6\", \"Topic6\", \"Topic6\", \"Topic6\", \"Topic6\", \"Topic7\", \"Topic7\", \"Topic7\", \"Topic7\", \"Topic7\", \"Topic7\", \"Topic7\", \"Topic7\", \"Topic7\", \"Topic7\", \"Topic7\", \"Topic7\", \"Topic7\", \"Topic7\", \"Topic7\", \"Topic7\", \"Topic7\", \"Topic7\", \"Topic7\", \"Topic7\", \"Topic7\", \"Topic7\", \"Topic7\", \"Topic7\", \"Topic7\", \"Topic7\", \"Topic7\", \"Topic7\", \"Topic7\", \"Topic7\", \"Topic7\", \"Topic7\", \"Topic7\", \"Topic7\", \"Topic7\", \"Topic7\", \"Topic7\", \"Topic7\", \"Topic7\", \"Topic7\", \"Topic7\", \"Topic7\", \"Topic7\", \"Topic7\", \"Topic7\", \"Topic7\", \"Topic7\", \"Topic7\", \"Topic7\", \"Topic7\", \"Topic7\", \"Topic7\", \"Topic7\", \"Topic7\", \"Topic7\", \"Topic7\", \"Topic7\", \"Topic7\", \"Topic7\", \"Topic7\", \"Topic7\", \"Topic7\", \"Topic7\", \"Topic7\", \"Topic7\", \"Topic7\", \"Topic8\", \"Topic8\", \"Topic8\", \"Topic8\", \"Topic8\", \"Topic8\", \"Topic8\", \"Topic8\", \"Topic8\", \"Topic8\", \"Topic8\", \"Topic8\", \"Topic8\", \"Topic8\", \"Topic8\", \"Topic8\", \"Topic8\", \"Topic8\", \"Topic8\", \"Topic8\", \"Topic8\", \"Topic8\", \"Topic8\", \"Topic8\", \"Topic8\", \"Topic8\", \"Topic8\", \"Topic8\", \"Topic8\", \"Topic8\", \"Topic8\", \"Topic8\", \"Topic8\", \"Topic8\", \"Topic8\", \"Topic8\", \"Topic8\", \"Topic8\", \"Topic8\", \"Topic8\", \"Topic8\", \"Topic8\", \"Topic8\", \"Topic8\", \"Topic8\", \"Topic8\", \"Topic8\", \"Topic8\", \"Topic8\", \"Topic8\", \"Topic8\", \"Topic8\", \"Topic8\", \"Topic8\", \"Topic8\", \"Topic9\", \"Topic9\", \"Topic9\", \"Topic9\", \"Topic9\", \"Topic9\", \"Topic9\", \"Topic9\", \"Topic9\", \"Topic9\", \"Topic9\", \"Topic9\", \"Topic9\", \"Topic9\", \"Topic9\", \"Topic9\", \"Topic9\", \"Topic9\", \"Topic9\", \"Topic9\", \"Topic9\", \"Topic9\", \"Topic9\", \"Topic9\", \"Topic9\", \"Topic9\", \"Topic9\", \"Topic9\", \"Topic9\", \"Topic9\", \"Topic9\", \"Topic9\", \"Topic9\", \"Topic9\", \"Topic9\", \"Topic9\", \"Topic9\", \"Topic9\", \"Topic9\", \"Topic9\", \"Topic9\", \"Topic9\", \"Topic9\", \"Topic9\", \"Topic9\", \"Topic9\", \"Topic9\", \"Topic9\", \"Topic9\", \"Topic9\", \"Topic9\", \"Topic9\", \"Topic10\", \"Topic10\", \"Topic10\", \"Topic10\", \"Topic10\", \"Topic10\", \"Topic10\", \"Topic10\", \"Topic10\", \"Topic10\", \"Topic10\", \"Topic10\", \"Topic10\", \"Topic10\", \"Topic10\", \"Topic10\", \"Topic10\", \"Topic10\", \"Topic10\", \"Topic10\", \"Topic10\", \"Topic10\", \"Topic10\", \"Topic10\", \"Topic10\", \"Topic10\", \"Topic10\", \"Topic10\", \"Topic10\", \"Topic10\", \"Topic10\", \"Topic10\", \"Topic10\", \"Topic10\", \"Topic10\", \"Topic10\", \"Topic10\", \"Topic10\", \"Topic10\", \"Topic10\", \"Topic10\", \"Topic10\", \"Topic10\", \"Topic10\", \"Topic10\", \"Topic10\", \"Topic10\"], \"Freq\": [18218.0, 13146.0, 6491.0, 18142.0, 39618.0, 8388.0, 13571.0, 15453.0, 17365.0, 7613.0, 23896.0, 7091.0, 6892.0, 5673.0, 23691.0, 11350.0, 4172.0, 11987.0, 6039.0, 9010.0, 49672.0, 4859.0, 7462.0, 51894.0, 8255.0, 15527.0, 9377.0, 13493.0, 12416.0, 7146.0, 2279.6655760293365, 2117.466990973199, 1267.8935150911755, 1169.42888933685, 2515.7151425387615, 933.8137494587302, 3322.193139466667, 769.3801598078533, 737.2372938149397, 671.4398596072007, 611.8244047719539, 587.8210498287187, 555.0900477799495, 549.0181160748396, 539.7595543524953, 525.4411192850754, 522.9573289677672, 491.68791113915495, 476.52647188383617, 453.9270463602731, 371.1661257668037, 369.99349200625494, 362.0496141616203, 360.9320430957303, 351.63341185009284, 335.30180090375836, 302.7941115849622, 299.4491787796139, 299.22261906382977, 286.98035479503, 6095.026682259378, 6465.232169838243, 9419.185602499312, 11134.2635955864, 2841.9868260519415, 1785.6761034575052, 1526.0747193703066, 1379.8604820912033, 1281.868150605963, 2841.9438709928104, 4281.297895032634, 854.1120013889437, 1684.9803493817324, 2344.9687249575923, 12536.269051853946, 9608.719587914817, 3665.2671931396535, 2830.669612783295, 1353.873114598807, 2958.7117363207894, 1771.4227673686091, 4100.968889728341, 2044.5023684999787, 1853.7685624336355, 11899.51985599108, 5035.302133865838, 4773.896958498805, 4117.847253257874, 5656.379166594989, 4940.5190460664835, 3868.0600165605993, 4716.191371020689, 4047.624978082298, 3963.9048404538007, 6126.4525507185135, 3603.8678923376747, 4766.186677757177, 3235.2031882456063, 3170.2580599270573, 2941.774472748055, 1656.9798754408473, 1322.658113500298, 1082.1392583831584, 920.5007416940841, 866.53980878767, 840.4141591216418, 694.7061821930204, 653.5903715616118, 633.8735831275188, 595.9038983385425, 586.2175413256534, 581.9032036231605, 537.3626461632208, 509.2007677102343, 502.2958188992297, 466.68374106656125, 449.80949764061006, 429.75774838966026, 417.00853532023615, 395.9010510452654, 393.5189471890726, 379.35091275153934, 362.0060547662324, 354.33478863880316, 338.4531060958266, 325.90272643099433, 307.34194901356204, 302.5607981909083, 282.58934434817905, 281.28861637721167, 2337.383450756856, 3455.4178470430115, 2804.509469410659, 1171.5373737039433, 1856.4436215781113, 4757.6601849333865, 3313.41362699078, 4246.67776238886, 1058.0316405375486, 1245.0491218319892, 1790.086097503784, 1579.4677383545256, 19918.712708672174, 1266.9148487485138, 1336.6670121458633, 13993.078624477419, 6882.603242069186, 2091.9783872801, 5823.807091171118, 6427.601645524329, 1083.3852779047452, 3775.1391892220477, 1698.365496508914, 1603.654096733314, 3717.2822616500407, 3879.4365626880285, 4187.44955370202, 2206.231500301337, 3460.7498124415315, 5190.356660498498, 3812.6715160979215, 1881.0605000799635, 2642.399119740323, 6006.902227036663, 3303.2747050022654, 2957.442837396447, 1930.8808041428754, 2390.7818060219756, 2200.580439976916, 1860.283542526431, 7612.374510753581, 7090.396609114225, 6038.650765571109, 4710.670676243784, 4714.549359877703, 4132.968209784889, 3842.978173698773, 3832.003511083521, 2983.104495649991, 2725.895350468831, 2714.654443653612, 2300.7842664898017, 2287.9508212047645, 2476.3626348414014, 1500.9566969764514, 1328.1173749927077, 1119.7129949346395, 1110.702142517954, 1012.7040450992611, 1016.335441823394, 867.1230601572837, 830.0393471984735, 814.8987780627758, 722.3211903303087, 696.772357509166, 606.8512825379386, 606.431679849367, 594.4302129263821, 533.4426539111702, 530.6172691969215, 2610.4667791966936, 5051.874388704674, 1251.2099272062387, 5870.959226897287, 1734.1199045855715, 3487.392474887274, 3569.096725593847, 4384.638890860833, 5520.508112276435, 2265.308632852583, 9335.01824405046, 2189.3089283729637, 3931.844207283179, 4769.20223202304, 3633.2985920848328, 3422.690539910609, 4795.388351206199, 2309.244152319585, 6891.1683491563945, 2567.2152124246722, 1988.3994244797357, 1675.2226095139551, 1561.9471160742446, 1375.8566744445143, 1075.80884822904, 903.2189138356125, 806.2231508852536, 731.6506518332777, 718.7699165212072, 656.1254895812613, 637.4245143300972, 581.7601125567777, 545.9878858694307, 519.9567914590277, 505.0921857716969, 460.96021470321307, 458.86002384414724, 450.8336773448984, 448.62644271283426, 434.7504831205795, 418.45069651543884, 408.2992689924799, 380.5818190655284, 377.8284063421731, 377.2133664236984, 365.98305659732097, 348.6158531799463, 328.5314586373758, 1759.1414479038183, 925.2472314708241, 1813.2322644968583, 1897.3312842480318, 1806.6478294025603, 4099.360072549309, 2583.6565728159053, 1188.058797985389, 614.8568702107406, 947.7252976526262, 725.6647027950459, 10755.440224963852, 3241.2591286536585, 7315.215948378085, 1399.6694444497462, 2203.238794315559, 3972.3598381475945, 5024.445926456885, 1778.462234654429, 2217.2646731101277, 3531.4946938368657, 2160.763549185011, 2125.964543186278, 1264.520501747451, 1949.7506194993102, 2719.756411561371, 4015.771043515947, 1805.5220743349505, 3239.3517167299933, 1917.1061166448317, 2000.0139341262295, 1880.6579518679473, 1576.475569031, 1982.5984993396737, 1776.2292819326965, 1623.0263817617924, 1193.5517791626783, 1192.5865058056932, 1071.52457452086, 975.5992888106088, 955.3908290876657, 883.9661220865519, 883.664867354645, 768.5944035495163, 732.1782811435052, 666.4041900340125, 630.1544865577162, 625.5413023914348, 612.362995456681, 567.0543853826064, 514.8706050427468, 422.9476141653385, 405.31850612645223, 404.3274085415517, 394.2391053828806, 389.1018626277746, 372.4858219008301, 364.71815328988407, 351.89326659207677, 349.3984021199593, 346.27077249406244, 334.86330195004797, 326.15399093602053, 1529.3013163248158, 3209.4700561514715, 1471.2525644997015, 1387.3968090670978, 1396.1176882441066, 2383.4474640877916, 1370.7183696162913, 3580.5543261620574, 1460.477961226861, 3777.6464466570833, 2593.317897674639, 1882.9722680264429, 3789.1788079736525, 1520.17294502805, 2324.833032349932, 6440.477553710085, 2585.6476136065858, 4753.731086500945, 1561.9752821756115, 2249.4484881159347, 2061.1116279970033, 2211.749345064825, 2913.6802909064127, 1261.4886529577811, 1666.5425775849399, 1755.3056516173299, 1344.555137142324, 1316.5884543404431, 1653.7505627492276, 1523.3540917493053, 1264.8367516681187, 1038.5907347007133, 939.742473759106, 684.3203083742155, 618.1984275105533, 573.5543139019082, 555.2900281594991, 493.34436535039714, 475.18886666716054, 471.08123692880355, 418.23862277561244, 408.0222509308335, 375.4159473456478, 365.7777061349038, 351.41213856452737, 319.12964747698146, 302.84608384707695, 298.29256695582103, 266.8808218522005, 258.88401854088147, 257.794290017188, 250.90320113559412, 243.59097678973467, 237.50450276821368, 233.99043040776795, 216.95684283332054, 215.40863131824526, 210.75478041188794, 1462.4659516314975, 298.7806870674921, 10747.908877561076, 13501.134342189605, 618.3194739423811, 705.5644302468488, 2273.861128923239, 647.0432677300781, 4098.711936311209, 575.5286003110488, 1552.8967025776237, 1408.745630796434, 1683.3402762851997, 3439.3107733129696, 6134.3729664624025, 1291.4138574556366, 1457.0383399973732, 1783.1195543746956, 1003.6812513814547, 4593.750236544006, 3109.194036809506, 1355.3359701565257, 1277.0044364471544, 1498.5525624235474, 945.5751990503069, 1656.7724704882453, 1455.9735237706345, 1212.0032605810252, 1317.7403358228178, 1139.7435613356588, 894.1658358358216, 892.6846813479893, 649.3761798695602, 626.2827258477121, 603.2564176074119, 598.825886068872, 594.5060190973475, 591.757895611301, 556.893369224731, 556.5349856824809, 533.6073883154022, 518.1064634740916, 512.2712841430558, 441.05387222856984, 370.7693187659708, 339.7344665452372, 333.0700185494865, 325.0049949239799, 307.3955388084336, 281.8431974198181, 281.6012485891829, 280.7285342961147, 279.9160310659057, 245.57601906969117, 241.64775585486132, 233.3319552490514, 222.17598356294454, 213.95137865922325, 213.11739941521404, 203.79706014733756, 593.0935590590361, 805.2333302289682, 555.1435682702471, 1063.0311941519515, 634.6002812800255, 2708.5176446862574, 741.166512468732, 2349.2662304642977, 2203.696094819464, 6777.683837030416, 1151.56262609012, 4275.5992228861, 1445.627304750237, 1682.0696581726604, 6140.741075630002, 912.1952407612931, 4111.6202374139575, 1147.2883539571126, 1000.1777520119583, 3402.0760736655197, 6612.014258934694, 4378.260686916905, 2357.9926000807122, 2066.657382273789, 1044.6616303024064, 2013.563914564687, 1048.478717432406, 1514.64134297467, 2157.5759758706113, 2287.0664427497945, 1497.5447726265843, 2246.360578069324, 1345.5596845739701, 1192.856866485795, 1376.7299681783504, 1934.6955861859312, 2962.6374255949736, 1943.9699356028884, 1281.3487688647901, 1204.4371136310915, 1183.079914748821, 991.961966264672, 993.4601818323852, 901.6452078105864, 816.2216990439822, 585.7057472933778, 505.8435810931231, 460.50792967122754, 448.21665913033013, 443.64621219718816, 442.6610202321136, 439.4185036238274, 435.69488537618935, 429.162394243176, 427.46871799070476, 423.10454274895835, 382.1383581629588, 382.0016935058388, 373.08691171961743, 350.6505266316591, 350.1512504167186, 332.84278664371755, 330.0957564135488, 323.3117947747091, 322.27458074088497, 316.854046024501, 2138.947808713351, 1731.9302376022797, 2430.240755042888, 1936.7655498284373, 1163.2312557705916, 1406.517522633387, 850.1316992444683, 1319.4201752889085, 3022.647227335275, 854.8278547027128, 4592.078028178659, 1968.3953989739348, 3814.1996286440453, 1483.6618555560449, 1064.2661373090218, 5309.779097778629, 3830.2890205598437, 2108.5303557291613, 1267.1587501862596, 1806.7901819036533, 783.6240926481402, 1145.7176104063224, 1345.0311287374723, 941.282023172699, 943.2542570703996, 2574.0015145302455, 2314.402997294104, 1453.6624878795947, 1309.7313806364402, 1246.5854985887115, 1155.1838310256312, 1011.9957384303076, 878.3391449493193, 874.5044681262759, 874.2782845132468, 864.0344512415369, 717.2329360352323, 704.539401595644, 658.5372701776319, 617.8473936900526, 565.5367328676034, 561.8536394143736, 535.0918708801272, 521.4913544213673, 486.95685414232463, 481.47200403008634, 480.8463370813815, 480.2112195446007, 460.52214323350734, 448.8739609804134, 413.74866620846257, 413.6494618865692, 400.7491982957293, 388.36565918054225, 362.94790371097196, 5153.540184155923, 692.5963739727613, 2392.1549965257877, 721.6993739841586, 1037.4973671097293, 1508.5829228828368, 1240.3917956494804, 1751.8393847049656, 1056.3436115007744, 2701.837520898519, 1282.3619833993505, 1083.0505076125726, 874.3109051228369, 907.2487132630213, 943.4748883510712, 1521.9516057871735, 954.6341577602315, 771.7385961563305, 751.4137832123408, 914.1427496059206, 766.5142669228421, 764.6853948098781, 6490.537249576584, 4171.699914862694, 2497.6647764680683, 1874.719137693765, 1464.795363787547, 1462.6423352982795, 919.3030480239665, 846.3928422732431, 782.3245006786474, 756.2308012007275, 678.0394232307912, 661.5274390562449, 643.2003475798666, 537.3174871258591, 486.7164875357408, 428.38849982690977, 392.03143315854356, 383.86475558521215, 363.5057820564709, 339.44605200654246, 310.16501758657495, 282.67846485520414, 267.3724627576391, 244.97572742955768, 230.72305306788328, 213.0233361868663, 210.79709771452053, 203.8406658708387, 202.0913929767586, 194.22736871964486, 912.0836403625974, 5182.439601870776, 3133.6764712739264, 1764.8304958154617, 742.7294993320241, 527.9039956590424, 1067.6781160308965, 1207.5319797323768, 609.3519944742895, 508.8138334973809, 637.8980778850047, 996.220784070978, 824.3525953352816, 611.8853978807575, 480.8290213461543, 568.8585894160167, 514.848809842782], \"Term\": [\"dry\", \"spin\", \"cabernet\", \"aroma\", \"fruit\", \"blend\", \"black\", \"palate\", \"tannin\", \"apple\", \"finish\", \"citrus\", \"little\", \"pinot\", \"cherry\", \"blackberry\", \"merlot\", \"berry\", \"peach\", \"year\", \"flavor\", \"sauvignon\", \"chocolate\", \"wine\", \"crisp\", \"spice\", \"nose\", \"sweet\", \"oak\", \"like\", \"meat\", \"mocha\", \"raisin\", \"bone\", \"cedar\", \"heat\", \"coffee\", \"mushroom\", \"minty\", \"personality\", \"succulent\", \"stew\", \"barbera\", \"richly\", \"leathery\", \"medicinal\", \"soon\", \"briary\", \"selection\", \"push\", \"game\", \"2014\", \"veer\", \"aggressive\", \"cure\", \"offset\", \"fudge\", \"porty\", \"narrow\", \"cover\", \"dark\", \"chocolate\", \"blackberry\", \"black\", \"licorice\", \"blueberry\", \"dusty\", \"hot\", \"rustic\", \"tobacco\", \"currant\", \"espresso\", \"roast\", \"leather\", \"cherry\", \"tannin\", \"pepper\", \"cassis\", \"jam\", \"tannic\", \"lot\", \"plum\", \"alcohol\", \"earthy\", \"flavor\", \"spice\", \"drink\", \"red\", \"finish\", \"good\", \"berry\", \"dry\", \"sweet\", \"ripe\", \"wine\", \"palate\", \"fruit\", \"rich\", \"aroma\", \"note\", \"variety\", \"case\", \"dish\", \"aftertaste\", \"natural\", \"mountain\", \"screwcap\", \"match\", \"potential\", \"appellation\", \"stuff\", \"rh\\u00f4ne\", \"gorgeous\", \"different\", \"benefit\", \"sturdy\", \"relatively\", \"craft\", \"massive\", \"intensely\", \"000\", \"manage\", \"stylish\", \"county\", \"considerable\", \"poise\", \"herbaceous\", \"northern\", \"fruitiness\", \"develope\", \"plenty\", \"great\", \"wood\", \"produce\", \"food\", \"age\", \"character\", \"structure\", \"impressive\", \"concentration\", \"shows\", \"powerful\", \"wine\", \"attractive\", \"freshness\", \"fruit\", \"acidity\", \"juicy\", \"ripe\", \"tannin\", \"develop\", \"year\", \"edge\", \"richness\", \"balance\", \"soft\", \"rich\", \"firm\", \"fresh\", \"good\", \"red\", \"delicious\", \"texture\", \"flavor\", \"drink\", \"spice\", \"fine\", \"black\", \"berry\", \"currant\", \"apple\", \"citrus\", \"peach\", \"pear\", \"pineapple\", \"chardonnay\", \"lime\", \"lemon\", \"melon\", \"honey\", \"apricot\", \"blanc\", \"grapefruit\", \"tropical\", \"riesling\", \"zesty\", \"tangerine\", \"chard\", \"honeysuckle\", \"zest\", \"honeyed\", \"nectarine\", \"mango\", \"peel\", \"kiwi\", \"golden\", \"prosecco\", \"gooseberry\", \"sparkle\", \"continue\", \"orange\", \"white\", \"refresh\", \"crisp\", \"stone\", \"clean\", \"green\", \"fresh\", \"acidity\", \"creamy\", \"flavor\", \"mineral\", \"sweet\", \"finish\", \"palate\", \"aroma\", \"wine\", \"note\", \"little\", \"silky\", \"intensity\", \"appeal\", \"cool\", \"tangy\", \"citrusy\", \"minerally\", \"2015\", \"example\", \"climate\", \"flat\", \"pomegranate\", \"de\", \"washington\", \"moderate\", \"oily\", \"lee\", \"build\", \"papaya\", \"14\", \"past\", \"nutmeg\", \"walla\", \"couple\", \"traditional\", \"persistent\", \"half\", \"cru\", \"brilliant\", \"nicely\", \"cranberry\", \"toasty\", \"barrel\", \"lush\", \"long\", \"medium\", \"supple\", \"display\", \"length\", \"effort\", \"fruit\", \"mouth\", \"finish\", \"follow\", \"bodied\", \"note\", \"good\", \"acid\", \"hint\", \"drink\", \"light\", \"texture\", \"strawberry\", \"bite\", \"spice\", \"flavor\", \"offer\", \"wine\", \"balance\", \"ripe\", \"oak\", \"spicy\", \"butter\", \"sugar\", \"bitter\", \"olive\", \"excellent\", \"bacon\", \"sandalwood\", \"burn\", \"run\", \"grenache\", \"banana\", \"residual\", \"petite\", \"brown\", \"sirah\", \"chocolaty\", \"ample\", \"20\", \"background\", \"mourv\\u00e8dre\", \"pungent\", \"custard\", \"complete\", \"fan\", \"flesh\", \"tang\", \"40\", \"place\", \"obvious\", \"welcome\", \"fill\", \"nice\", \"pie\", \"oaky\", \"caramel\", \"smoky\", \"strong\", \"like\", \"sharp\", \"vanilla\", \"toast\", \"syrah\", \"oak\", \"price\", \"bite\", \"flavor\", \"soft\", \"fruit\", \"creamy\", \"drink\", \"rich\", \"good\", \"wine\", \"add\", \"ripe\", \"finish\", \"fruity\", \"taste\", \"old\", \"start\", \"100\", \"vine\", \"french\", \"impression\", \"super\", \"austere\", \"summer\", \"fall\", \"charm\", \"huge\", \"lose\", \"surprisingly\", \"totally\", \"bad\", \"combination\", \"ltd\", \"exhibit\", \"reward\", \"meld\", \"pronounce\", \"rare\", \"needs\", \"brood\", \"roussanne\", \"life\", \"absolutely\", \"tasted\", \"fashion\", \"cellar\", \"nearly\", \"spin\", \"dry\", \"kind\", \"want\", \"new\", \"decant\", \"year\", \"thing\", \"young\", \"time\", \"elegant\", \"oak\", \"wine\", \"bottle\", \"colon\", \"age\", \"need\", \"flavor\", \"cherry\", \"tannic\", \"fine\", \"like\", \"jammy\", \"rich\", \"good\", \"blackberry\", \"tannin\", \"acidity\", \"chunky\", \"basic\", \"improve\", \"snappy\", \"air\", \"syrupy\", \"rubber\", \"50\", \"mildly\", \"straightforward\", \"generic\", \"rubbery\", \"tempranillo\", \"smells\", \"healthy\", \"stemmy\", \"grabby\", \"heft\", \"dull\", \"barolo\", \"sticky\", \"house\", \"garnacha\", \"resiny\", \"cigar\", \"common\", \"asparagus\", \"box\", \"sun\", \"llc\", \"leafy\", \"mild\", \"vegetal\", \"smell\", \"decent\", \"herbal\", \"tomato\", \"simple\", \"feel\", \"palate\", \"candied\", \"nose\", \"jammy\", \"solid\", \"aroma\", \"fairly\", \"berry\", \"finishes\", \"sour\", \"sweet\", \"flavor\", \"finish\", \"plum\", \"like\", \"overall\", \"raspberry\", \"way\", \"taste\", \"soft\", \"red\", \"green\", \"cherry\", \"touch\", \"imported\", \"mouth\", \"wine\", \"cab\", \"close\", \"expression\", \"subtle\", \"best\", \"ripeness\", \"rise\", \"cheese\", \"forest\", \"menthol\", \"robust\", \"brunello\", \"luminous\", \"cellaring\", \"breathe\", \"appear\", \"dimensional\", \"petal\", \"blue\", \"chop\", \"tightly\", \"tonic\", \"restrain\", \"13\", \"unfold\", \"impart\", \"sonoma\", \"wind\", \"linear\", \"cracker\", \"tone\", \"almond\", \"pair\", \"deliver\", \"sangiovese\", \"exotic\", \"violet\", \"thick\", \"offer\", \"mature\", \"aroma\", \"bright\", \"spice\", \"open\", \"wild\", \"wine\", \"fruit\", \"note\", \"mouthfeel\", \"berry\", \"flower\", \"soft\", \"cherry\", \"mineral\", \"toast\", \"noir\", \"heavy\", \"turn\", \"base\", \"try\", \"cream\", \"perfect\", \"set\", \"work\", \"modest\", \"opulent\", \"release\", \"single\", \"compact\", \"easily\", \"tar\", \"begin\", \"tinge\", \"component\", \"2009\", \"kick\", \"cr\\u00e8me\", \"sparkler\", \"inc\", \"beer\", \"near\", \"limit\", \"pale\", \"primary\", \"santa\", \"pinot\", \"winemaker\", \"vineyard\", \"boast\", \"winery\", \"imported\", \"vintage\", \"raspberry\", \"color\", \"cherry\", \"colon\", \"bottle\", \"strawberry\", \"mix\", \"nice\", \"wine\", \"mouth\", \"scent\", \"suggest\", \"fruit\", \"earth\", \"flavor\", \"cabernet\", \"merlot\", \"hard\", \"forward\", \"bordeaux\", \"franc\", \"napa\", \"use\", \"milk\", \"dryness\", \"petit\", \"verdot\", \"true\", \"italy\", \"worth\", \"class\", \"central\", \"30\", \"creek\", \"american\", \"immediate\", \"70\", \"step\", \"chalk\", \"ground\", \"usually\", \"trace\", \"equal\", \"18\", \"strength\", \"modern\", \"blend\", \"sauvignon\", \"syrah\", \"valley\", \"15\", \"grape\", \"cassis\", \"malbec\", \"10\", \"pure\", \"chocolate\", \"style\", \"deep\", \"tough\", \"long\", \"mix\"], \"Total\": [18218.0, 13146.0, 6491.0, 18142.0, 39618.0, 8388.0, 13571.0, 15453.0, 17365.0, 7613.0, 23896.0, 7091.0, 6892.0, 5673.0, 23691.0, 11350.0, 4172.0, 11987.0, 6039.0, 9010.0, 49672.0, 4859.0, 7462.0, 51894.0, 8255.0, 15527.0, 9377.0, 13493.0, 12416.0, 7146.0, 2280.5499356961504, 2118.3512847136576, 1268.7777979049633, 1170.3134328188398, 2517.6984928619186, 934.698123493647, 3325.818433158351, 770.2645506544376, 738.121664433977, 672.3243673717204, 612.70884193461, 588.7053236897953, 555.974405836192, 549.9025878190057, 540.6438793427625, 526.3254986705172, 523.841781892034, 492.5721633068355, 477.4110935213038, 454.8115518787649, 372.05046366453615, 370.8778393352619, 362.9340675466297, 361.81657588579804, 352.51767797479846, 336.1863187525076, 303.67844180234226, 300.3334154418256, 300.10704608529295, 287.8646352760951, 6656.4026138288145, 7462.240395991699, 11350.109181582002, 13571.44351850696, 3285.6016259556154, 2007.7971054814036, 1726.1150349643967, 1550.6199845423346, 1470.0993564771293, 3574.5527504731986, 6142.365517618899, 942.7906883120685, 2103.6008747152287, 3126.6488069145166, 23691.61143702032, 17365.533275818525, 5518.469374317587, 4038.9888373542285, 1658.0683227931752, 4723.775108225603, 2441.3612012828935, 8028.765258258613, 3330.5183258552856, 2903.3621875229474, 49672.5277672464, 15527.960538039713, 14403.79688399796, 11658.207544052453, 23896.73426436513, 19255.629005070015, 11987.734684240151, 18218.13284737343, 13493.278444407417, 13923.457411182497, 51894.48196926247, 15453.929427219544, 39618.32649560082, 11983.324797544037, 18142.405945740786, 12649.982324897344, 1657.8642366187153, 1323.5424132999124, 1083.023606162058, 921.384929526725, 867.4241729481566, 841.2986169773922, 695.5903096854317, 654.4747576130835, 634.7578158810805, 596.7881542611339, 587.1019695596708, 582.7875824041084, 538.2469719414307, 510.08519096620955, 503.18009864307555, 467.5681126171216, 450.6937924311886, 430.6420773431596, 417.8929031652493, 396.78532293396535, 394.4031576305143, 380.2352356925861, 362.8903403520068, 355.21903704909175, 339.3373565283052, 326.78695582643877, 308.2261732121848, 303.445163192392, 283.47352900785205, 282.1728700617547, 2736.3431808309288, 4172.315581975453, 3474.534862015708, 1355.2118080589876, 2296.1880553309566, 6787.353219953029, 4659.082118686277, 6308.531533042862, 1254.631982034402, 1526.736567958753, 2355.1992281836765, 2076.608139919723, 51894.48196926247, 1662.7196223088379, 1802.1184558456375, 39618.32649560082, 15631.844745238728, 3325.6925631919153, 13923.457411182497, 17365.533275818525, 1425.5000479631165, 9010.510834000677, 2782.1352409698347, 2569.290153343322, 9538.798636949636, 10226.548826648874, 11983.324797544037, 4262.116113550125, 9429.573970457057, 19255.629005070015, 11658.207544052453, 3333.9812189456275, 6438.554838557624, 49672.5277672464, 14403.79688399796, 15527.960538039713, 4720.773343560094, 13571.44351850696, 11987.734684240151, 6142.365517618899, 7613.259023341437, 7091.2811310485995, 6039.5352645600005, 4711.555176389066, 4715.434992739735, 4133.852730509806, 3843.8626559700033, 3832.88800256114, 2983.9890023290677, 2726.7798749921126, 2715.538954647509, 2301.6687566019277, 2288.8353184412895, 2477.658900008001, 1501.8411837027643, 1329.0019809058665, 1120.5975242615173, 1111.5866631788308, 1013.5885214231691, 1017.2237274356697, 868.0075957809202, 830.9238572070793, 815.7832687362527, 723.2328033092517, 697.6568480826922, 607.7358173700052, 607.3161708119412, 595.3146857692337, 534.3271730288192, 531.5022654223226, 2817.9775563755547, 6426.883835639002, 1368.2825154600114, 8255.322063475589, 2209.859386053436, 5414.159063021606, 6774.396836367707, 9429.573970457057, 15631.844745238728, 4222.241415734381, 49672.5277672464, 4363.329667489472, 13493.278444407417, 23896.73426436513, 15453.929427219544, 18142.405945740786, 51894.48196926247, 12649.982324897344, 6892.055507610912, 2568.102292619523, 1989.2866003123777, 1676.1097278177494, 1562.8342302649528, 1376.7437602632342, 1076.69590839832, 904.106002056575, 807.110274776911, 732.5377898579803, 719.6569935354808, 657.0174478834863, 638.3115852287274, 582.647312253107, 546.8749601060846, 520.843854715554, 505.97927190695543, 461.84732833321533, 459.7471212671055, 451.72076569128086, 449.51354286935896, 435.63758490675167, 419.33781399727263, 409.18628996691325, 381.4689540372911, 378.7156233012806, 378.10044397187016, 366.870146628784, 349.5030081337853, 329.41860059029136, 1961.5091513831, 1008.9661525843294, 2097.1942645303798, 2237.4441326028063, 2157.8425350249777, 5557.3496251421, 3643.494656120231, 1460.4302210049104, 682.3250154970902, 1225.24797858537, 877.5609842734516, 39618.32649560082, 7468.278967626956, 23896.73426436513, 2339.9226374198583, 4688.080529852729, 12649.982324897344, 19255.629005070015, 3771.449589245399, 5597.054524787673, 14403.79688399796, 6494.566108721707, 6438.554838557624, 2235.4672412178647, 6739.770059309303, 15527.960538039713, 49672.5277672464, 7167.410289772705, 51894.48196926247, 9538.798636949636, 13923.457411182497, 12416.789269105302, 5134.28732445343, 1983.4862752744834, 1777.117076878061, 1623.9143038494603, 1194.4396471613852, 1193.4744946557555, 1072.4132071097033, 976.4871150071448, 956.2786786102266, 884.8540326682551, 884.5526767888771, 769.4822727242226, 733.0660655336765, 667.2919558689355, 631.0422928936547, 626.4290563072407, 613.2508533226062, 567.9422598423783, 515.758534466292, 423.8355897176097, 406.20627634449085, 405.21528324633766, 395.12692286419804, 389.98977817510695, 373.3736763866605, 365.606072889895, 352.78114474851213, 350.28627191583405, 347.1587198009612, 335.75119862178974, 327.0418869773829, 1610.7949912469603, 4153.7360055474965, 1758.404689084167, 1722.6163910262517, 1844.3836974686435, 3726.934284732655, 1966.1512714405962, 7146.457874308584, 2198.4816429321686, 8547.863880215078, 5485.0768598789655, 3733.079922146713, 12416.789269105302, 3180.9020914667803, 6739.770059309303, 49672.5277672464, 10226.548826648874, 39618.32649560082, 4222.241415734381, 14403.79688399796, 11983.324797544037, 19255.629005070015, 51894.48196926247, 3155.420405627246, 13923.457411182497, 23896.73426436513, 4561.142662798115, 4278.489397881075, 1654.6383384966025, 1524.2420348631292, 1265.724590512225, 1039.4785086867332, 940.6302734782573, 685.2081842455568, 619.0863260533843, 574.4421636220636, 556.1779341636271, 494.2322614931591, 476.07672611671495, 471.9690886315799, 419.1264357944927, 408.91015765070597, 376.3037347490748, 366.6656374737069, 352.3000531860047, 320.0174905538222, 303.73405979639875, 299.18039249373993, 267.7687042324677, 259.7719495915701, 258.68215148806956, 251.79096960579656, 244.47882368543986, 238.39237303432853, 234.87825232869454, 217.84461174627415, 216.2964016570731, 211.64257451305477, 1489.7346953417336, 300.3202179259998, 13146.54155675274, 18218.13284737343, 706.9571990256887, 831.0010533462436, 3516.220822815133, 791.2670553713884, 9010.510834000677, 775.4018680951422, 3136.116121910803, 2759.8888477672276, 3745.6308219705656, 12416.789269105302, 51894.48196926247, 3400.5053544118136, 4565.434557329228, 6787.353219953029, 2317.528382269241, 49672.5277672464, 23691.61143702032, 4723.775108225603, 4720.773343560094, 7146.457874308584, 2391.9927053936503, 11983.324797544037, 19255.629005070015, 11350.109181582002, 17365.533275818525, 15631.844745238728, 895.0526102290917, 893.571446804373, 650.2631783874772, 627.1694655586168, 604.14326402846, 599.7126752622789, 595.3927937583652, 592.6448138295417, 557.7800929800909, 557.42182370322, 534.4941152393171, 518.9931739351649, 513.1580886056631, 441.94061881520116, 371.6565396041966, 340.62121524574377, 333.95672150484546, 325.89186574275345, 308.28227068373377, 282.7302533467819, 282.48801851559773, 281.6155329141873, 280.8027577765737, 246.46272912576384, 242.53463573773533, 234.21875134256533, 223.06278396030373, 214.83822581604656, 214.00428461731045, 204.68454717313145, 599.0996866624084, 826.1773964145654, 567.6954484512376, 1173.2289322473428, 715.3325151296865, 3973.816160459618, 894.3458320835206, 3604.9840332620092, 3645.835257056795, 15453.929427219544, 1684.368415902128, 9377.337955931538, 2391.9927053936503, 3013.9442989504123, 18142.405945740786, 1333.3604739937432, 11987.734684240151, 1901.3032632034904, 1547.453525394546, 13493.278444407417, 49672.5277672464, 23896.73426436513, 8028.765258258613, 7146.457874308584, 1877.2794108226208, 7311.200536063414, 1947.0716536080783, 4278.489397881075, 10226.548826648874, 11658.207544052453, 6774.396836367707, 23691.61143702032, 5771.1973364132045, 3741.613391657865, 7468.278967626956, 51894.48196926247, 2963.5200877178017, 1944.8708202470361, 1282.2311826027806, 1205.3196857503535, 1183.962566816025, 992.8446241217848, 994.3521023135727, 902.5277259599079, 817.1041184623523, 586.5882543902638, 506.72614931177156, 461.3903105688783, 449.09904842617027, 444.52887499989953, 443.5436204962688, 440.30095988921295, 436.5774576135219, 430.04482358862293, 428.3511830875071, 423.98699736000816, 383.0208610248879, 382.8840911979442, 373.9695104135287, 351.5331680940602, 351.033763250422, 333.72531135849806, 330.9784980002289, 324.19429686282604, 323.1570578945619, 317.73656458708535, 2346.182919159233, 1921.0982959127443, 2918.2126493430446, 2302.0515301980854, 1406.602644926781, 1791.0433751828148, 1096.6102092417955, 2166.206814883349, 7167.410289772705, 1293.1753849247334, 18142.405945740786, 4864.462752474356, 15527.960538039713, 3340.142994124164, 2228.7604250319123, 51894.48196926247, 39618.32649560082, 12649.982324897344, 4444.27161754391, 11987.734684240151, 1915.3399759477809, 10226.548826648874, 23691.61143702032, 4363.329667489472, 5485.0768598789655, 2574.889014374151, 2315.2906486073034, 1454.5501464593412, 1310.619054877726, 1247.4731654894483, 1156.0715041335973, 1012.883389629226, 879.2268072115053, 875.3921473555679, 875.1659160365745, 864.9221378028376, 718.120543030903, 705.4269553140882, 659.4249338286797, 618.7350749451667, 566.4243906665176, 562.7413065205641, 535.9795518933495, 522.3789974107834, 487.84447212842736, 482.3597053122039, 481.73392807120405, 481.098842675978, 461.40973846943615, 449.76152669968394, 414.6362980618365, 414.53711569601126, 401.6367481553586, 389.25328939299385, 363.8354282390014, 5673.982573713876, 790.7511108746343, 4283.5960640163485, 936.1004546213186, 1866.6478728942834, 3741.613391657865, 3400.405099275709, 7311.200536063414, 2791.9769927905463, 23691.61143702032, 4565.434557329228, 3400.5053544118136, 2235.4672412178647, 2584.9268449765636, 4153.7360055474965, 51894.48196926247, 7468.278967626956, 2231.2682145823896, 1714.5459730721739, 39618.32649560082, 2447.701147653607, 49672.5277672464, 6491.424555206937, 4172.587242212559, 2498.552197025665, 1875.6065531090146, 1465.6826732072536, 1463.5296131994544, 920.1903842795, 847.2802594191846, 783.2119031870125, 757.118220353675, 678.9266722728419, 662.4146829332386, 644.087805024416, 538.2048687918033, 487.60392115277523, 429.2759329781688, 392.9188173086722, 384.75207349160246, 364.39314185597954, 340.33351494525994, 311.0524214437425, 283.56576609289704, 268.2599058500381, 245.8632543301331, 231.6104372587879, 213.91071692067885, 211.68453950234147, 204.72802824432867, 202.97879389911012, 195.11475283122263, 993.5832841214326, 8388.134475456194, 4859.027187011165, 3733.079922146713, 1642.9738060594, 951.5319438697195, 3207.405192861317, 4038.9888373542285, 1340.5806939619351, 1104.8956095239703, 2042.3953051146345, 7462.240395991699, 5237.606551012734, 2111.5715988304796, 1103.0675541934286, 5557.3496251421, 2584.9268449765636], \"loglift\": [30.0, 29.0, 28.0, 27.0, 26.0, 25.0, 24.0, 23.0, 22.0, 21.0, 20.0, 19.0, 18.0, 17.0, 16.0, 15.0, 14.0, 13.0, 12.0, 11.0, 10.0, 9.0, 8.0, 7.0, 6.0, 5.0, 4.0, 3.0, 2.0, 1.0, 1.7911, 1.7911, 1.7908, 1.7907, 1.7907, 1.7905, 1.7904, 1.7903, 1.7903, 1.7902, 1.79, 1.79, 1.7899, 1.7899, 1.7898, 1.7898, 1.7898, 1.7897, 1.7896, 1.7895, 1.7891, 1.7891, 1.789, 1.789, 1.789, 1.7888, 1.7886, 1.7885, 1.7885, 1.7884, 1.7034, 1.6481, 1.605, 1.5935, 1.6464, 1.6742, 1.6683, 1.6748, 1.6545, 1.5621, 1.4305, 1.6927, 1.5696, 1.5038, 1.155, 1.1997, 1.3823, 1.436, 1.5888, 1.3236, 1.4707, 1.1197, 1.3035, 1.3428, 0.3625, 0.6653, 0.6872, 0.7508, 0.3505, 0.4311, 0.6604, 0.4401, 0.5874, 0.5351, -0.3451, 0.3356, -0.3263, 0.4821, 0.047, 0.3328, 1.8914, 1.8913, 1.8911, 1.891, 1.8909, 1.8909, 1.8907, 1.8906, 1.8906, 1.8905, 1.8904, 1.8904, 1.8903, 1.8902, 1.8902, 1.8901, 1.89, 1.8899, 1.8898, 1.8897, 1.8897, 1.8896, 1.8895, 1.8895, 1.8893, 1.8892, 1.8891, 1.889, 1.8888, 1.8888, 1.7344, 1.7034, 1.6777, 1.7463, 1.6794, 1.5366, 1.5511, 1.4962, 1.7215, 1.688, 1.6176, 1.6183, 0.9344, 1.6201, 1.5932, 0.8512, 1.0716, 1.4284, 1.0203, 0.8981, 1.6175, 1.022, 1.3984, 1.4206, 0.9496, 0.9227, 0.8405, 1.2335, 0.8896, 0.581, 0.7743, 1.3196, 1.0013, -0.2206, 0.4194, 0.2336, 0.998, 0.1556, 0.1968, 0.6975, 2.084, 2.084, 2.084, 2.084, 2.084, 2.0839, 2.0839, 2.0839, 2.0838, 2.0838, 2.0838, 2.0838, 2.0838, 2.0836, 2.0836, 2.0835, 2.0834, 2.0833, 2.0833, 2.0833, 2.0831, 2.0831, 2.0831, 2.0829, 2.0829, 2.0827, 2.0827, 2.0827, 2.0825, 2.0825, 2.0077, 1.8434, 1.9947, 1.7433, 1.8417, 1.6443, 1.4433, 1.3184, 1.0433, 1.4615, 0.4125, 1.3945, 0.8511, 0.4726, 0.6364, 0.4163, -0.2974, 0.3834, 2.1275, 2.1273, 2.1272, 2.1271, 2.1271, 2.127, 2.1268, 2.1267, 2.1266, 2.1265, 2.1264, 2.1263, 2.1263, 2.1261, 2.126, 2.126, 2.1259, 2.1257, 2.1257, 2.1257, 2.1257, 2.1256, 2.1255, 2.1255, 2.1253, 2.1253, 2.1253, 2.1252, 2.1251, 2.125, 2.0188, 2.041, 1.9822, 1.9628, 1.95, 1.8234, 1.7839, 1.9213, 2.0235, 1.8708, 1.9376, 0.8238, 1.293, 0.9439, 1.6138, 1.3726, 0.9694, 0.7842, 1.376, 1.2017, 0.7219, 1.0272, 1.0196, 1.5579, 0.8873, 0.3856, -0.3876, 0.749, -0.6462, 0.5231, 0.1872, 0.2402, 0.9469, 2.3439, 2.3439, 2.3438, 2.3436, 2.3436, 2.3436, 2.3435, 2.3435, 2.3434, 2.3434, 2.3432, 2.3432, 2.3431, 2.343, 2.343, 2.3429, 2.3428, 2.3427, 2.3423, 2.3422, 2.3422, 2.3421, 2.3421, 2.342, 2.342, 2.3419, 2.3418, 2.3418, 2.3417, 2.3417, 2.2925, 2.0865, 2.1661, 2.128, 2.0659, 1.8973, 1.9836, 1.6533, 1.9354, 1.5278, 1.5953, 1.66, 1.1575, 1.606, 1.28, 0.3015, 0.9694, 0.224, 1.35, 0.4876, 0.5841, 0.1804, -0.5354, 1.4276, 0.2216, -0.2667, 1.1229, 1.1658, 2.4793, 2.4793, 2.4791, 2.479, 2.4789, 2.4785, 2.4784, 2.4783, 2.4782, 2.478, 2.478, 2.478, 2.4777, 2.4777, 2.4775, 2.4774, 2.4773, 2.4771, 2.4769, 2.4769, 2.4765, 2.4764, 2.4764, 2.4763, 2.4762, 2.4761, 2.476, 2.4757, 2.4757, 2.4756, 2.4614, 2.4747, 2.2784, 2.1802, 2.3459, 2.3162, 2.0439, 2.2786, 1.6921, 2.1817, 1.777, 1.8073, 1.68, 1.1961, 0.3445, 1.5116, 1.3377, 1.1431, 1.643, 0.0991, 0.4491, 1.2313, 1.1724, 0.9177, 1.5517, 0.5012, -0.1023, 0.2429, -0.0987, -0.1387, 2.5478, 2.5478, 2.5474, 2.5473, 2.5473, 2.5473, 2.5473, 2.5472, 2.5472, 2.5472, 2.5471, 2.547, 2.547, 2.5467, 2.5464, 2.5461, 2.5461, 2.546, 2.5459, 2.5456, 2.5456, 2.5456, 2.5456, 2.5451, 2.5451, 2.545, 2.5448, 2.5446, 2.5446, 2.5444, 2.5387, 2.5231, 2.5264, 2.4501, 2.429, 2.1654, 2.3609, 2.1205, 2.0453, 1.7245, 2.1685, 1.7634, 2.0452, 1.9655, 1.4654, 2.1691, 1.4787, 2.0436, 2.1123, 1.1709, 0.5322, 0.8517, 1.3235, 1.3081, 1.9626, 1.2592, 1.9298, 1.5103, 0.9927, 0.92, 1.0394, 0.1929, 1.0927, 1.4056, 0.8578, -0.7405, 2.6546, 2.6544, 2.6542, 2.6542, 2.6541, 2.654, 2.654, 2.6539, 2.6538, 2.6534, 2.6531, 2.653, 2.6529, 2.6529, 2.6529, 2.6529, 2.6529, 2.6528, 2.6528, 2.6528, 2.6526, 2.6526, 2.6525, 2.6524, 2.6524, 2.6522, 2.6522, 2.6522, 2.6522, 2.6521, 2.5624, 2.5512, 2.4719, 2.4821, 2.4649, 2.4132, 2.4003, 2.1591, 1.7915, 2.2409, 1.281, 1.7502, 1.251, 1.8434, 1.9157, 0.3752, 0.3185, 0.8632, 1.4001, 0.7626, 1.7612, 0.4659, -0.2138, 1.1211, 0.8944, 2.7265, 2.7264, 2.7262, 2.7261, 2.7261, 2.7261, 2.7259, 2.7258, 2.7258, 2.7258, 2.7258, 2.7256, 2.7256, 2.7255, 2.7254, 2.7253, 2.7252, 2.7252, 2.7251, 2.725, 2.725, 2.725, 2.725, 2.7249, 2.7248, 2.7247, 2.7247, 2.7246, 2.7245, 2.7244, 2.6306, 2.5943, 2.1442, 2.4667, 2.1395, 1.8185, 1.7184, 1.2981, 1.7549, 0.5556, 1.457, 1.5827, 1.7881, 1.6798, 1.2446, -0.8024, 0.6697, 1.6651, 1.9019, -1.0422, 1.5658, -1.4469, 3.092, 3.0919, 3.0918, 3.0917, 3.0915, 3.0915, 3.0912, 3.0911, 3.091, 3.091, 3.0908, 3.0908, 3.0908, 3.0905, 3.0903, 3.0901, 3.0899, 3.0898, 3.0897, 3.0895, 3.0893, 3.089, 3.0888, 3.0885, 3.0883, 3.088, 3.0879, 3.0878, 3.0878, 3.0876, 3.0066, 2.6106, 2.6535, 2.343, 2.2982, 2.503, 1.9922, 1.8847, 2.3037, 2.3167, 1.9284, 1.0785, 1.2431, 1.8535, 2.2618, 0.8129, 1.4786], \"logprob\": [30.0, 29.0, 28.0, 27.0, 26.0, 25.0, 24.0, 23.0, 22.0, 21.0, 20.0, 19.0, 18.0, 17.0, 16.0, 15.0, 14.0, 13.0, 12.0, 11.0, 10.0, 9.0, 8.0, 7.0, 6.0, 5.0, 4.0, 3.0, 2.0, 1.0, -4.9799, -5.0537, -5.5665, -5.6474, -4.8813, -5.8724, -4.6033, -6.0661, -6.1087, -6.2022, -6.2952, -6.3352, -6.3925, -6.4035, -6.4205, -6.4474, -6.4521, -6.5138, -6.5451, -6.5937, -6.795, -6.7982, -6.8199, -6.823, -6.8491, -6.8966, -6.9986, -7.0097, -7.0105, -7.0522, -3.9964, -3.9374, -3.5611, -3.3939, -4.7594, -5.2241, -5.3812, -5.4819, -5.5556, -4.7594, -4.3496, -5.9616, -5.2821, -4.9516, -3.2753, -3.5412, -4.505, -4.7634, -5.5009, -4.7191, -5.2321, -4.3927, -5.0887, -5.1867, -3.3274, -4.1874, -4.2407, -4.3886, -4.0711, -4.2064, -4.4511, -4.2529, -4.4058, -4.4267, -3.9913, -4.5219, -4.2423, -4.6298, -4.6501, -4.7249, -5.1984, -5.4238, -5.6245, -5.7863, -5.8467, -5.8773, -6.0677, -6.1287, -6.1593, -6.2211, -6.2375, -6.2449, -6.3245, -6.3783, -6.392, -6.4655, -6.5023, -6.5479, -6.5781, -6.63, -6.636, -6.6727, -6.7195, -6.7409, -6.7868, -6.8246, -6.8832, -6.8989, -6.9672, -6.9718, -4.8544, -4.4635, -4.6722, -5.5451, -5.0848, -4.1437, -4.5054, -4.2573, -5.647, -5.4842, -5.1212, -5.2463, -2.7118, -5.4668, -5.4132, -3.0649, -3.7744, -4.9653, -3.9415, -3.8428, -5.6233, -4.375, -5.1737, -5.2311, -4.3904, -4.3477, -4.2713, -4.9121, -4.4619, -4.0566, -4.3651, -5.0716, -4.7317, -3.9105, -4.5085, -4.6191, -5.0454, -4.8318, -4.9147, -5.0827, -3.4815, -3.5525, -3.713, -3.9614, -3.9606, -4.0922, -4.165, -4.1678, -4.4183, -4.5084, -4.5126, -4.678, -4.6836, -4.6044, -5.1051, -5.2275, -5.3982, -5.4062, -5.4986, -5.495, -5.6538, -5.6975, -5.7159, -5.8365, -5.8725, -6.0107, -6.0114, -6.0314, -6.1396, -6.1449, -4.5517, -3.8915, -5.2871, -3.7412, -4.9607, -4.2621, -4.2389, -4.0331, -3.8028, -4.6935, -3.2775, -4.7276, -4.1421, -3.949, -4.2211, -4.2808, -3.9436, -4.6743, -3.5375, -4.5249, -4.7804, -4.9518, -5.0218, -5.1486, -5.3946, -5.5695, -5.6831, -5.7802, -5.7979, -5.8891, -5.918, -6.0094, -6.0729, -6.1217, -6.1507, -6.2421, -6.2467, -6.2644, -6.2693, -6.3007, -6.3389, -6.3635, -6.4338, -6.441, -6.4426, -6.4729, -6.5215, -6.5808, -4.9029, -5.5454, -4.8726, -4.8273, -4.8762, -4.0569, -4.5185, -5.2954, -5.9541, -5.5214, -5.7884, -3.0923, -4.2917, -3.4777, -5.1315, -4.6778, -4.0883, -3.8534, -4.892, -4.6714, -4.206, -4.6972, -4.7135, -5.233, -4.8, -4.4672, -4.0775, -4.8769, -4.2923, -4.8169, -4.7745, -4.8361, -5.0125, -4.5666, -4.6765, -4.7667, -5.074, -5.0749, -5.1819, -5.2757, -5.2966, -5.3743, -5.3747, -5.5142, -5.5627, -5.6568, -5.7128, -5.7201, -5.7414, -5.8183, -5.9148, -6.1115, -6.1541, -6.1565, -6.1818, -6.1949, -6.2385, -6.2596, -6.2954, -6.3025, -6.3115, -6.345, -6.3714, -4.8262, -4.0849, -4.8649, -4.9236, -4.9173, -4.3824, -4.9356, -3.9755, -4.8722, -3.9219, -4.298, -4.6181, -3.9188, -4.8322, -4.4073, -3.3884, -4.301, -3.6921, -4.805, -4.4403, -4.5277, -4.4572, -4.1816, -5.0187, -4.7402, -4.6883, -4.9549, -4.9759, -4.6125, -4.6946, -4.8806, -5.0777, -5.1777, -5.4949, -5.5965, -5.6714, -5.7038, -5.8221, -5.8596, -5.8683, -5.9872, -6.012, -6.0953, -6.1213, -6.1613, -6.2577, -6.3101, -6.3252, -6.4365, -6.4669, -6.4711, -6.4982, -6.5278, -6.5531, -6.568, -6.6436, -6.6508, -6.6726, -4.7354, -6.3236, -2.7408, -2.5128, -5.5963, -5.4643, -4.2941, -5.5509, -3.7049, -5.668, -4.6754, -4.7728, -4.5948, -3.8803, -3.3016, -4.8598, -4.7391, -4.5372, -5.1119, -3.5908, -3.9812, -4.8115, -4.871, -4.711, -5.1715, -4.6107, -4.7399, -4.9233, -4.8396, -4.9847, -5.1585, -5.1601, -5.4784, -5.5146, -5.552, -5.5594, -5.5666, -5.5713, -5.632, -5.6326, -5.6747, -5.7042, -5.7155, -5.8652, -6.0388, -6.1262, -6.146, -6.1705, -6.2262, -6.313, -6.3139, -6.317, -6.3199, -6.4508, -6.4669, -6.5019, -6.5509, -6.5886, -6.5925, -6.6373, -5.569, -5.2632, -5.6351, -4.9855, -5.5014, -4.0502, -5.3462, -4.1925, -4.2565, -3.133, -4.9055, -3.5937, -4.6781, -4.5266, -3.2317, -5.1385, -3.6328, -4.9092, -5.0464, -3.8222, -3.1577, -3.57, -4.1888, -4.3207, -5.0029, -4.3467, -4.9993, -4.6314, -4.2776, -4.2194, -4.6428, -4.2373, -4.7498, -4.8703, -4.7269, -4.3867, -3.8544, -4.2757, -4.6926, -4.7545, -4.7724, -4.9485, -4.947, -5.044, -5.1435, -5.4754, -5.622, -5.7159, -5.743, -5.7532, -5.7554, -5.7628, -5.7713, -5.7864, -5.7904, -5.8006, -5.9024, -5.9028, -5.9264, -5.9884, -5.9899, -6.0406, -6.0488, -6.0696, -6.0728, -6.0898, -4.1802, -4.3912, -4.0525, -4.2795, -4.7893, -4.5994, -5.1028, -4.6633, -3.8343, -5.0973, -3.4161, -4.2633, -3.6017, -4.546, -4.8782, -3.2709, -3.5975, -4.1945, -4.7037, -4.3489, -5.1843, -4.8044, -4.6441, -5.001, -4.9989, -3.9231, -4.0294, -4.4945, -4.5987, -4.6481, -4.7243, -4.8566, -4.9983, -5.0026, -5.0029, -5.0147, -5.2009, -5.2188, -5.2863, -5.3501, -5.4385, -5.4451, -5.4939, -5.5196, -5.5881, -5.5995, -5.6008, -5.6021, -5.6439, -5.6696, -5.751, -5.7513, -5.783, -5.8144, -5.882, -3.2289, -5.2359, -3.9964, -5.1947, -4.8317, -4.4574, -4.6531, -4.3079, -4.8137, -3.8746, -4.6198, -4.7888, -5.0029, -4.9659, -4.9267, -4.4486, -4.915, -5.1277, -5.1543, -4.9583, -5.1345, -5.1368, -2.6329, -3.0749, -3.5879, -3.8748, -4.1215, -4.123, -4.5874, -4.67, -4.7487, -4.7826, -4.8918, -4.9164, -4.9445, -5.1244, -5.2233, -5.351, -5.4396, -5.4607, -5.5152, -5.5837, -5.6739, -5.7667, -5.8223, -5.9098, -5.9698, -6.0496, -6.0601, -6.0936, -6.1023, -6.142, -4.5952, -2.858, -3.361, -3.9352, -4.8006, -5.1421, -4.4377, -4.3146, -4.9986, -5.1789, -4.9528, -4.507, -4.6964, -4.9944, -5.2355, -5.0673, -5.1671]}, \"token.table\": {\"Topic\": [2, 1, 3, 5, 6, 8, 10, 6, 8, 4, 1, 10, 10, 5, 9, 1, 4, 10, 5, 7, 10, 6, 4, 5, 6, 9, 1, 2, 3, 4, 5, 6, 7, 8, 9, 1, 2, 5, 6, 10, 2, 1, 2, 4, 6, 9, 1, 7, 1, 4, 8, 5, 8, 10, 5, 4, 8, 2, 3, 3, 1, 3, 4, 5, 7, 8, 7, 2, 8, 6, 5, 5, 6, 1, 2, 3, 4, 5, 7, 5, 1, 7, 3, 4, 9, 7, 9, 9, 2, 1, 2, 7, 8, 8, 1, 3, 4, 5, 6, 9, 5, 1, 2, 8, 1, 2, 6, 10, 3, 1, 2, 3, 5, 8, 9, 10, 8, 1, 2, 5, 6, 7, 9, 1, 2, 4, 6, 1, 10, 2, 4, 5, 6, 9, 7, 8, 1, 2, 3, 4, 8, 4, 6, 5, 8, 4, 5, 5, 8, 10, 3, 5, 7, 4, 5, 2, 1, 10, 1, 2, 6, 10, 8, 10, 10, 2, 4, 5, 3, 3, 6, 8, 1, 2, 4, 5, 6, 7, 8, 9, 1, 10, 5, 8, 7, 7, 3, 4, 10, 3, 4, 5, 7, 4, 8, 1, 9, 4, 5, 6, 8, 9, 1, 4, 6, 9, 6, 7, 9, 5, 9, 2, 6, 2, 3, 4, 2, 4, 1, 8, 2, 4, 6, 9, 3, 5, 8, 9, 10, 2, 3, 4, 4, 9, 1, 1, 2, 5, 1, 6, 8, 4, 5, 6, 5, 7, 4, 5, 10, 2, 5, 6, 1, 8, 2, 4, 2, 2, 8, 2, 4, 9, 1, 2, 4, 5, 6, 9, 1, 6, 10, 7, 1, 8, 1, 4, 9, 1, 4, 5, 9, 2, 5, 4, 5, 2, 5, 6, 10, 10, 1, 8, 4, 5, 6, 1, 8, 9, 8, 1, 7, 6, 5, 6, 1, 2, 5, 7, 5, 7, 10, 1, 2, 6, 9, 1, 2, 3, 4, 5, 7, 8, 9, 10, 1, 3, 7, 1, 2, 4, 6, 8, 4, 1, 2, 3, 4, 5, 6, 7, 9, 10, 5, 3, 8, 3, 4, 5, 1, 2, 8, 10, 10, 6, 1, 2, 3, 4, 7, 2, 8, 1, 2, 4, 5, 6, 8, 9, 2, 2, 4, 5, 6, 1, 1, 7, 7, 3, 1, 2, 4, 5, 6, 8, 9, 3, 2, 7, 2, 3, 4, 5, 6, 9, 10, 3, 2, 4, 1, 2, 3, 4, 5, 7, 5, 10, 4, 10, 7, 1, 9, 7, 2, 1, 4, 7, 1, 2, 3, 4, 5, 7, 8, 9, 3, 3, 3, 1, 2, 7, 6, 10, 8, 3, 4, 6, 7, 9, 6, 2, 9, 7, 9, 2, 4, 10, 1, 9, 6, 7, 1, 2, 7, 8, 9, 9, 6, 10, 3, 1, 7, 1, 7, 8, 1, 4, 3, 4, 5, 9, 1, 6, 7, 8, 9, 6, 2, 3, 4, 7, 9, 5, 6, 7, 3, 9, 8, 4, 7, 4, 5, 9, 10, 6, 1, 3, 6, 8, 4, 9, 1, 7, 10, 2, 3, 2, 2, 1, 6, 8, 1, 1, 1, 3, 4, 7, 8, 6, 3, 8, 10, 4, 7, 7, 10, 2, 3, 4, 6, 8, 4, 1, 2, 5, 6, 9, 10, 1, 4, 3, 10, 9, 2, 5, 1, 4, 7, 9, 1, 3, 4, 5, 6, 7, 8, 1, 10, 1, 2, 9, 2, 6, 3, 1, 2, 5, 6, 6, 4, 6, 5, 9, 1, 4, 9, 2, 1, 3, 4, 5, 7, 8, 1, 3, 4, 5, 6, 8, 4, 1, 2, 3, 4, 5, 6, 8, 9, 10, 1, 5, 5, 1, 2, 4, 5, 6, 7, 8, 9, 1, 4, 6, 5, 1, 2, 3, 4, 8, 9, 9, 3, 4, 5, 1, 5, 7, 8, 3, 8, 1, 3, 4, 5, 7, 8, 9, 4, 4, 3, 3, 3, 1, 2, 5, 6, 8, 9, 9, 4, 1, 8, 10, 5, 5, 6, 7, 3, 3, 9, 5, 2, 8, 1, 2, 7, 2, 4, 1, 2, 2, 6, 8, 4, 5, 10, 9, 2, 6, 6, 3, 5, 1, 3, 10, 1, 1, 6, 1, 2, 4, 6, 7, 8, 9, 1, 2, 4, 7, 8, 9, 10, 2, 3, 2, 9, 5, 7, 8, 6, 2, 1, 2, 3, 4, 5, 6, 1, 1, 2, 6, 8, 3, 1, 2, 4, 5, 6, 7, 8, 9, 8, 8, 1, 5, 8, 6, 7, 7, 5, 1, 7, 5, 1, 8, 9, 3, 10, 1, 5, 6, 9, 2, 1, 9, 5, 8, 9, 2, 3, 4, 3, 7, 9, 5, 5, 7, 7, 2, 5, 10, 7, 2, 5, 7, 8, 9, 2, 5, 7, 8, 1, 6, 7, 8, 3, 9, 1, 2, 4, 5, 6, 7, 8, 9, 1, 2, 4, 5, 1, 6, 6, 7, 10, 1, 7, 3, 4, 6, 9, 7, 4, 8, 9, 10, 5, 8, 9, 1, 2, 7, 8, 2, 2, 2, 3, 5, 6, 9, 10, 2, 8, 1, 5, 2, 3, 8, 9, 6, 7, 6, 4, 5, 6, 1, 2, 3, 4, 6, 7, 2, 5, 10, 7, 5, 3, 4, 1, 2, 6, 1, 2, 4, 6, 8, 9, 2, 5, 6, 7, 6, 7, 1, 2, 3, 4, 5, 8, 4, 5, 8, 2, 6, 8, 2, 4, 5, 6, 9, 1, 2, 4, 5, 6, 8, 9, 4, 10, 1, 8, 5, 7, 3, 8, 8, 6, 1, 2, 3, 5, 7, 8, 2, 4, 5, 9, 10, 10, 4, 3, 4, 10, 9, 9, 8, 10, 10, 2, 5, 9, 10, 1, 2, 3, 5, 6, 8, 9, 2, 1, 5, 7, 10, 6, 2, 4, 8, 9, 1, 2, 6, 9, 10, 4, 8, 4, 6, 7, 4, 6, 7, 8, 9, 5, 2, 3, 8, 1, 8, 8, 1, 2, 3, 4, 5, 6, 7, 8, 9, 5, 9, 4, 9, 10, 1, 2, 5, 9, 10, 2, 4, 6, 2, 4, 6, 9, 3, 3], \"Freq\": [0.9989778032383504, 0.071499967344459, 0.1529556263444756, 0.008145565900001659, 0.24165178836671586, 0.06425946432223531, 0.4606770047889827, 0.9994275290867726, 0.9984833064346362, 0.9988575586264189, 0.4445462947672892, 0.5548946658088149, 0.9951778514380344, 0.9985292837333717, 0.998268972640516, 0.997633076872872, 0.9986243827992181, 0.9980453036034934, 0.9963279408330821, 0.998911972543259, 0.9980048152472972, 0.9961228706117465, 0.4714367666666192, 0.2206048311960783, 0.20761247935880925, 0.09996156413572298, 0.07663842748725459, 0.4403191121826155, 0.35318928059860816, 0.009787712358555887, 0.011195095834949544, 0.07292805286767132, 0.03492869900504258, 0.0006397197619971168, 0.00044780383339798174, 0.036445222891667226, 0.3108935970150048, 0.3996297918816728, 0.1635281305400025, 0.08937002483000138, 0.9995822272381611, 0.0005893313446898644, 0.7010096345085938, 0.035507213517564334, 0.2626944468955071, 0.0001473328361724661, 0.997743121956757, 0.9981076276166077, 0.6140185400345571, 0.3858258307796606, 0.0003002535648090744, 0.0978606875035919, 0.9015676104054318, 0.9960817407434163, 0.9983409231730003, 0.999337914577231, 0.9970452939972234, 0.9986793399709657, 0.9998346275441862, 0.9998015293993163, 0.17472875480135572, 0.18867398349685824, 0.0358827821374393, 0.009094714366632081, 0.3384887328817431, 0.2531086567974213, 0.9952354940549255, 0.7620045995732311, 0.23756260207689525, 0.999230273036931, 0.998028505066867, 0.9996146941244626, 0.9981846199761366, 0.17863884802005986, 0.38967171249446153, 0.17413094281767572, 0.20096870402256733, 0.055877057508622006, 0.0005241750235330394, 0.9993732503771461, 0.9982473908403635, 0.9974171375785306, 0.15151216294533495, 0.8478423985466088, 0.9995276622330325, 0.9993604911992022, 0.9983068211608228, 0.9986826868545556, 0.9976547191626658, 0.322663130431567, 0.18360433042396046, 0.34301726792518195, 0.15073740348754955, 0.9991869955664109, 0.22463674378754042, 0.015430793496634216, 0.28932737806189157, 0.34496725845840914, 0.051040316950405486, 0.07448325322413824, 0.9994369753087998, 0.8203990964422397, 0.1761787533315426, 0.0033894699511714593, 0.8298598585539915, 0.01911875881794417, 0.10678311376658219, 0.04414054455202779, 0.9997094470696491, 0.06711861876408233, 0.042440902806417956, 0.1216003395015346, 0.13197213316490078, 0.018716915001706795, 0.00023843203823830313, 0.6177774110754434, 0.9968456184064489, 0.8895321121462499, 0.03336990566282125, 0.07719903548861631, 0.22753968225147914, 0.0010682614190210288, 0.7712847445331829, 0.38864520103651806, 0.0921485877320394, 0.4699151360501917, 0.04906059069066913, 0.9988777084992725, 0.9995342285068024, 0.12498142355476818, 0.17232732753669214, 0.0044111090666388774, 0.3796494536687194, 0.31848207461132694, 0.9960983395163379, 0.9987743697098821, 0.998838417293023, 0.23846415504157262, 0.19776079064654556, 0.1589075791785652, 0.40456677338087493, 0.9987292745778736, 0.9980414512871841, 0.998348299463614, 0.9991540555578702, 0.9983749299722717, 0.998662859855785, 0.9997548380946492, 0.9998245033937994, 0.9999345975288897, 0.10330281567694181, 0.21254257478359292, 0.6839358831025114, 0.2423573796566804, 0.7568923982119147, 0.9995901806436561, 0.7009180054715053, 0.29908475825135233, 0.9993253787668642, 0.0003971881473636185, 0.981382795588733, 0.01745277201457391, 0.9988102572641662, 0.9976615594158464, 0.9964888843089421, 0.7110842684468862, 0.16977593007590916, 0.1189075414185255, 0.9994722290233736, 0.9997937201527494, 0.9977383348992973, 0.999415280057633, 0.5291324329425455, 0.008484015556912226, 0.052508036581088595, 0.012958173014786334, 0.13122788242010003, 0.09480148726778535, 0.05677114887585544, 0.11404880614316831, 0.8663617971182808, 0.1334719798808674, 0.9979602909383183, 0.9976721046490723, 0.9988239683153125, 0.997795631390506, 0.9998193371515071, 0.9993536630046684, 0.9970277090324705, 0.644052005013301, 0.20464858662309648, 0.0031399151377189895, 0.14794541325370061, 0.9990870740625293, 0.9995522477698927, 0.998851881654067, 0.0009020336077550274, 0.09418599579084742, 0.1958192563651572, 0.31913719969131327, 0.10973763695631293, 0.2808056897764335, 0.26576150230320494, 0.3538711108835128, 0.0017908457028517853, 0.37822661244229705, 0.9963098126887926, 0.9947965253184071, 0.9993555993914083, 0.9974620407238917, 0.9973601591610334, 0.8154648458211524, 0.18405270817328823, 0.9960589174678927, 0.9990550079369399, 0.9994662068127268, 0.996568210253542, 0.9987706626389176, 0.9969963824307011, 0.9976818387646302, 0.9985090232075767, 0.9167800105392421, 0.08226242256730497, 0.9990731506401066, 0.5364449298326172, 0.3699456867101757, 0.08644697544764028, 0.006868389830086488, 0.9989211052272358, 0.12077057591866393, 0.7111775839703871, 0.16801282728102995, 0.998560790259085, 0.9984764866486723, 0.9985314836470826, 0.696962756078303, 0.3028149325638037, 0.9971479471557413, 0.9156597570191308, 0.06159483189136073, 0.02268492589169627, 0.9988890152936537, 0.18072280278733663, 0.8176758979259217, 0.11183610182391383, 0.887699058227316, 0.4224341720138902, 0.2874636125699903, 0.2898315171216377, 0.5641903407586881, 0.23725388598624259, 0.19826146477485002, 0.15855422661567994, 0.8414233889166357, 0.7597334013053795, 0.23921430271942234, 0.9958434343404524, 0.9978725299510186, 0.9986773077641743, 0.9990548625567955, 0.901329990887052, 0.09819367380395526, 0.3314403860626306, 0.2293145360630224, 0.24514369568226826, 0.15613938589335072, 0.037281836471644875, 0.0005554091094472235, 0.25886297127753805, 0.741074846314258, 0.9985230571347858, 0.9958405954358327, 0.8840662233334151, 0.11528779714505216, 0.6728762625203784, 0.013890584654336895, 0.3133552479375411, 0.6385700027256233, 0.27588704001252656, 0.08541820964183094, 0.9988119714318251, 0.6103225950324715, 0.38926935831576365, 0.8272929323550868, 0.17206781375429492, 0.4575998226910867, 0.045653191178632334, 0.44932351317917085, 0.04725505753577733, 0.9964439248960097, 0.905821419947374, 0.09333991212572472, 0.9992658537683297, 0.9996024258097846, 0.997583215405968, 0.12506676449258855, 0.7855756144690718, 0.08933340320899182, 0.9990398123057018, 0.3149935881494946, 0.6839860771246168, 0.9975067157910003, 0.9963209072477891, 0.9969638693229224, 0.21311988754732036, 0.1752684789481824, 0.006857139238974272, 0.6045253953079718, 0.9492207315695459, 0.0006208114660363283, 0.049664917282906264, 0.24148585772607495, 0.4090431502360094, 0.2705065265931559, 0.07880064831061394, 0.23668506070447634, 0.00012554016656885237, 0.19956701812228564, 0.3061087728170517, 0.07344099744277864, 0.18320494974614523, 0.00012554016656885237, 0.0006695475550338793, 4.1846722189617453e-05, 0.17829875252452976, 0.21827133421144498, 0.6032704104591021, 0.3646076171082062, 0.5175832711330135, 0.0004692504724687339, 0.0016423766536405686, 0.11567024146354289, 0.9984514142101342, 0.2395690441960304, 0.12093203768786173, 0.18793084265293644, 0.0808495194530469, 0.12964912980020468, 0.0924857301711398, 0.13311180842219772, 0.01540086712688767, 8.052740981379173e-05, 0.9983422789312432, 0.5904956896439962, 0.4093268087364218, 0.25214508828829063, 0.5983103789891642, 0.1491502301908702, 0.1911864313468548, 0.8082961653297552, 0.9986487420178104, 0.9996766096236925, 0.9996381260791187, 0.9993299455736985, 0.018452583387663497, 0.3670367304868009, 0.4650263112350829, 0.05047948099153922, 0.09905007404642359, 0.7419046154613724, 0.25802965309613923, 0.12029786267042884, 0.35319513058063595, 0.2714652775955649, 0.1199949725420098, 0.015270710641126615, 0.0966724326537437, 0.023070131447916906, 0.9983295477023573, 0.39683038523719905, 0.11488349274270293, 0.2948822475933882, 0.1933725965630992, 0.9977659204311123, 0.9971765559591311, 0.9971412040859926, 0.9990755459691153, 0.998789247977535, 0.25660029068378043, 0.26953157430658176, 0.26091071855804754, 0.11487549949251616, 0.07561425283051697, 0.003323703421121625, 0.01911129467144934, 0.9977916120655835, 0.9976832717944832, 0.9971351931455837, 0.2765475350523798, 0.11411093329106088, 0.038660534776206415, 0.007794462656493229, 0.06329103677072502, 0.16617794383643564, 0.33297944468539076, 0.9996350465083446, 0.8280773426932803, 0.17160734511386067, 0.0008856877069541556, 0.10805390024840698, 0.5268365710198969, 0.018599441846037266, 0.12458673744488455, 0.2211266975028875, 0.9993751906433844, 0.997364379317216, 0.9976281890560463, 0.9997789932000131, 0.9982334775949434, 0.9992531027118813, 0.9994425543902751, 0.9972633077517269, 0.9960218394193906, 0.024158138203579222, 0.2941756620831678, 0.6817124624322511, 0.16044153152752538, 0.10594858373699616, 0.23065703474614174, 0.3961011975462403, 0.06950084160824875, 0.011255920363289642, 0.0014293232207351928, 0.024655825557682077, 0.9997139941513926, 0.9988391855257746, 0.9994193685004021, 0.8899666028793682, 0.10963356702137145, 0.9978142792486703, 0.9979467116492954, 0.9966165785212097, 0.9978266216741382, 0.21434603633504828, 0.0008017931533729985, 0.06280713034755156, 0.31884641065799574, 0.4033019561466183, 0.9982367632592026, 0.8432751716439105, 0.15622110930265262, 0.9980574351593925, 0.9991119856490344, 0.9980207863331274, 0.9993532353195484, 0.9977613194126095, 0.8166129111730794, 0.18274277111184864, 0.39548615590126424, 0.6045168936926301, 0.10734606197554246, 0.6290419093916942, 0.24806863061574938, 0.008419298978473919, 0.00661516348308665, 0.9971811382724769, 0.8741689042161429, 0.12447712551945077, 0.9990584940368644, 0.008345856476499028, 0.9898185781127847, 0.7500042840801573, 0.052132493946723084, 0.1976557132458581, 0.9988090508977088, 0.998165349713566, 0.9997683202429742, 0.7737209255342162, 0.12079187445048944, 0.10528480948725094, 0.8649861801713121, 0.04839296363379262, 0.0003043582618477523, 0.05113218799042239, 0.03500120011249152, 0.9962608188711082, 0.22387946718217078, 0.2739213013184882, 0.33273970328794433, 0.07560166326440568, 0.09377069842774553, 0.5010874006371248, 0.20975426237225633, 0.2892341963465336, 0.9997755757561567, 0.9987043001080629, 0.9964195184159047, 0.9998468515510726, 0.9966555991520335, 0.737581810843004, 0.13927502356489024, 0.020693317454731755, 0.1023869359281945, 0.9973124200759195, 0.7254149853243222, 0.2740274563421635, 0.9968205158034915, 0.9975527705301942, 0.8374105017718929, 0.16219904572228142, 0.188724185824493, 0.3558159550920283, 0.45428074769611154, 0.9967513907796152, 0.9990398568268432, 0.997863320581694, 0.9992745975187569, 0.2837975453896847, 0.054903612323344994, 0.6611632188233799, 0.999758858296614, 0.9974815989841546, 0.13009487998117117, 0.10951024707275801, 0.7092092191378614, 0.049403118980191583, 0.001646770632673053, 0.9971292230185334, 0.9996685636816035, 0.998997159616032, 0.9998592618491907, 0.024207876040661193, 0.9743670106366129, 0.9986014327332425, 0.9984526496825686, 0.24155864450334777, 0.5016810937550553, 0.00022918277467110794, 0.040794533891457214, 0.21566099096551258, 0.9987766898416124, 0.9984803800131823, 0.0692476076635828, 0.3795078386479035, 0.0007737162867439419, 0.35088033603837765, 0.19923194383656503, 0.9993621054622014, 0.9983798316752439, 0.0815231106385043, 0.9178898383001965, 0.9986677771434991, 0.9984564137499027, 0.9970303847706483, 0.25373985200798355, 0.43396879174558034, 0.18437982913719966, 0.12787417343937957, 0.10732917360789261, 0.0578272486734348, 0.20115782223366035, 0.012375481233614451, 0.12442983858525075, 0.2115082247199561, 0.28508608587253653, 0.9983582904686926, 0.9987063717467206, 0.9963111626343544, 0.9995109970861027, 0.9984654067557259, 0.003329779150088404, 0.9956039658764329, 0.9988881565993488, 0.05911470213186969, 0.4720546287026674, 0.035382522443892804, 0.43322015284961435, 0.996858625998244, 0.35322013678470804, 0.6467170620357698, 0.7725575230862626, 0.22702453856975555, 0.10298193095737825, 0.8967584977922195, 0.9996547368180966, 0.9985329698858646, 0.1444972983129939, 0.19376501183373426, 0.1168775195210637, 0.004692163192451463, 0.4559929502482376, 0.08413901724645918, 0.2325694949161816, 0.18252989930709154, 0.3139925335850011, 0.10379461142928159, 0.00031620597541289137, 0.16671960053644697, 0.9968096986424378, 0.2246152318087108, 0.00660396163797572, 0.017637409740447352, 0.15148843708576012, 0.30515134934500004, 0.2769637082072988, 0.009503261869282135, 0.00773146728348377, 0.0003221444701451571, 0.1938911075849098, 0.8051705575457182, 0.9977626330899985, 0.12124323359023974, 0.09208346854954917, 0.2519738548492209, 0.03529866294399385, 0.003069448951651639, 0.029857367075156852, 0.42177019003831384, 0.04478605061273528, 0.9964712461919638, 0.9980646007429026, 0.9996142126761172, 0.9996319218284239, 0.09281039780193204, 0.22543945014469297, 0.019759633080411336, 0.199692049464157, 0.4442923559292488, 0.01796330280037394, 0.9989338487679595, 0.9261961629520383, 0.0322926631527339, 0.04116427390897948, 0.12837726691648643, 0.029830402271050792, 0.5566566138080014, 0.2855195645943433, 0.16688297205127758, 0.8327014827199272, 0.23320929586051747, 0.23508584124896226, 0.051119684719702775, 0.002847172313502433, 0.4385939532027157, 0.03914861931065845, 0.9984146167941976, 0.998404399916887, 0.9985364327394108, 0.9999113732205288, 0.9998821670619823, 0.9982954267234411, 0.6641334311025715, 0.12449104151909049, 0.13427636355989236, 0.00996653170822413, 0.06487306093716796, 0.001993306341644826, 0.9991278466620434, 0.9970895459409933, 0.9980301660389052, 0.9975704309613492, 0.998635092255634, 0.9980638821469785, 0.8365537291453331, 0.15468566575630904, 0.007961762208045318, 0.9999077513017558, 0.0916463865097204, 0.9083566847521133, 0.9966622765470919, 0.854059540620317, 0.14544959228364834, 0.5107883800415757, 0.19542232828218292, 0.29369397711242023, 0.9975918383142052, 0.9979452272854215, 0.9955602161688736, 0.9988061338322732, 0.7603745596706756, 0.2378879243048219, 0.0009631090052826798, 0.37567959202697765, 0.4778518660092101, 0.14618494585150177, 0.9967802728271141, 0.8648094659672468, 0.13503424255290628, 0.9970283566305608, 0.9978328078928286, 0.9970008948413753, 0.35987156754590477, 0.3275565696438235, 0.31237831305345204, 0.9982156304618639, 0.9993869707475591, 0.9973629742750109, 0.2712276855515867, 0.0064284927992559636, 0.12296202184108748, 0.08302330062017808, 0.2754677552702449, 0.0012309879828362484, 0.23963232732545636, 0.3532275424364732, 0.3270657161996776, 0.029335555976997045, 0.19617080853623464, 0.07085137203801041, 0.002573294383947109, 0.020843684509971587, 0.08477781356505987, 0.9142848687059474, 0.9984606124094897, 0.9984396170785288, 0.9985457442598978, 0.9981225188595241, 0.9974075148199738, 0.9960545793663111, 0.998648594397191, 0.26995846767526555, 0.34940219602977957, 0.06792772571488907, 0.002420029540211036, 0.1719889959439636, 0.13827548096998918, 0.9983586405319795, 0.12766171993972178, 0.6242969475101029, 0.2467607635420232, 0.0011676376823755042, 0.9994398983648255, 0.2846994020907731, 0.41828691164900667, 0.1436424833959501, 0.1197260099105244, 0.031529525105411044, 0.0001436424833959501, 0.0005027486918858253, 0.001508246075657476, 0.9991492887192375, 0.9986402177755478, 0.80100746308546, 0.19870689588707555, 0.9985669788054992, 0.9983540873001334, 0.99934027794343, 0.9980863448980757, 0.9990348321455012, 0.8720499021726797, 0.12720228682237997, 0.9995011557247827, 0.17275667785527948, 0.826814882081029, 0.9977038293300767, 0.355009332858058, 0.6449850719867559, 0.14969065476626814, 0.39394636389086735, 0.1106993764289468, 0.34599157329209285, 0.9991513543572815, 0.9991389108320218, 0.9986046749241005, 0.6640946967620628, 0.14146126759794625, 0.19377009645249227, 0.7600206294991203, 0.23947018717178986, 0.9995707754232802, 0.3481291424373937, 0.6515978928967632, 0.999394756167351, 0.9993150759803993, 0.09290599388067287, 0.9060465274784887, 0.997871617192095, 0.2591942669762674, 0.6393995219507714, 0.10115552655284969, 0.9981353276541052, 0.37930684786757185, 0.25287123191171457, 0.21101938069044085, 0.11206126518593384, 0.044785392194727484, 0.33975412231626234, 0.10185987846786382, 0.5580726891952669, 0.9970436206395854, 0.9983930608036007, 0.17706509145736035, 0.646222961523213, 0.17577264553431393, 0.9975161790457031, 0.9977159731462542, 0.3242537864303222, 0.19043067457288237, 0.17516788462571525, 0.016550789098826773, 0.0329083783249046, 0.0009015994061617697, 0.24562143822149926, 0.014103590710673398, 0.27209229085143133, 0.20762375236050523, 0.30695594157613154, 0.2132720533159036, 0.18240538697177464, 0.8175534191712401, 0.9991851459054921, 0.9981762285555361, 0.9953034135084563, 0.9988019070638354, 0.9982724275593629, 0.7846653099031481, 0.16426384515273515, 0.00045251747975960096, 0.05068195773307531, 0.999243259439651, 0.5658772254299902, 0.04294404240417317, 0.39096971938799324, 0.9942866809657037, 0.6973013826120664, 0.10833347519793592, 0.19377959648081494, 0.28976632524150686, 0.6732153081513566, 0.0004755464856261054, 0.036458563898001416, 0.9981230354916075, 0.9987849628710955, 0.22300262316843134, 0.25316907390525684, 0.2273939419465768, 0.12868473289000232, 0.010310052783471997, 0.15732376839964676, 0.9975465305823706, 0.9989051155755977, 0.998843101509076, 0.9993714106444673, 0.4275184285006888, 0.10381757199607448, 0.029745484111234826, 0.43801683465759517, 0.9978820911595522, 0.995307175185271, 0.9982452753232178, 0.8134589266322815, 0.1862464882525089, 0.9977741867408355, 0.3000012203615187, 0.08737683764976052, 0.2914043474460207, 0.00792987415481287, 0.06121566403621899, 0.25212553153900363, 0.022769402684290944, 0.5044092382884688, 0.47279994985615903, 0.9988116388202612, 0.9977857525546923, 0.9994667806696155, 0.999459768560642, 0.6264057733924366, 0.08658329209783934, 0.28684684790359977, 0.5533374557164056, 0.37015851444948017, 0.0004030973243849348, 0.07589746764847773, 0.00023034132821996277, 0.9992507549577477, 0.14210623036745457, 0.3078189233452922, 0.19609724881298418, 0.35409693915574614, 0.9940063651214667, 0.9977432128005429, 0.08930575484992102, 0.4103405292408545, 0.0515643662785631, 0.3301983214103167, 0.10996256423259841, 0.00838697523807954, 0.023081821946300412, 0.36746260538510256, 0.6088984629434049, 0.2566411149986843, 0.7428406142675484, 0.9973347116860521, 0.2202987270635471, 0.18986271871924126, 0.0793510217547974, 0.5105278066324637, 0.998172408089284, 0.025159173430989102, 0.19033461639096103, 0.13874007957233844, 0.47273722251126626, 0.0007292514037967856, 0.1719210184450922, 0.0001823128509491964, 0.8644883455305373, 0.1349421962411153, 0.7950645013208371, 0.20478086381662658, 0.1699566258903358, 0.8285385512153871, 0.08780219066372762, 0.9116936205325892, 0.9976909690993477, 0.9965354190546524, 0.1562933906814894, 0.2138204480054966, 0.2886749322343252, 0.007277519300025005, 0.2332271661388966, 0.10067235031701258, 0.19128474878792426, 0.01631813022835373, 0.27740821388201337, 0.07887096277037635, 0.4360567022132302, 0.9967662281621946, 0.9981103940338071, 0.9993304566629426, 0.0004036068080221901, 0.9983110920344552, 0.9996207008675312, 0.999621775529238, 0.9970550888300607, 0.998488977637621, 0.9957425371959435, 0.12233913849307775, 0.06938637705577544, 0.35545301930327067, 0.452228755723168, 0.16624036366431297, 0.010177981448835489, 0.23222176064297062, 0.441981769122994, 0.015208478026995558, 0.045508445788471324, 0.08856013743412028, 0.999478704830211, 0.9974263437077047, 0.021138094435560275, 0.9776368676446627, 0.999373982878214, 0.9995396646657585, 0.3555423941098727, 0.08544222996993657, 0.00023344871576485402, 0.5584093281095308, 0.07293248679483053, 0.2152684690879675, 0.2202678734247099, 0.3646624339741526, 0.1267496040668224, 0.22432765801996887, 0.7751158915324128, 0.9971008560257256, 0.8495777438032189, 0.1504209886337144, 0.998400072832161, 0.29069294853692573, 0.5382441873969932, 0.04981840284113392, 0.12120766052069695, 0.9968142093754035, 0.07717581532274334, 0.7860730221985874, 0.13661364083340455, 0.5222634011833431, 0.4773954113909597, 0.9963161077342105, 0.11804723291444512, 0.3838365707513602, 0.092399033925035, 0.062415113844252, 0.05615240560115787, 0.11820139188658282, 0.037287201385806615, 0.10232301775639954, 0.02932874444919776, 0.12266818050082814, 0.8763819493512773, 0.18428756970998475, 0.5555413075269017, 0.2592883248245134, 0.11023058199445072, 0.8073023041630137, 0.08231317611073866, 0.9995520323585807, 0.9987614514023032, 0.4189551590965565, 0.12607498297581146, 0.45491316480444643, 0.4821250046949008, 0.0019131944630750033, 0.49519850019258, 0.020726273349979202, 0.9987969928318968, 0.9992460651524511], \"Term\": [\"000\", \"10\", \"10\", \"10\", \"10\", \"10\", \"10\", \"100\", \"13\", \"14\", \"15\", \"15\", \"18\", \"20\", \"2009\", \"2014\", \"2015\", \"30\", \"40\", \"50\", \"70\", \"absolutely\", \"acid\", \"acid\", \"acid\", \"acid\", \"acidity\", \"acidity\", \"acidity\", \"acidity\", \"acidity\", \"acidity\", \"acidity\", \"acidity\", \"acidity\", \"add\", \"add\", \"add\", \"add\", \"add\", \"aftertaste\", \"age\", \"age\", \"age\", \"age\", \"age\", \"aggressive\", \"air\", \"alcohol\", \"alcohol\", \"alcohol\", \"almond\", \"almond\", \"american\", \"ample\", \"appeal\", \"appear\", \"appellation\", \"apple\", \"apricot\", \"aroma\", \"aroma\", \"aroma\", \"aroma\", \"aroma\", \"aroma\", \"asparagus\", \"attractive\", \"attractive\", \"austere\", \"background\", \"bacon\", \"bad\", \"balance\", \"balance\", \"balance\", \"balance\", \"balance\", \"balance\", \"banana\", \"barbera\", \"barolo\", \"barrel\", \"barrel\", \"base\", \"basic\", \"beer\", \"begin\", \"benefit\", \"berry\", \"berry\", \"berry\", \"berry\", \"best\", \"bite\", \"bite\", \"bite\", \"bite\", \"bite\", \"bite\", \"bitter\", \"black\", \"black\", \"black\", \"blackberry\", \"blackberry\", \"blackberry\", \"blackberry\", \"blanc\", \"blend\", \"blend\", \"blend\", \"blend\", \"blend\", \"blend\", \"blend\", \"blue\", \"blueberry\", \"blueberry\", \"blueberry\", \"boast\", \"boast\", \"boast\", \"bodied\", \"bodied\", \"bodied\", \"bodied\", \"bone\", \"bordeaux\", \"bottle\", \"bottle\", \"bottle\", \"bottle\", \"bottle\", \"box\", \"breathe\", \"briary\", \"bright\", \"bright\", \"bright\", \"bright\", \"brilliant\", \"brood\", \"brown\", \"brunello\", \"build\", \"burn\", \"butter\", \"cab\", \"cabernet\", \"candied\", \"candied\", \"candied\", \"caramel\", \"caramel\", \"case\", \"cassis\", \"cassis\", \"cedar\", \"cedar\", \"cellar\", \"cellar\", \"cellaring\", \"central\", \"chalk\", \"character\", \"character\", \"character\", \"chard\", \"chardonnay\", \"charm\", \"cheese\", \"cherry\", \"cherry\", \"cherry\", \"cherry\", \"cherry\", \"cherry\", \"cherry\", \"cherry\", \"chocolate\", \"chocolate\", \"chocolaty\", \"chop\", \"chunky\", \"cigar\", \"citrus\", \"citrusy\", \"class\", \"clean\", \"clean\", \"clean\", \"clean\", \"climate\", \"close\", \"coffee\", \"coffee\", \"colon\", \"colon\", \"colon\", \"colon\", \"colon\", \"color\", \"color\", \"color\", \"color\", \"combination\", \"common\", \"compact\", \"complete\", \"component\", \"concentration\", \"concentration\", \"considerable\", \"continue\", \"cool\", \"county\", \"couple\", \"cover\", \"cracker\", \"craft\", \"cranberry\", \"cranberry\", \"cream\", \"creamy\", \"creamy\", \"creamy\", \"creamy\", \"creek\", \"crisp\", \"crisp\", \"crisp\", \"cru\", \"cr\\u00e8me\", \"cure\", \"currant\", \"currant\", \"custard\", \"dark\", \"dark\", \"dark\", \"de\", \"decant\", \"decant\", \"decent\", \"decent\", \"deep\", \"deep\", \"deep\", \"delicious\", \"delicious\", \"delicious\", \"deliver\", \"deliver\", \"develop\", \"develop\", \"develope\", \"different\", \"dimensional\", \"dish\", \"display\", \"display\", \"drink\", \"drink\", \"drink\", \"drink\", \"drink\", \"drink\", \"dry\", \"dry\", \"dryness\", \"dull\", \"dusty\", \"dusty\", \"earth\", \"earth\", \"earth\", \"earthy\", \"earthy\", \"earthy\", \"easily\", \"edge\", \"edge\", \"effort\", \"effort\", \"elegant\", \"elegant\", \"elegant\", \"elegant\", \"equal\", \"espresso\", \"espresso\", \"example\", \"excellent\", \"exhibit\", \"exotic\", \"exotic\", \"exotic\", \"expression\", \"fairly\", \"fairly\", \"fall\", \"fan\", \"fashion\", \"feel\", \"feel\", \"feel\", \"feel\", \"fill\", \"fill\", \"fill\", \"fine\", \"fine\", \"fine\", \"fine\", \"finish\", \"finish\", \"finish\", \"finish\", \"finish\", \"finish\", \"finish\", \"finish\", \"finish\", \"finishes\", \"finishes\", \"finishes\", \"firm\", \"firm\", \"firm\", \"firm\", \"firm\", \"flat\", \"flavor\", \"flavor\", \"flavor\", \"flavor\", \"flavor\", \"flavor\", \"flavor\", \"flavor\", \"flavor\", \"flesh\", \"flower\", \"flower\", \"follow\", \"follow\", \"follow\", \"food\", \"food\", \"forest\", \"forward\", \"franc\", \"french\", \"fresh\", \"fresh\", \"fresh\", \"fresh\", \"fresh\", \"freshness\", \"freshness\", \"fruit\", \"fruit\", \"fruit\", \"fruit\", \"fruit\", \"fruit\", \"fruit\", \"fruitiness\", \"fruity\", \"fruity\", \"fruity\", \"fruity\", \"fudge\", \"game\", \"garnacha\", \"generic\", \"golden\", \"good\", \"good\", \"good\", \"good\", \"good\", \"good\", \"good\", \"gooseberry\", \"gorgeous\", \"grabby\", \"grape\", \"grape\", \"grape\", \"grape\", \"grape\", \"grape\", \"grape\", \"grapefruit\", \"great\", \"great\", \"green\", \"green\", \"green\", \"green\", \"green\", \"green\", \"grenache\", \"ground\", \"half\", \"hard\", \"healthy\", \"heat\", \"heavy\", \"heft\", \"herbaceous\", \"herbal\", \"herbal\", \"herbal\", \"hint\", \"hint\", \"hint\", \"hint\", \"hint\", \"hint\", \"hint\", \"hint\", \"honey\", \"honeyed\", \"honeysuckle\", \"hot\", \"hot\", \"house\", \"huge\", \"immediate\", \"impart\", \"imported\", \"imported\", \"imported\", \"imported\", \"imported\", \"impression\", \"impressive\", \"impressive\", \"improve\", \"inc\", \"intensely\", \"intensity\", \"italy\", \"jam\", \"jam\", \"jammy\", \"jammy\", \"juicy\", \"juicy\", \"juicy\", \"juicy\", \"juicy\", \"kick\", \"kind\", \"kind\", \"kiwi\", \"leafy\", \"leafy\", \"leather\", \"leather\", \"leather\", \"leathery\", \"lee\", \"lemon\", \"length\", \"length\", \"length\", \"licorice\", \"licorice\", \"licorice\", \"licorice\", \"licorice\", \"life\", \"light\", \"light\", \"light\", \"light\", \"light\", \"like\", \"like\", \"like\", \"lime\", \"limit\", \"linear\", \"little\", \"llc\", \"long\", \"long\", \"long\", \"long\", \"lose\", \"lot\", \"lot\", \"ltd\", \"luminous\", \"lush\", \"lush\", \"malbec\", \"malbec\", \"malbec\", \"manage\", \"mango\", \"massive\", \"match\", \"mature\", \"mature\", \"mature\", \"meat\", \"medicinal\", \"medium\", \"medium\", \"medium\", \"medium\", \"medium\", \"meld\", \"melon\", \"menthol\", \"merlot\", \"mild\", \"mild\", \"mildly\", \"milk\", \"mineral\", \"mineral\", \"mineral\", \"mineral\", \"mineral\", \"minerally\", \"minty\", \"mix\", \"mix\", \"mix\", \"mix\", \"mix\", \"mocha\", \"moderate\", \"modern\", \"modern\", \"modest\", \"mountain\", \"mourv\\u00e8dre\", \"mouth\", \"mouth\", \"mouth\", \"mouth\", \"mouthfeel\", \"mouthfeel\", \"mouthfeel\", \"mouthfeel\", \"mouthfeel\", \"mouthfeel\", \"mouthfeel\", \"mushroom\", \"napa\", \"narrow\", \"natural\", \"near\", \"nearly\", \"nearly\", \"nectarine\", \"need\", \"need\", \"need\", \"need\", \"needs\", \"new\", \"new\", \"nice\", \"nice\", \"nicely\", \"nicely\", \"noir\", \"northern\", \"nose\", \"nose\", \"nose\", \"nose\", \"nose\", \"nose\", \"note\", \"note\", \"note\", \"note\", \"note\", \"note\", \"nutmeg\", \"oak\", \"oak\", \"oak\", \"oak\", \"oak\", \"oak\", \"oak\", \"oak\", \"oak\", \"oaky\", \"oaky\", \"obvious\", \"offer\", \"offer\", \"offer\", \"offer\", \"offer\", \"offer\", \"offer\", \"offer\", \"offset\", \"oily\", \"old\", \"olive\", \"open\", \"open\", \"open\", \"open\", \"open\", \"open\", \"opulent\", \"orange\", \"orange\", \"orange\", \"overall\", \"overall\", \"overall\", \"overall\", \"pair\", \"pair\", \"palate\", \"palate\", \"palate\", \"palate\", \"palate\", \"palate\", \"pale\", \"papaya\", \"past\", \"peach\", \"pear\", \"peel\", \"pepper\", \"pepper\", \"pepper\", \"pepper\", \"pepper\", \"pepper\", \"perfect\", \"persistent\", \"personality\", \"petal\", \"petit\", \"petite\", \"pie\", \"pie\", \"pie\", \"pineapple\", \"pinot\", \"pinot\", \"place\", \"plenty\", \"plenty\", \"plum\", \"plum\", \"plum\", \"poise\", \"pomegranate\", \"porty\", \"potential\", \"powerful\", \"powerful\", \"powerful\", \"price\", \"price\", \"price\", \"primary\", \"produce\", \"produce\", \"pronounce\", \"prosecco\", \"pungent\", \"pure\", \"pure\", \"pure\", \"push\", \"raisin\", \"rare\", \"raspberry\", \"raspberry\", \"raspberry\", \"raspberry\", \"raspberry\", \"raspberry\", \"raspberry\", \"red\", \"red\", \"red\", \"red\", \"red\", \"red\", \"red\", \"refresh\", \"refresh\", \"relatively\", \"release\", \"residual\", \"resiny\", \"restrain\", \"reward\", \"rh\\u00f4ne\", \"rich\", \"rich\", \"rich\", \"rich\", \"rich\", \"rich\", \"richly\", \"richness\", \"richness\", \"richness\", \"richness\", \"riesling\", \"ripe\", \"ripe\", \"ripe\", \"ripe\", \"ripe\", \"ripe\", \"ripe\", \"ripe\", \"ripeness\", \"rise\", \"roast\", \"roast\", \"robust\", \"roussanne\", \"rubber\", \"rubbery\", \"run\", \"rustic\", \"rustic\", \"sandalwood\", \"sangiovese\", \"sangiovese\", \"santa\", \"sauvignon\", \"sauvignon\", \"scent\", \"scent\", \"scent\", \"scent\", \"screwcap\", \"selection\", \"set\", \"sharp\", \"sharp\", \"sharp\", \"shows\", \"shows\", \"silky\", \"simple\", \"simple\", \"single\", \"sirah\", \"smell\", \"smell\", \"smells\", \"smoky\", \"smoky\", \"smoky\", \"snappy\", \"soft\", \"soft\", \"soft\", \"soft\", \"soft\", \"solid\", \"solid\", \"solid\", \"sonoma\", \"soon\", \"sour\", \"sour\", \"sour\", \"sparkle\", \"sparkler\", \"spice\", \"spice\", \"spice\", \"spice\", \"spice\", \"spice\", \"spice\", \"spice\", \"spicy\", \"spicy\", \"spicy\", \"spicy\", \"spin\", \"spin\", \"start\", \"stemmy\", \"step\", \"stew\", \"sticky\", \"stone\", \"stone\", \"stone\", \"stone\", \"straightforward\", \"strawberry\", \"strawberry\", \"strawberry\", \"strength\", \"strong\", \"strong\", \"strong\", \"structure\", \"structure\", \"structure\", \"structure\", \"stuff\", \"sturdy\", \"style\", \"style\", \"style\", \"style\", \"style\", \"style\", \"stylish\", \"subtle\", \"succulent\", \"sugar\", \"suggest\", \"suggest\", \"suggest\", \"suggest\", \"summer\", \"sun\", \"super\", \"supple\", \"supple\", \"surprisingly\", \"sweet\", \"sweet\", \"sweet\", \"sweet\", \"sweet\", \"sweet\", \"syrah\", \"syrah\", \"syrah\", \"syrupy\", \"tang\", \"tangerine\", \"tangy\", \"tannic\", \"tannic\", \"tannic\", \"tannin\", \"tannin\", \"tannin\", \"tannin\", \"tannin\", \"tar\", \"taste\", \"taste\", \"taste\", \"taste\", \"tasted\", \"tempranillo\", \"texture\", \"texture\", \"texture\", \"texture\", \"texture\", \"texture\", \"thick\", \"thick\", \"thick\", \"thing\", \"thing\", \"tightly\", \"time\", \"time\", \"time\", \"time\", \"tinge\", \"toast\", \"toast\", \"toast\", \"toast\", \"toast\", \"toast\", \"toast\", \"toasty\", \"toasty\", \"tobacco\", \"tobacco\", \"tomato\", \"tomato\", \"tone\", \"tone\", \"tonic\", \"totally\", \"touch\", \"touch\", \"touch\", \"touch\", \"touch\", \"touch\", \"tough\", \"tough\", \"tough\", \"tough\", \"tough\", \"trace\", \"traditional\", \"tropical\", \"tropical\", \"true\", \"try\", \"turn\", \"unfold\", \"use\", \"usually\", \"valley\", \"valley\", \"valley\", \"valley\", \"vanilla\", \"vanilla\", \"vanilla\", \"vanilla\", \"vanilla\", \"vanilla\", \"vanilla\", \"variety\", \"veer\", \"vegetal\", \"vegetal\", \"verdot\", \"vine\", \"vineyard\", \"vineyard\", \"vineyard\", \"vineyard\", \"vintage\", \"vintage\", \"vintage\", \"vintage\", \"vintage\", \"violet\", \"violet\", \"walla\", \"want\", \"want\", \"washington\", \"way\", \"way\", \"way\", \"way\", \"welcome\", \"white\", \"white\", \"white\", \"wild\", \"wild\", \"wind\", \"wine\", \"wine\", \"wine\", \"wine\", \"wine\", \"wine\", \"wine\", \"wine\", \"wine\", \"winemaker\", \"winemaker\", \"winery\", \"winery\", \"winery\", \"wood\", \"wood\", \"wood\", \"work\", \"worth\", \"year\", \"year\", \"year\", \"young\", \"young\", \"young\", \"young\", \"zest\", \"zesty\"]}, \"R\": 30, \"lambda.step\": 0.01, \"plot.opts\": {\"xlab\": \"PC1\", \"ylab\": \"PC2\"}, \"topic.order\": [9, 2, 10, 8, 5, 7, 4, 6, 3, 1]};\n",
       "\n",
       "function LDAvis_load_lib(url, callback){\n",
       "  var s = document.createElement('script');\n",
       "  s.src = url;\n",
       "  s.async = true;\n",
       "  s.onreadystatechange = s.onload = callback;\n",
       "  s.onerror = function(){console.warn(\"failed to load library \" + url);};\n",
       "  document.getElementsByTagName(\"head\")[0].appendChild(s);\n",
       "}\n",
       "\n",
       "if(typeof(LDAvis) !== \"undefined\"){\n",
       "   // already loaded: just create the visualization\n",
       "   !function(LDAvis){\n",
       "       new LDAvis(\"#\" + \"ldavis_el87281398209129646168546575087\", ldavis_el87281398209129646168546575087_data);\n",
       "   }(LDAvis);\n",
       "}else if(typeof define === \"function\" && define.amd){\n",
       "   // require.js is available: use it to load d3/LDAvis\n",
       "   require.config({paths: {d3: \"https://cdnjs.cloudflare.com/ajax/libs/d3/3.5.5/d3.min\"}});\n",
       "   require([\"d3\"], function(d3){\n",
       "      window.d3 = d3;\n",
       "      LDAvis_load_lib(\"https://cdn.rawgit.com/bmabey/pyLDAvis/files/ldavis.v1.0.0.js\", function(){\n",
       "        new LDAvis(\"#\" + \"ldavis_el87281398209129646168546575087\", ldavis_el87281398209129646168546575087_data);\n",
       "      });\n",
       "    });\n",
       "}else{\n",
       "    // require.js not available: dynamically load d3 & LDAvis\n",
       "    LDAvis_load_lib(\"https://cdnjs.cloudflare.com/ajax/libs/d3/3.5.5/d3.min.js\", function(){\n",
       "         LDAvis_load_lib(\"https://cdn.rawgit.com/bmabey/pyLDAvis/files/ldavis.v1.0.0.js\", function(){\n",
       "                 new LDAvis(\"#\" + \"ldavis_el87281398209129646168546575087\", ldavis_el87281398209129646168546575087_data);\n",
       "            })\n",
       "         });\n",
       "}\n",
       "</script>"
      ],
      "text/plain": [
       "PreparedData(topic_coordinates=                x           y  topics  cluster       Freq\n",
       "topic                                                    \n",
       "8      124.176414  196.951721       1        1  16.671307\n",
       "1      -66.530525   78.536751       2        1  15.077722\n",
       "9      -31.587551  -79.671104       3        1  12.441375\n",
       "7      -62.098198  246.141052       4        1  11.911503\n",
       "4      138.692993 -153.749054       5        1   9.590612\n",
       "6       87.886673   29.571976       6        1   8.375717\n",
       "3      252.030548   17.073914       7        1   7.817959\n",
       "5     -204.455780  -87.913391       8        1   7.030641\n",
       "2      -49.485767 -242.902725       9        1   6.542704\n",
       "0     -231.704712  104.247932      10        1   4.540460, topic_info=      Category          Freq        Term         Total  loglift  logprob\n",
       "term                                                                    \n",
       "4945   Default  18218.000000         dry  18218.000000  30.0000  30.0000\n",
       "14212  Default  13146.000000        spin  13146.000000  29.0000  29.0000\n",
       "2493   Default   6491.000000    cabernet   6491.000000  28.0000  28.0000\n",
       "1149   Default  18142.000000       aroma  18142.000000  27.0000  27.0000\n",
       "6380   Default  39618.000000       fruit  39618.000000  26.0000  26.0000\n",
       "1896   Default   8388.000000       blend   8388.000000  25.0000  25.0000\n",
       "1847   Default  13571.000000       black  13571.000000  24.0000  24.0000\n",
       "10908  Default  15453.000000      palate  15453.000000  23.0000  23.0000\n",
       "15036  Default  17365.000000      tannin  17365.000000  22.0000  22.0000\n",
       "1038   Default   7613.000000       apple   7613.000000  21.0000  21.0000\n",
       "5936   Default  23896.000000      finish  23896.000000  20.0000  20.0000\n",
       "3270   Default   7091.000000      citrus   7091.000000  19.0000  19.0000\n",
       "8793   Default   6892.000000      little   6892.000000  18.0000  18.0000\n",
       "11430  Default   5673.000000       pinot   5673.000000  17.0000  17.0000\n",
       "3089   Default  23691.000000      cherry  23691.000000  16.0000  16.0000\n",
       "1850   Default  11350.000000  blackberry  11350.000000  15.0000  15.0000\n",
       "9531   Default   4172.000000      merlot   4172.000000  14.0000  14.0000\n",
       "1760   Default  11987.000000       berry  11987.000000  13.0000  13.0000\n",
       "11109  Default   6039.000000       peach   6039.000000  12.0000  12.0000\n",
       "16996  Default   9010.000000        year   9010.000000  11.0000  11.0000\n",
       "6022   Default  49672.000000      flavor  49672.000000  10.0000  10.0000\n",
       "13235  Default   4859.000000   sauvignon   4859.000000   9.0000   9.0000\n",
       "3164   Default   7462.000000   chocolate   7462.000000   8.0000   8.0000\n",
       "16851  Default  51894.000000        wine  51894.000000   7.0000   7.0000\n",
       "4091   Default   8255.000000       crisp   8255.000000   6.0000   6.0000\n",
       "14199  Default  15527.000000       spice  15527.000000   5.0000   5.0000\n",
       "10376  Default   9377.000000        nose   9377.000000   4.0000   4.0000\n",
       "14891  Default  13493.000000       sweet  13493.000000   3.0000   3.0000\n",
       "10468  Default  12416.000000         oak  12416.000000   2.0000   2.0000\n",
       "8710   Default   7146.000000        like   7146.000000   1.0000   1.0000\n",
       "...        ...           ...         ...           ...      ...      ...\n",
       "235    Topic10    383.864756          30    384.752073   3.0898  -5.4607\n",
       "4067   Topic10    363.505782       creek    364.393142   3.0897  -5.5152\n",
       "871    Topic10    339.446052    american    340.333515   3.0895  -5.5837\n",
       "7603   Topic10    310.165018   immediate    311.052421   3.0893  -5.6739\n",
       "334    Topic10    282.678465          70    283.565766   3.0890  -5.7667\n",
       "14428  Topic10    267.372463        step    268.259906   3.0888  -5.8223\n",
       "2941   Topic10    244.975727       chalk    245.863254   3.0885  -5.9098\n",
       "7018   Topic10    230.723053      ground    231.610437   3.0883  -5.9698\n",
       "16177  Topic10    213.023336     usually    213.910717   3.0880  -6.0496\n",
       "15556  Topic10    210.797098       trace    211.684540   3.0879  -6.0601\n",
       "5353   Topic10    203.840666       equal    204.728028   3.0878  -6.0936\n",
       "85     Topic10    202.091393          18    202.978794   3.0878  -6.1023\n",
       "14546  Topic10    194.227369    strength    195.114753   3.0876  -6.1420\n",
       "9746   Topic10    912.083640      modern    993.583284   3.0066  -4.5952\n",
       "1896   Topic10   5182.439602       blend   8388.134475   2.6106  -2.8580\n",
       "13235  Topic10   3133.676471   sauvignon   4859.027187   2.6535  -3.3610\n",
       "14936  Topic10   1764.830496       syrah   3733.079922   2.3430  -3.9352\n",
       "16230  Topic10    742.729499      valley   1642.973806   2.2982  -4.8006\n",
       "62     Topic10    527.903996          15    951.531944   2.5030  -5.1421\n",
       "6889   Topic10   1067.678116       grape   3207.405193   1.9922  -4.4377\n",
       "2781   Topic10   1207.531980      cassis   4038.988837   1.8847  -4.3146\n",
       "9113   Topic10    609.351994      malbec   1340.580694   2.3037  -4.9986\n",
       "23     Topic10    508.813833          10   1104.895610   2.3167  -5.1789\n",
       "12047  Topic10    637.898078        pure   2042.395305   1.9284  -4.9528\n",
       "3164   Topic10    996.220784   chocolate   7462.240396   1.0785  -4.5070\n",
       "14609  Topic10    824.352595       style   5237.606551   1.2431  -4.6964\n",
       "4428   Topic10    611.885398        deep   2111.571599   1.8535  -4.9944\n",
       "15539  Topic10    480.829021       tough   1103.067554   2.2618  -5.2355\n",
       "8861   Topic10    568.858589        long   5557.349625   0.8129  -5.0673\n",
       "9732   Topic10    514.848810         mix   2584.926845   1.4786  -5.1671\n",
       "\n",
       "[619 rows x 6 columns], token_table=       Topic      Freq        Term\n",
       "term                              \n",
       "1          2  0.998978         000\n",
       "23         1  0.071500          10\n",
       "23         3  0.152956          10\n",
       "23         5  0.008146          10\n",
       "23         6  0.241652          10\n",
       "23         8  0.064259          10\n",
       "23        10  0.460677          10\n",
       "24         6  0.999428         100\n",
       "49         8  0.998483          13\n",
       "58         4  0.998858          14\n",
       "62         1  0.444546          15\n",
       "62        10  0.554895          15\n",
       "85        10  0.995178          18\n",
       "153        5  0.998529          20\n",
       "173        9  0.998269        2009\n",
       "180        1  0.997633        2014\n",
       "181        4  0.998624        2015\n",
       "235       10  0.998045          30\n",
       "263        5  0.996328          40\n",
       "289        7  0.998912          50\n",
       "334       10  0.998005          70\n",
       "434        6  0.996123  absolutely\n",
       "497        4  0.471437        acid\n",
       "497        5  0.220605        acid\n",
       "497        6  0.207612        acid\n",
       "497        9  0.099962        acid\n",
       "503        1  0.076638     acidity\n",
       "503        2  0.440319     acidity\n",
       "503        3  0.353189     acidity\n",
       "503        4  0.009788     acidity\n",
       "...      ...       ...         ...\n",
       "16812      8  0.477395        wild\n",
       "16841      8  0.996316        wind\n",
       "16851      1  0.118047        wine\n",
       "16851      2  0.383837        wine\n",
       "16851      3  0.092399        wine\n",
       "16851      4  0.062415        wine\n",
       "16851      5  0.056152        wine\n",
       "16851      6  0.118201        wine\n",
       "16851      7  0.037287        wine\n",
       "16851      8  0.102323        wine\n",
       "16851      9  0.029329        wine\n",
       "16857      5  0.122668   winemaker\n",
       "16857      9  0.876382   winemaker\n",
       "16860      4  0.184288      winery\n",
       "16860      9  0.555541      winery\n",
       "16860     10  0.259288      winery\n",
       "16907      1  0.110231        wood\n",
       "16907      2  0.807302        wood\n",
       "16907      5  0.082313        wood\n",
       "16928      9  0.999552        work\n",
       "16945     10  0.998761       worth\n",
       "16996      2  0.418955        year\n",
       "16996      4  0.126075        year\n",
       "16996      6  0.454913        year\n",
       "17026      2  0.482125       young\n",
       "17026      4  0.001913       young\n",
       "17026      6  0.495199       young\n",
       "17026      9  0.020726       young\n",
       "17067      3  0.998797        zest\n",
       "17073      3  0.999246       zesty\n",
       "\n",
       "[997 rows x 3 columns], R=30, lambda_step=0.01, plot_opts={'xlab': 'PC1', 'ylab': 'PC2'}, topic_order=[9, 2, 10, 8, 5, 7, 4, 6, 3, 1])"
      ]
     },
     "execution_count": 16,
     "metadata": {},
     "output_type": "execute_result"
    }
   ],
   "source": [
    "pyLDAvis.enable_notebook()\n",
    "dash = pyLDAvis.sklearn.prepare(lda, data_vectorized, vectorizer, mds='tsne')\n",
    "dash"
   ]
  },
  {
   "cell_type": "markdown",
   "metadata": {},
   "source": [
    "In here, we use LDA visualization (with TSNE) to show if our LDA is good as a dimensionality reduction of our text data. The plot is interactive with line and point as markers and size / area (for the point), length (for the bar), position, and color. The area covers the percentage of the token, while the position defines whether there are overlapping topic or not. Here we can see there is no overlapping topic. Which means our LDA is good."
   ]
  },
  {
   "cell_type": "code",
   "execution_count": 17,
   "metadata": {},
   "outputs": [
    {
     "data": {
      "text/plain": [
       "(array([ 585., 2599., 5445., 7542., 4487., 3174., 1420.,  373.,   87.,\n",
       "          23.]),\n",
       " array([ 80.,  82.,  84.,  86.,  88.,  90.,  92.,  94.,  96.,  98., 100.]),\n",
       " <a list of 10 Patch objects>)"
      ]
     },
     "execution_count": 17,
     "metadata": {},
     "output_type": "execute_result"
    },
    {
     "data": {
      "image/png": "[encoded data removed]",
      "text/plain": [
       "<Figure size 432x288 with 2 Axes>"
      ]
     },
     "metadata": {
      "needs_background": "light"
     },
     "output_type": "display_data"
    }
   ],
   "source": [
    "designation_not_empty = data[data['designation'] != \"EMPTY\"]\n",
    "designation_empty =  data[data['designation'] == \"EMPTY\"]\n",
    "\n",
    "fig, axs = plt.subplots(1, 2, sharey=True)\n",
    "fig.suptitle(\"Distribution of points with respect to designation\\nNot empty vs empty\")\n",
    "axs[0].hist(designation_not_empty['points'])\n",
    "axs[1].hist(designation_empty['points'])"
   ]
  },
  {
   "cell_type": "markdown",
   "metadata": {},
   "source": [
    "Here visualization is used to discover the distribution. We compare the distribution of points in respect of designation. We can see the distribution is the same, and only the size is different. However the number of missing values are quite many here. Thus we can decide to drop the variable as it might not be a good predictor. Here we use a simple plot from Matplotlib as a simple plot like this is sufficient to do the job. From the visualization perspective, we can see the marker being used are line, with position as a channel and the length as a channel. "
   ]
  },
  {
   "cell_type": "code",
   "execution_count": 18,
   "metadata": {},
   "outputs": [],
   "source": [
    "df = data\n",
    "\n",
    "# We drop description because we don't need it anymore\n",
    "# We drop points as it is the targetted variable and has been moved to labels\n",
    "# We drop province and use country instead\n",
    "# We drop designation as it has many missing values, and the distribution of the missing value is the same with the non missing value\n",
    "df = df.drop(['description', 'province', 'points', 'designation'], axis=1)"
   ]
  },
  {
   "cell_type": "code",
   "execution_count": 19,
   "metadata": {},
   "outputs": [],
   "source": [
    "# Transform to one-hot-vector\n",
    "categorical_columns = ['country', 'region_1', 'variety', 'winery']\n",
    "X = pd.get_dummies(df, columns=categorical_columns, sparse=True)"
   ]
  },
  {
   "cell_type": "code",
   "execution_count": 20,
   "metadata": {},
   "outputs": [],
   "source": [
    "# Split training and testing\n",
    "X_train, X_test, y_train, y_test = train_test_split(X, labels, test_size=0.2, random_state=42)"
   ]
  },
  {
   "cell_type": "code",
   "execution_count": 21,
   "metadata": {},
   "outputs": [],
   "source": [
    "# Bag of words for training and testing\n",
    "vectorizer = CountVectorizer(lowercase=True)\n",
    "data_vectorized_train = vectorizer.fit_transform(X_train[\"processed_description\"])\n",
    "data_vectorized_test = vectorizer.transform(X_test[\"processed_description\"])"
   ]
  },
  {
   "cell_type": "code",
   "execution_count": 22,
   "metadata": {},
   "outputs": [
    {
     "name": "stdout",
     "output_type": "stream",
     "text": [
      "iteration: 1 of max_iter: 10\n",
      "iteration: 2 of max_iter: 10\n",
      "iteration: 3 of max_iter: 10\n",
      "iteration: 4 of max_iter: 10\n",
      "iteration: 5 of max_iter: 10\n",
      "iteration: 6 of max_iter: 10\n",
      "iteration: 7 of max_iter: 10\n",
      "iteration: 8 of max_iter: 10\n",
      "iteration: 9 of max_iter: 10\n",
      "iteration: 10 of max_iter: 10\n"
     ]
    }
   ],
   "source": [
    "# LDA as dimesionality reduction for train and testing\n",
    "lda = LatentDirichletAllocation(n_components=10, doc_topic_prior=.01, max_iter=10, learning_method='online',verbose=True)\n",
    "data_lda_train = lda.fit_transform(data_vectorized_train)\n",
    "data_lda_test = lda.transform(data_vectorized_test)"
   ]
  },
  {
   "cell_type": "code",
   "execution_count": 23,
   "metadata": {},
   "outputs": [
    {
     "name": "stderr",
     "output_type": "stream",
     "text": [
      "/home/prdx/.local/lib/python3.7/site-packages/ipykernel_launcher.py:3: SettingWithCopyWarning: \n",
      "A value is trying to be set on a copy of a slice from a DataFrame.\n",
      "Try using .loc[row_indexer,col_indexer] = value instead\n",
      "\n",
      "See the caveats in the documentation: http://pandas.pydata.org/pandas-docs/stable/indexing.html#indexing-view-versus-copy\n",
      "  This is separate from the ipykernel package so we can avoid doing imports until\n"
     ]
    }
   ],
   "source": [
    "# Append LDA result to the dataframe\n",
    "for i, d_train in enumerate(data_lda_train.T):\n",
    "    X_train['topic_' + str(i)] = d_train"
   ]
  },
  {
   "cell_type": "code",
   "execution_count": 24,
   "metadata": {},
   "outputs": [
    {
     "name": "stderr",
     "output_type": "stream",
     "text": [
      "/home/prdx/.local/lib/python3.7/site-packages/ipykernel_launcher.py:3: SettingWithCopyWarning: \n",
      "A value is trying to be set on a copy of a slice from a DataFrame.\n",
      "Try using .loc[row_indexer,col_indexer] = value instead\n",
      "\n",
      "See the caveats in the documentation: http://pandas.pydata.org/pandas-docs/stable/indexing.html#indexing-view-versus-copy\n",
      "  This is separate from the ipykernel package so we can avoid doing imports until\n"
     ]
    }
   ],
   "source": [
    "# Append LDA result to the dataframe\n",
    "for i, d_test in enumerate(data_lda_test.T):\n",
    "    X_test['topic_' + str(i)] = d_test"
   ]
  },
  {
   "cell_type": "code",
   "execution_count": 25,
   "metadata": {},
   "outputs": [
    {
     "name": "stderr",
     "output_type": "stream",
     "text": [
      "/home/prdx/.local/lib/python3.7/site-packages/ipykernel_launcher.py:3: SettingWithCopyWarning: \n",
      "A value is trying to be set on a copy of a slice from a DataFrame.\n",
      "Try using .loc[row_indexer,col_indexer] = value instead\n",
      "\n",
      "See the caveats in the documentation: http://pandas.pydata.org/pandas-docs/stable/indexing.html#indexing-view-versus-copy\n",
      "  This is separate from the ipykernel package so we can avoid doing imports until\n",
      "/home/prdx/.local/lib/python3.7/site-packages/ipykernel_launcher.py:4: SettingWithCopyWarning: \n",
      "A value is trying to be set on a copy of a slice from a DataFrame.\n",
      "Try using .loc[row_indexer,col_indexer] = value instead\n",
      "\n",
      "See the caveats in the documentation: http://pandas.pydata.org/pandas-docs/stable/indexing.html#indexing-view-versus-copy\n",
      "  after removing the cwd from sys.path.\n"
     ]
    }
   ],
   "source": [
    "# Normalized price\n",
    "scaler = StandardScaler()\n",
    "X_train['price'] = scaler.fit_transform(np.array(X_train['price']).reshape(-1, 1))\n",
    "X_test['price'] = scaler.transform(np.array(X_test['price']).reshape(-1, 1))"
   ]
  },
  {
   "cell_type": "code",
   "execution_count": 26,
   "metadata": {},
   "outputs": [],
   "source": [
    "# Not used anymore\n",
    "X_train = X_train.drop(['processed_description'], axis=1)\n",
    "X_test = X_test.drop(['processed_description'], axis=1)"
   ]
  },
  {
   "cell_type": "code",
   "execution_count": 27,
   "metadata": {},
   "outputs": [],
   "source": [
    "# Split training and development\n",
    "_X_train, X_dev, _y_train, y_dev = train_test_split(X_train, y_train, test_size=0.15, random_state=42)"
   ]
  },
  {
   "cell_type": "code",
   "execution_count": 181,
   "metadata": {},
   "outputs": [
    {
     "name": "stderr",
     "output_type": "stream",
     "text": [
      "/home/prdx/.local/lib/python3.7/site-packages/sklearn/ensemble/forest.py:248: FutureWarning: The default value of n_estimators will change from 10 in version 0.20 to 100 in 0.22.\n",
      "  \"10 in version 0.20 to 100 in 0.22.\", FutureWarning)\n"
     ]
    },
    {
     "data": {
      "text/plain": [
       "0.892041706473874"
      ]
     },
     "execution_count": 181,
     "metadata": {},
     "output_type": "execute_result"
    }
   ],
   "source": [
    "# Just a quick check with a model\n",
    "test = RandomForestRegressor(max_depth=100)\n",
    "test.fit(X_train, y_train)\n",
    "test.score(X_test, y_test)"
   ]
  },
  {
   "cell_type": "markdown",
   "metadata": {},
   "source": [
    "---------------------------------------------------------------------------------------------------"
   ]
  },
  {
   "cell_type": "code",
   "execution_count": 28,
   "metadata": {},
   "outputs": [],
   "source": [
    "X_dev_sparse = X_dev.to_sparse()"
   ]
  },
  {
   "cell_type": "code",
   "execution_count": 231,
   "metadata": {},
   "outputs": [
    {
     "name": "stdout",
     "output_type": "stream",
     "text": [
      "Fitting 10 folds for each of 9 candidates, totalling 90 fits\n"
     ]
    },
    {
     "name": "stderr",
     "output_type": "stream",
     "text": [
      "/home/prdx/.local/lib/python3.7/site-packages/sklearn/model_selection/_search.py:271: UserWarning: The total space of parameters 9 is smaller than n_iter=10. Running 9 iterations. For exhaustive searches, use GridSearchCV.\n",
      "  % (grid_size, self.n_iter, grid_size), UserWarning)\n",
      "[Parallel(n_jobs=8)]: Using backend LokyBackend with 8 concurrent workers.\n",
      "[Parallel(n_jobs=8)]: Done  34 tasks      | elapsed: 127.2min\n",
      "[Parallel(n_jobs=8)]: Done  90 out of  90 | elapsed: 282.0min finished\n"
     ]
    },
    {
     "data": {
      "text/plain": [
       "RandomizedSearchCV(cv=10, error_score='raise-deprecating',\n",
       "          estimator=RandomForestRegressor(bootstrap=True, criterion='mse', max_depth=None,\n",
       "           max_features='auto', max_leaf_nodes=None,\n",
       "           min_impurity_decrease=0.0, min_impurity_split=None,\n",
       "           min_samples_leaf=1, min_samples_split=2,\n",
       "           min_weight_fraction_leaf=0.0, n_estimators='warn', n_jobs=None,\n",
       "           oob_score=False, random_state=None, verbose=0, warm_start=False),\n",
       "          fit_params=None, iid='warn', n_iter=10, n_jobs=8,\n",
       "          param_distributions={'max_depth': [None, 10, 100], 'n_estimators': [500, 700, 1000]},\n",
       "          pre_dispatch='2*n_jobs', random_state=None, refit=True,\n",
       "          return_train_score='warn', scoring='r2', verbose=True)"
      ]
     },
     "execution_count": 231,
     "metadata": {},
     "output_type": "execute_result"
    }
   ],
   "source": [
    "parameters = {'max_depth': [None, 10, 100], 'n_estimators': [500, 700, 1000]}\n",
    "\n",
    "rf_cv = RandomizedSearchCV(RandomForestRegressor(), parameters, cv=10, scoring=\"r2\", n_jobs=8, verbose=True)\n",
    "rf_cv.fit(X_dev_sparse, y_dev)"
   ]
  },
  {
   "cell_type": "code",
   "execution_count": 234,
   "metadata": {},
   "outputs": [],
   "source": [
    "# Memory problem, better save it before sorry\n",
    "import pickle\n",
    "with open(\"dump.p\", \"wb\") as dump:\n",
    "    pickle.dump(rf_cv, dump)"
   ]
  },
  {
   "cell_type": "markdown",
   "metadata": {},
   "source": [
    "---------------------------------------------------------------------------------"
   ]
  },
  {
   "cell_type": "code",
   "execution_count": null,
   "metadata": {},
   "outputs": [
    {
     "name": "stderr",
     "output_type": "stream",
     "text": [
      "/home/prdx/.local/lib/python3.7/site-packages/ipykernel_launcher.py:5: FutureWarning: Method .as_matrix will be removed in a future version. Use .values instead.\n",
      "  \"\"\"\n",
      "/home/prdx/.local/lib/python3.7/site-packages/sklearn/model_selection/_search.py:271: UserWarning: The total space of parameters 4 is smaller than n_iter=10. Running 4 iterations. For exhaustive searches, use GridSearchCV.\n",
      "  % (grid_size, self.n_iter, grid_size), UserWarning)\n",
      "[Parallel(n_jobs=1)]: Using backend SequentialBackend with 1 concurrent workers.\n"
     ]
    },
    {
     "name": "stdout",
     "output_type": "stream",
     "text": [
      "Fitting 10 folds for each of 4 candidates, totalling 40 fits\n"
     ]
    }
   ],
   "source": [
    "parameters = {'max_depth': [10, 100], 'n_estimators': [700, 1000]}\n",
    "\n",
    "xgb_cv = RandomizedSearchCV(xgb.XGBRegressor(), parameters, cv=10, scoring=\"r2\", \n",
    "                   n_jobs=1, verbose=1)\n",
    "xgb_cv.fit(X_dev_sparse.as_matrix(), y_dev)"
   ]
  },
  {
   "cell_type": "code",
   "execution_count": null,
   "metadata": {},
   "outputs": [],
   "source": [
    "# Memory problem, better save it before sorry\n",
    "with open(\"dump_2.p\", \"wb\") as dump:\n",
    "    pickle.dump(xgb_cv, dump)"
   ]
  },
  {
   "cell_type": "markdown",
   "metadata": {},
   "source": [
    "---------------------------------------------------------------------------------"
   ]
  },
  {
   "cell_type": "code",
   "execution_count": null,
   "metadata": {},
   "outputs": [],
   "source": [
    "parameters = {alpha=[1, 0.1, 0.01, 0.001]}\n",
    "ridge_cv = RandomizedSearchCV(Ridge(), parameters, cv=10, scoring=\"r2\", \n",
    "                   n_jobs=8, verbose=1)\n",
    "ridge_cv.fit(X_dev_sparse, y_dev)"
   ]
  },
  {
   "cell_type": "code",
   "execution_count": null,
   "metadata": {},
   "outputs": [],
   "source": [
    "# Memory problem, better save it before sorry\n",
    "with open(\"dump_3.p\", \"wb\") as dump:\n",
    "    pickle.dump(ridge_cv, dump)"
   ]
  },
  {
   "cell_type": "markdown",
   "metadata": {},
   "source": [
    "--------------------------------------------------------------------------------------------------"
   ]
  },
  {
   "cell_type": "code",
   "execution_count": null,
   "metadata": {},
   "outputs": [],
   "source": [
    "file = open(\"dump.p\",'rb')\n",
    "loaded_cv = pickle.load(file)\n",
    "file.close()\n",
    "\n",
    "# Collecting the result\n",
    "matrix = pd.DataFrame()\n",
    "\n",
    "for i in range(10):\n",
    "    col = list()\n",
    "    col_name = \"split\" + str(i) + \"_test_score\"\n",
    "    for j in range(0, 3):\n",
    "        col.append(float(\"{0:.3f}\".format(loaded_cv.cv_results_[col_name][j])))\n",
    "    matrix[i] = col\n",
    "\n",
    "matrix_np = matrix.as_matrix()"
   ]
  },
  {
   "cell_type": "markdown",
   "metadata": {},
   "source": [
    "--------------------------------------------------------------------------------------------------------------------"
   ]
  },
  {
   "cell_type": "code",
   "execution_count": null,
   "metadata": {},
   "outputs": [],
   "source": [
    "import plotly\n",
    "import plotly.plotly as py\n",
    "import plotly.graph_objs as go\n",
    "\n",
    "\n",
    "plotly.offline.init_notebook_mode(connected=True)"
   ]
  },
  {
   "cell_type": "code",
   "execution_count": null,
   "metadata": {},
   "outputs": [],
   "source": [
    "layout = go.Layout(\n",
    "    title=\"Random Forest K-Fold CV Test Score with max depth=3 (default)\",\n",
    "    autosize=False,\n",
    "    width=700,\n",
    "    height=500,\n",
    "    xaxis=go.layout.XAxis(\n",
    "        title=\"Split\"\n",
    "    ),\n",
    "    yaxis=go.layout.YAxis(\n",
    "        title='R2 score',\n",
    "        tickvals=[0.6, 0.7],\n",
    "        range=[0.6, 0.7],\n",
    "        tickmode='array',\n",
    "        automargin=True\n",
    "    )\n",
    ")\n",
    "\n",
    "trace1 = go.Scatter(\n",
    "    x=np.arange(1,11),\n",
    "    y=matrix_np[0],\n",
    "    fill='tozeroy',\n",
    "    mode= 'none',\n",
    "    name=\"n_estimator=500\"\n",
    ")\n",
    "trace2 = go.Scatter(\n",
    "    x=np.arange(1,11),\n",
    "    y=matrix_np[1],\n",
    "    fill='tonexty',\n",
    "    mode= 'none',\n",
    "    name=\"n_estimator=700\"\n",
    ")\n",
    "trace3 = go.Scatter(\n",
    "    x=np.arange(1,11),\n",
    "    y=matrix_np[2],\n",
    "    fill='tonexty',\n",
    "    mode= 'none',\n",
    "    name=\"n_estimator=1000\"\n",
    ")\n",
    "\n",
    "data = [trace1, trace2, trace3]\n",
    "fig = dict(data=data, layout=layout)\n",
    "py.iplot(fig)"
   ]
  },
  {
   "cell_type": "code",
   "execution_count": null,
   "metadata": {},
   "outputs": [],
   "source": [
    "file = open(\"dump_2.p\",'rb')\n",
    "loaded_cv = pickle.load(file)\n",
    "file.close()\n",
    "\n",
    "# Collecting the result\n",
    "matrix = pd.DataFrame()\n",
    "\n",
    "for i in range(10):\n",
    "    col = list()\n",
    "    col_name = \"split\" + str(i) + \"_test_score\"\n",
    "    for j in range(0, 3):\n",
    "        col.append(float(\"{0:.3f}\".format(loaded_cv.cv_results_[col_name][j])))\n",
    "    matrix[i] = col\n",
    "\n",
    "matrix_np = matrix.as_matrix()"
   ]
  },
  {
   "cell_type": "code",
   "execution_count": null,
   "metadata": {},
   "outputs": [],
   "source": [
    "layout = go.Layout(\n",
    "    title=\"XGBoost K-Fold CV Test Score with max depth=3\",\n",
    "    autosize=False,\n",
    "    width=700,\n",
    "    height=500,\n",
    "    xaxis=go.layout.XAxis(\n",
    "        title=\"Split\"\n",
    "    ),\n",
    "    yaxis=go.layout.YAxis(\n",
    "        title='R2 score',\n",
    "        tickvals=[0.6, 0.7],\n",
    "        range=[0.6, 0.7],\n",
    "        tickmode='array',\n",
    "        automargin=True\n",
    "    )\n",
    ")\n",
    "\n",
    "trace1 = go.Scatter(\n",
    "    x=np.arange(1,11),\n",
    "    y=matrix_np[0],\n",
    "    fill='tozeroy',\n",
    "    mode= 'none',\n",
    "    name=\"n_estimator=500\"\n",
    ")\n",
    "trace2 = go.Scatter(\n",
    "    x=np.arange(1,11),\n",
    "    y=matrix_np[1],\n",
    "    fill='tonexty',\n",
    "    mode= 'none',\n",
    "    name=\"n_estimator=700\"\n",
    ")\n",
    "trace3 = go.Scatter(\n",
    "    x=np.arange(1,11),\n",
    "    y=matrix_np[2],\n",
    "    fill='tonexty',\n",
    "    mode= 'none',\n",
    "    name=\"n_estimator=1000\"\n",
    ")\n",
    "\n",
    "data = [trace1, trace2, trace3]\n",
    "fig = dict(data=data, layout=layout)\n",
    "py.iplot(fig)"
   ]
  },
  {
   "cell_type": "code",
   "execution_count": null,
   "metadata": {},
   "outputs": [],
   "source": [
    "file = open(\"dump_3.p\",'rb')\n",
    "loaded_cv = pickle.load(file)\n",
    "file.close()\n",
    "\n",
    "# Collecting the result\n",
    "matrix = pd.DataFrame()\n",
    "\n",
    "for i in range(10):\n",
    "    col = list()\n",
    "    col_name = \"split\" + str(i) + \"_test_score\"\n",
    "    for j in range(0, 3):\n",
    "        col.append(float(\"{0:.3f}\".format(loaded_cv.cv_results_[col_name][j])))\n",
    "    matrix[i] = col\n",
    "\n",
    "matrix_np = matrix.as_matrix()"
   ]
  },
  {
   "cell_type": "markdown",
   "metadata": {},
   "source": [
    "There are three components we want to visualize. The first one is the parameter n_estimator, the second one is the split, and the third one is the r^2 score. Since we also want to show the trend, then it make sense to make it as a area chart. The channel is the area to show the value, the position to show the split, and the color to show the hyperparameter being tuned. Using plotly we can make it interactive thus we can also show the annotation."
   ]
  },
  {
   "cell_type": "markdown",
   "metadata": {},
   "source": [
    "-------------------------------------------------------------------------------------"
   ]
  },
  {
   "cell_type": "code",
   "execution_count": null,
   "metadata": {},
   "outputs": [],
   "source": [
    "# Running model from the best result\n",
    "\n",
    "rf = RandomForestRegressor(n_estimators=700)\n",
    "rf.fit(X_train, y_train)\n",
    "rf.score(X_test, y_test)"
   ]
  },
  {
   "cell_type": "code",
   "execution_count": null,
   "metadata": {},
   "outputs": [],
   "source": [
    "# Running model from the best result\n",
    "\n",
    "xgbr = xgb.XGBRegressor(n_estimators=700)\n",
    "xgbr.fit(X_train.as_matrix(), y_train)"
   ]
  },
  {
   "cell_type": "code",
   "execution_count": null,
   "metadata": {},
   "outputs": [],
   "source": [
    "# Running model from the best result\n",
    "\n",
    "ridge = Ridge(alpha=xxx)\n",
    "ridge.fit(X_train, y_train)\n",
    "ridge.score(X_test, y_test)"
   ]
  },
  {
   "cell_type": "markdown",
   "metadata": {},
   "source": [
    "----------------------------------------------------------------------------------------"
   ]
  }
 ],
 "metadata": {
  "kernelspec": {
   "display_name": "Python 3",
   "language": "python",
   "name": "python3"
  },
  "language_info": {
   "codemirror_mode": {
    "name": "ipython",
    "version": 3
   },
   "file_extension": ".py",
   "mimetype": "text/x-python",
   "name": "python",
   "nbconvert_exporter": "python",
   "pygments_lexer": "ipython3",
   "version": "3.7.2"
  }
 },
 "nbformat": 4,
 "nbformat_minor": 2
}
