{
 "cells": [
  {
   "cell_type": "code",
   "execution_count": 189,
   "metadata": {},
   "outputs": [],
   "source": [
    "import pandas as pd\n",
    "import numpy as np\n",
    "\n",
    "from sklearn.decomposition import LatentDirichletAllocation\n",
    "from sklearn.feature_extraction.text import CountVectorizer, TfidfVectorizer\n",
    "from sklearn.manifold import TSNE\n",
    "from sklearn.model_selection import GridSearchCV\n",
    "from sklearn.model_selection import train_test_split\n",
    "from sklearn.ensemble import RandomForestRegressor\n",
    "from sklearn.preprocessing import StandardScaler\n",
    "from sklearn.linear_model import Ridge\n",
    "from sklearn.metrics import r2_score\n",
    "import xgboost as xgb\n",
    "\n",
    "# spacy for lemmatization\n",
    "import spacy\n",
    "\n",
    "# Plotting tools\n",
    "import pyLDAvis\n",
    "import  pyLDAvis.sklearn\n",
    "\n",
    "from tqdm import tqdm\n",
    "from spacy.lang.en.stop_words import STOP_WORDS\n",
    "from spacy.lang.en import English\n",
    "import string\n",
    "\n",
    "import matplotlib.pyplot as plt\n",
    "\n",
    "\n",
    "# !python3 -m spacy download en_core_web_lg --user"
   ]
  },
  {
   "cell_type": "code",
   "execution_count": 125,
   "metadata": {},
   "outputs": [],
   "source": [
    "nlp = spacy.load('en_core_web_lg')"
   ]
  },
  {
   "cell_type": "code",
   "execution_count": 126,
   "metadata": {},
   "outputs": [],
   "source": [
    "data = pd.read_csv(\"./winemag-data_first150k.csv\")"
   ]
  },
  {
   "cell_type": "code",
   "execution_count": 127,
   "metadata": {},
   "outputs": [
    {
     "data": {
      "text/plain": [
       "Unnamed: 0         0\n",
       "country            5\n",
       "description        0\n",
       "designation    45735\n",
       "points             0\n",
       "price          13695\n",
       "province           5\n",
       "region_1       25060\n",
       "region_2       89977\n",
       "variety            0\n",
       "winery             0\n",
       "dtype: int64"
      ]
     },
     "execution_count": 127,
     "metadata": {},
     "output_type": "execute_result"
    }
   ],
   "source": [
    "data.isna().sum()"
   ]
  },
  {
   "cell_type": "code",
   "execution_count": 128,
   "metadata": {},
   "outputs": [
    {
     "data": {
      "text/html": [
       "<div>\n",
       "<style scoped>\n",
       "    .dataframe tbody tr th:only-of-type {\n",
       "        vertical-align: middle;\n",
       "    }\n",
       "\n",
       "    .dataframe tbody tr th {\n",
       "        vertical-align: top;\n",
       "    }\n",
       "\n",
       "    .dataframe thead th {\n",
       "        text-align: right;\n",
       "    }\n",
       "</style>\n",
       "<table border=\"1\" class=\"dataframe\">\n",
       "  <thead>\n",
       "    <tr style=\"text-align: right;\">\n",
       "      <th></th>\n",
       "      <th>Unnamed: 0</th>\n",
       "      <th>country</th>\n",
       "      <th>description</th>\n",
       "      <th>designation</th>\n",
       "      <th>points</th>\n",
       "      <th>price</th>\n",
       "      <th>province</th>\n",
       "      <th>region_1</th>\n",
       "      <th>region_2</th>\n",
       "      <th>variety</th>\n",
       "      <th>winery</th>\n",
       "    </tr>\n",
       "  </thead>\n",
       "  <tbody>\n",
       "    <tr>\n",
       "      <th>1133</th>\n",
       "      <td>1133</td>\n",
       "      <td>NaN</td>\n",
       "      <td>Delicate white flowers and a spin of lemon pee...</td>\n",
       "      <td>Askitikos</td>\n",
       "      <td>90</td>\n",
       "      <td>17.0</td>\n",
       "      <td>NaN</td>\n",
       "      <td>NaN</td>\n",
       "      <td>NaN</td>\n",
       "      <td>Assyrtiko</td>\n",
       "      <td>Tsililis</td>\n",
       "    </tr>\n",
       "    <tr>\n",
       "      <th>1440</th>\n",
       "      <td>1440</td>\n",
       "      <td>NaN</td>\n",
       "      <td>A blend of 60% Syrah, 30% Cabernet Sauvignon a...</td>\n",
       "      <td>Shah</td>\n",
       "      <td>90</td>\n",
       "      <td>30.0</td>\n",
       "      <td>NaN</td>\n",
       "      <td>NaN</td>\n",
       "      <td>NaN</td>\n",
       "      <td>Red Blend</td>\n",
       "      <td>Büyülübağ</td>\n",
       "    </tr>\n",
       "    <tr>\n",
       "      <th>68226</th>\n",
       "      <td>68226</td>\n",
       "      <td>NaN</td>\n",
       "      <td>From first sniff to last, the nose never makes...</td>\n",
       "      <td>Piedra Feliz</td>\n",
       "      <td>81</td>\n",
       "      <td>15.0</td>\n",
       "      <td>NaN</td>\n",
       "      <td>NaN</td>\n",
       "      <td>NaN</td>\n",
       "      <td>Pinot Noir</td>\n",
       "      <td>Chilcas</td>\n",
       "    </tr>\n",
       "    <tr>\n",
       "      <th>113016</th>\n",
       "      <td>113016</td>\n",
       "      <td>NaN</td>\n",
       "      <td>From first sniff to last, the nose never makes...</td>\n",
       "      <td>Piedra Feliz</td>\n",
       "      <td>81</td>\n",
       "      <td>15.0</td>\n",
       "      <td>NaN</td>\n",
       "      <td>NaN</td>\n",
       "      <td>NaN</td>\n",
       "      <td>Pinot Noir</td>\n",
       "      <td>Chilcas</td>\n",
       "    </tr>\n",
       "    <tr>\n",
       "      <th>135696</th>\n",
       "      <td>135696</td>\n",
       "      <td>NaN</td>\n",
       "      <td>From first sniff to last, the nose never makes...</td>\n",
       "      <td>Piedra Feliz</td>\n",
       "      <td>81</td>\n",
       "      <td>15.0</td>\n",
       "      <td>NaN</td>\n",
       "      <td>NaN</td>\n",
       "      <td>NaN</td>\n",
       "      <td>Pinot Noir</td>\n",
       "      <td>Chilcas</td>\n",
       "    </tr>\n",
       "  </tbody>\n",
       "</table>\n",
       "</div>"
      ],
      "text/plain": [
       "        Unnamed: 0 country                                        description  \\\n",
       "1133          1133     NaN  Delicate white flowers and a spin of lemon pee...   \n",
       "1440          1440     NaN  A blend of 60% Syrah, 30% Cabernet Sauvignon a...   \n",
       "68226        68226     NaN  From first sniff to last, the nose never makes...   \n",
       "113016      113016     NaN  From first sniff to last, the nose never makes...   \n",
       "135696      135696     NaN  From first sniff to last, the nose never makes...   \n",
       "\n",
       "         designation  points  price province region_1 region_2     variety  \\\n",
       "1133       Askitikos      90   17.0      NaN      NaN      NaN   Assyrtiko   \n",
       "1440            Shah      90   30.0      NaN      NaN      NaN   Red Blend   \n",
       "68226   Piedra Feliz      81   15.0      NaN      NaN      NaN  Pinot Noir   \n",
       "113016  Piedra Feliz      81   15.0      NaN      NaN      NaN  Pinot Noir   \n",
       "135696  Piedra Feliz      81   15.0      NaN      NaN      NaN  Pinot Noir   \n",
       "\n",
       "           winery  \n",
       "1133     Tsililis  \n",
       "1440    Büyülübağ  \n",
       "68226     Chilcas  \n",
       "113016    Chilcas  \n",
       "135696    Chilcas  "
      ]
     },
     "execution_count": 128,
     "metadata": {},
     "output_type": "execute_result"
    }
   ],
   "source": [
    "# We can see duplicated rows\n",
    "data.loc[data[\"country\"].isna()]"
   ]
  },
  {
   "cell_type": "code",
   "execution_count": 129,
   "metadata": {},
   "outputs": [
    {
     "name": "stdout",
     "output_type": "stream",
     "text": [
      "Length of dataframe after duplicates are removed: 92393\n",
      "Length of dataframe after NaNs are removed: 83945\n"
     ]
    }
   ],
   "source": [
    "# Remove duplicate and NA\n",
    "data = data[data.duplicated('description', keep=False)]\n",
    "data = data.dropna(subset=['description', 'points', 'country', 'province', 'price'])"
   ]
  },
  {
   "cell_type": "code",
   "execution_count": 130,
   "metadata": {},
   "outputs": [
    {
     "data": {
      "text/plain": [
       "Unnamed: 0         0\n",
       "country            0\n",
       "description        0\n",
       "designation    25735\n",
       "points             0\n",
       "price              0\n",
       "province           0\n",
       "region_1       14453\n",
       "region_2       46677\n",
       "variety            0\n",
       "winery             0\n",
       "dtype: int64"
      ]
     },
     "execution_count": 130,
     "metadata": {},
     "output_type": "execute_result"
    }
   ],
   "source": [
    "data.isna().sum()"
   ]
  },
  {
   "cell_type": "code",
   "execution_count": 131,
   "metadata": {},
   "outputs": [],
   "source": [
    "# Remove variables, the Unnamed variable is just an index, the region_2 is mostly empty\n",
    "data = data.drop(['Unnamed: 0', 'region_2'], axis=1)"
   ]
  },
  {
   "cell_type": "code",
   "execution_count": 132,
   "metadata": {},
   "outputs": [],
   "source": [
    "# Fill NA\n",
    "data = data.fillna(value={'designation': \"EMPTY\", 'region_1': \"EMPTY\"})"
   ]
  },
  {
   "cell_type": "code",
   "execution_count": 133,
   "metadata": {},
   "outputs": [],
   "source": [
    "labels = data['points']\n",
    "\n",
    "\n",
    "descriptions = data['description']"
   ]
  },
  {
   "cell_type": "code",
   "execution_count": 134,
   "metadata": {},
   "outputs": [],
   "source": [
    "punctuations = string.punctuation\n",
    "stopwords = list(STOP_WORDS)"
   ]
  },
  {
   "cell_type": "code",
   "execution_count": 135,
   "metadata": {},
   "outputs": [],
   "source": [
    "# Parser for reviews\n",
    "parser = English()\n",
    "def spacy_tokenizer(sentence):\n",
    "    mytokens = parser(sentence)\n",
    "    mytokens = [ word.lemma_.lower().strip() if word.lemma_ != \"-PRON-\" else word.lower_ for word in mytokens ]\n",
    "    mytokens = [ word for word in mytokens if word not in stopwords and word not in punctuations ]\n",
    "    mytokens = \" \".join([i for i in mytokens])\n",
    "    return mytokens"
   ]
  },
  {
   "cell_type": "code",
   "execution_count": 136,
   "metadata": {},
   "outputs": [
    {
     "name": "stderr",
     "output_type": "stream",
     "text": [
      "100%|██████████| 83945/83945 [01:47<00:00, 781.64it/s]\n"
     ]
    }
   ],
   "source": [
    "tqdm.pandas()\n",
    "data[\"processed_description\"] = data[\"description\"].progress_apply(spacy_tokenizer)"
   ]
  },
  {
   "cell_type": "code",
   "execution_count": 137,
   "metadata": {},
   "outputs": [],
   "source": [
    "vectorizer = CountVectorizer(lowercase=True)\n",
    "data_vectorized = vectorizer.fit_transform(data[\"processed_description\"])"
   ]
  },
  {
   "cell_type": "code",
   "execution_count": 138,
   "metadata": {},
   "outputs": [
    {
     "name": "stdout",
     "output_type": "stream",
     "text": [
      "iteration: 1 of max_iter: 10\n",
      "iteration: 2 of max_iter: 10\n",
      "iteration: 3 of max_iter: 10\n",
      "iteration: 4 of max_iter: 10\n",
      "iteration: 5 of max_iter: 10\n",
      "iteration: 6 of max_iter: 10\n",
      "iteration: 7 of max_iter: 10\n",
      "iteration: 8 of max_iter: 10\n",
      "iteration: 9 of max_iter: 10\n",
      "iteration: 10 of max_iter: 10\n"
     ]
    }
   ],
   "source": [
    "lda = LatentDirichletAllocation(n_components=10, doc_topic_prior=.01, max_iter=10, learning_method='online',verbose=True)\n",
    "data_lda = lda.fit_transform(data_vectorized)"
   ]
  },
  {
   "cell_type": "code",
   "execution_count": 139,
   "metadata": {
    "scrolled": false
   },
   "outputs": [
    {
     "name": "stderr",
     "output_type": "stream",
     "text": [
      "/home/prdx/.local/lib/python3.7/site-packages/pyLDAvis/_prepare.py:257: FutureWarning: Sorting because non-concatenation axis is not aligned. A future version\n",
      "of pandas will change to not sort by default.\n",
      "\n",
      "To accept the future behavior, pass 'sort=False'.\n",
      "\n",
      "To retain the current behavior and silence the warning, pass 'sort=True'.\n",
      "\n",
      "  return pd.concat([default_term_info] + list(topic_dfs))\n"
     ]
    },
    {
     "data": {
      "text/html": [
       "\n",
       "<link rel=\"stylesheet\" type=\"text/css\" href=\"https://cdn.rawgit.com/bmabey/pyLDAvis/files/ldavis.v1.0.0.css\">\n",
       "\n",
       "\n",
       "<div id=\"ldavis_el64751400898638969047523475820\"></div>\n",
       "<script type=\"text/javascript\">\n",
       "\n",
       "var ldavis_el64751400898638969047523475820_data = {\"mdsDat\": {\"x\": [-48.29036331176758, 76.31726837158203, 9.804424285888672, 36.76194763183594, -80.22579956054688, 13.570969581604004, -8.269468307495117, -115.51829528808594, -50.074886322021484, 86.00491333007812], \"y\": [12.957684516906738, 77.7242431640625, 50.92018508911133, -84.86341094970703, 79.38602447509766, -18.376567840576172, 120.32716369628906, -8.019400596618652, -67.55559539794922, -4.526913642883301], \"topics\": [1, 2, 3, 4, 5, 6, 7, 8, 9, 10], \"cluster\": [1, 1, 1, 1, 1, 1, 1, 1, 1, 1], \"Freq\": [24.070772881894055, 15.098666824514092, 13.763161021602684, 12.16042174938466, 8.579278936759497, 7.669013728537193, 5.550576712081319, 5.390646880338567, 4.404566409289682, 3.312894855598257]}, \"tinfo\": {\"Category\": [\"Default\", \"Default\", \"Default\", \"Default\", \"Default\", \"Default\", \"Default\", \"Default\", \"Default\", \"Default\", \"Default\", \"Default\", \"Default\", \"Default\", \"Default\", \"Default\", \"Default\", \"Default\", \"Default\", \"Default\", \"Default\", \"Default\", \"Default\", \"Default\", \"Default\", \"Default\", \"Default\", \"Default\", \"Default\", \"Default\", \"Topic1\", \"Topic1\", \"Topic1\", \"Topic1\", \"Topic1\", \"Topic1\", \"Topic1\", \"Topic1\", \"Topic1\", \"Topic1\", \"Topic1\", \"Topic1\", \"Topic1\", \"Topic1\", \"Topic1\", \"Topic1\", \"Topic1\", \"Topic1\", \"Topic1\", \"Topic1\", \"Topic1\", \"Topic1\", \"Topic1\", \"Topic1\", \"Topic1\", \"Topic1\", \"Topic1\", \"Topic1\", \"Topic1\", \"Topic1\", \"Topic1\", \"Topic1\", \"Topic1\", \"Topic1\", \"Topic1\", \"Topic1\", \"Topic1\", \"Topic1\", \"Topic1\", \"Topic1\", \"Topic1\", \"Topic1\", \"Topic1\", \"Topic1\", \"Topic1\", \"Topic1\", \"Topic1\", \"Topic1\", \"Topic1\", \"Topic1\", \"Topic1\", \"Topic1\", \"Topic1\", \"Topic1\", \"Topic1\", \"Topic1\", \"Topic1\", \"Topic1\", \"Topic1\", \"Topic1\", \"Topic1\", \"Topic1\", \"Topic1\", \"Topic1\", \"Topic1\", \"Topic1\", \"Topic1\", \"Topic2\", \"Topic2\", \"Topic2\", \"Topic2\", \"Topic2\", \"Topic2\", \"Topic2\", \"Topic2\", \"Topic2\", \"Topic2\", \"Topic2\", \"Topic2\", \"Topic2\", \"Topic2\", \"Topic2\", \"Topic2\", \"Topic2\", \"Topic2\", \"Topic2\", \"Topic2\", \"Topic2\", \"Topic2\", \"Topic2\", \"Topic2\", \"Topic2\", \"Topic2\", \"Topic2\", \"Topic2\", \"Topic2\", \"Topic2\", \"Topic2\", \"Topic2\", \"Topic2\", \"Topic2\", \"Topic2\", \"Topic2\", \"Topic2\", \"Topic2\", \"Topic2\", \"Topic2\", \"Topic2\", \"Topic2\", \"Topic2\", \"Topic2\", \"Topic2\", \"Topic2\", \"Topic2\", \"Topic2\", \"Topic2\", \"Topic2\", \"Topic2\", \"Topic2\", \"Topic2\", \"Topic2\", \"Topic2\", \"Topic2\", \"Topic2\", \"Topic2\", \"Topic2\", \"Topic2\", \"Topic2\", \"Topic2\", \"Topic2\", \"Topic2\", \"Topic3\", \"Topic3\", \"Topic3\", \"Topic3\", \"Topic3\", \"Topic3\", \"Topic3\", \"Topic3\", \"Topic3\", \"Topic3\", \"Topic3\", \"Topic3\", \"Topic3\", \"Topic3\", \"Topic3\", \"Topic3\", \"Topic3\", \"Topic3\", \"Topic3\", \"Topic3\", \"Topic3\", \"Topic3\", \"Topic3\", \"Topic3\", \"Topic3\", \"Topic3\", \"Topic3\", \"Topic3\", \"Topic3\", \"Topic3\", \"Topic3\", \"Topic3\", \"Topic3\", \"Topic3\", \"Topic3\", \"Topic3\", \"Topic3\", \"Topic3\", \"Topic3\", \"Topic3\", \"Topic3\", \"Topic3\", \"Topic3\", \"Topic3\", \"Topic3\", \"Topic3\", \"Topic3\", \"Topic3\", \"Topic3\", \"Topic3\", \"Topic3\", \"Topic3\", \"Topic3\", \"Topic3\", \"Topic3\", \"Topic3\", \"Topic3\", \"Topic3\", \"Topic3\", \"Topic3\", \"Topic3\", \"Topic3\", \"Topic3\", \"Topic3\", \"Topic3\", \"Topic3\", \"Topic3\", \"Topic3\", \"Topic3\", \"Topic3\", \"Topic3\", \"Topic3\", \"Topic3\", \"Topic3\", \"Topic4\", \"Topic4\", \"Topic4\", \"Topic4\", \"Topic4\", \"Topic4\", \"Topic4\", \"Topic4\", \"Topic4\", \"Topic4\", \"Topic4\", \"Topic4\", \"Topic4\", \"Topic4\", \"Topic4\", \"Topic4\", \"Topic4\", \"Topic4\", \"Topic4\", \"Topic4\", \"Topic4\", \"Topic4\", \"Topic4\", \"Topic4\", \"Topic4\", \"Topic4\", \"Topic4\", \"Topic4\", \"Topic4\", \"Topic4\", \"Topic4\", \"Topic4\", \"Topic4\", \"Topic4\", \"Topic4\", \"Topic4\", \"Topic4\", \"Topic4\", \"Topic4\", \"Topic4\", \"Topic4\", \"Topic4\", \"Topic4\", \"Topic4\", \"Topic4\", \"Topic4\", \"Topic4\", \"Topic4\", \"Topic4\", \"Topic4\", \"Topic4\", \"Topic4\", \"Topic4\", \"Topic4\", \"Topic4\", \"Topic4\", \"Topic4\", \"Topic4\", \"Topic4\", \"Topic4\", \"Topic4\", \"Topic4\", \"Topic4\", \"Topic4\", \"Topic4\", \"Topic4\", \"Topic4\", \"Topic4\", \"Topic4\", \"Topic4\", \"Topic5\", \"Topic5\", \"Topic5\", \"Topic5\", \"Topic5\", \"Topic5\", \"Topic5\", \"Topic5\", \"Topic5\", \"Topic5\", \"Topic5\", \"Topic5\", \"Topic5\", \"Topic5\", \"Topic5\", \"Topic5\", \"Topic5\", \"Topic5\", \"Topic5\", \"Topic5\", \"Topic5\", \"Topic5\", \"Topic5\", \"Topic5\", \"Topic5\", \"Topic5\", \"Topic5\", \"Topic5\", \"Topic5\", \"Topic5\", \"Topic5\", \"Topic5\", \"Topic5\", \"Topic5\", \"Topic5\", \"Topic5\", \"Topic5\", \"Topic5\", \"Topic5\", \"Topic5\", \"Topic5\", \"Topic5\", \"Topic5\", \"Topic5\", \"Topic5\", \"Topic5\", \"Topic5\", \"Topic5\", \"Topic5\", \"Topic5\", \"Topic5\", \"Topic5\", \"Topic5\", \"Topic5\", \"Topic5\", \"Topic5\", \"Topic5\", \"Topic5\", \"Topic5\", \"Topic5\", \"Topic5\", \"Topic6\", \"Topic6\", \"Topic6\", \"Topic6\", \"Topic6\", \"Topic6\", \"Topic6\", \"Topic6\", \"Topic6\", \"Topic6\", \"Topic6\", \"Topic6\", \"Topic6\", \"Topic6\", \"Topic6\", \"Topic6\", \"Topic6\", \"Topic6\", \"Topic6\", \"Topic6\", \"Topic6\", \"Topic6\", \"Topic6\", \"Topic6\", \"Topic6\", \"Topic6\", \"Topic6\", \"Topic6\", \"Topic6\", \"Topic6\", \"Topic6\", \"Topic6\", \"Topic6\", \"Topic6\", \"Topic6\", \"Topic6\", \"Topic6\", \"Topic6\", \"Topic6\", \"Topic6\", \"Topic6\", \"Topic6\", \"Topic6\", \"Topic6\", \"Topic6\", \"Topic6\", \"Topic6\", \"Topic6\", \"Topic6\", \"Topic6\", \"Topic6\", \"Topic6\", \"Topic6\", \"Topic6\", \"Topic6\", \"Topic6\", \"Topic6\", \"Topic6\", \"Topic6\", \"Topic7\", \"Topic7\", \"Topic7\", \"Topic7\", \"Topic7\", \"Topic7\", \"Topic7\", \"Topic7\", \"Topic7\", \"Topic7\", \"Topic7\", \"Topic7\", \"Topic7\", \"Topic7\", \"Topic7\", \"Topic7\", \"Topic7\", \"Topic7\", \"Topic7\", \"Topic7\", \"Topic7\", \"Topic7\", \"Topic7\", \"Topic7\", \"Topic7\", \"Topic7\", \"Topic7\", \"Topic7\", \"Topic7\", \"Topic7\", \"Topic7\", \"Topic7\", \"Topic7\", \"Topic7\", \"Topic7\", \"Topic7\", \"Topic7\", \"Topic7\", \"Topic7\", \"Topic7\", \"Topic7\", \"Topic7\", \"Topic7\", \"Topic7\", \"Topic7\", \"Topic7\", \"Topic7\", \"Topic7\", \"Topic7\", \"Topic7\", \"Topic7\", \"Topic7\", \"Topic7\", \"Topic8\", \"Topic8\", \"Topic8\", \"Topic8\", \"Topic8\", \"Topic8\", \"Topic8\", \"Topic8\", \"Topic8\", \"Topic8\", \"Topic8\", \"Topic8\", \"Topic8\", \"Topic8\", \"Topic8\", \"Topic8\", \"Topic8\", \"Topic8\", \"Topic8\", \"Topic8\", \"Topic8\", \"Topic8\", \"Topic8\", \"Topic8\", \"Topic8\", \"Topic8\", \"Topic8\", \"Topic8\", \"Topic8\", \"Topic8\", \"Topic8\", \"Topic8\", \"Topic8\", \"Topic8\", \"Topic8\", \"Topic8\", \"Topic8\", \"Topic8\", \"Topic8\", \"Topic8\", \"Topic8\", \"Topic8\", \"Topic8\", \"Topic8\", \"Topic8\", \"Topic8\", \"Topic8\", \"Topic9\", \"Topic9\", \"Topic9\", \"Topic9\", \"Topic9\", \"Topic9\", \"Topic9\", \"Topic9\", \"Topic9\", \"Topic9\", \"Topic9\", \"Topic9\", \"Topic9\", \"Topic9\", \"Topic9\", \"Topic9\", \"Topic9\", \"Topic9\", \"Topic9\", \"Topic9\", \"Topic9\", \"Topic9\", \"Topic9\", \"Topic9\", \"Topic9\", \"Topic9\", \"Topic9\", \"Topic9\", \"Topic9\", \"Topic9\", \"Topic9\", \"Topic9\", \"Topic9\", \"Topic9\", \"Topic9\", \"Topic9\", \"Topic9\", \"Topic9\", \"Topic9\", \"Topic9\", \"Topic9\", \"Topic9\", \"Topic9\", \"Topic10\", \"Topic10\", \"Topic10\", \"Topic10\", \"Topic10\", \"Topic10\", \"Topic10\", \"Topic10\", \"Topic10\", \"Topic10\", \"Topic10\", \"Topic10\", \"Topic10\", \"Topic10\", \"Topic10\", \"Topic10\", \"Topic10\", \"Topic10\", \"Topic10\", \"Topic10\", \"Topic10\", \"Topic10\", \"Topic10\", \"Topic10\", \"Topic10\", \"Topic10\", \"Topic10\", \"Topic10\", \"Topic10\", \"Topic10\", \"Topic10\", \"Topic10\", \"Topic10\", \"Topic10\", \"Topic10\", \"Topic10\", \"Topic10\", \"Topic10\"], \"Freq\": [18563.0, 13390.0, 18213.0, 15553.0, 6483.0, 51767.0, 23681.0, 49484.0, 11333.0, 7060.0, 13609.0, 7573.0, 8367.0, 17344.0, 13346.0, 4183.0, 24084.0, 15567.0, 15564.0, 12335.0, 12148.0, 4167.0, 9460.0, 9087.0, 9426.0, 3292.0, 39647.0, 4851.0, 5620.0, 8220.0, 3453.5669304021594, 2486.31217945745, 2335.8156740615677, 2075.2529073740457, 1568.458710956209, 1421.7180216597133, 1249.3013915027109, 1227.0686251775044, 1159.9970692293236, 1152.6034349467893, 1082.6231237810211, 1000.3616641339846, 912.2865341155739, 886.0866293861935, 865.5881346131305, 777.0216773968689, 749.6622760547772, 733.029887023662, 716.425484611356, 668.229462708277, 633.616293709294, 633.2149922565369, 629.5590317654877, 628.217155304606, 597.2298894382103, 576.193450294597, 532.567395894566, 504.6567697083813, 450.26592414361204, 432.5953258478072, 810.100551002222, 6617.356262627001, 8041.6377204207865, 5266.562113901242, 5253.288534829228, 1428.2150703464563, 1450.4795971387698, 1528.4564441424843, 3802.7191155552514, 2615.8284838556497, 11487.186516100664, 8078.16065036173, 26067.488453905804, 2081.570613272649, 8086.141975116415, 3085.4703233521923, 2187.987715735111, 2155.555880461552, 7877.488529603769, 16003.728450053128, 3926.9586114527488, 8176.803583854471, 6488.2400671901, 4950.515548116955, 2988.24875332505, 2748.186829746791, 4902.1475760692165, 2641.388070884698, 12770.234402341714, 7042.312843038379, 5747.539791464504, 4792.027337784618, 5192.749608670433, 5240.527662588467, 4287.294940131101, 3017.748590716312, 3176.9690161776703, 5619.822881603216, 2556.886048385999, 2201.072212333774, 1944.9939781014093, 1702.8425440696428, 1026.298100932512, 882.0579421384953, 868.6895143182929, 784.8524493859511, 712.463738369702, 1748.233868538513, 562.7603352544398, 558.6186441262964, 537.4619216484413, 527.8560652359936, 525.8562806751326, 456.69037727170854, 453.1714856414297, 452.890389791081, 417.36925904398413, 414.1839696221649, 390.8881573086494, 379.67388007764134, 369.0142946289441, 362.13991258793624, 360.3430415357571, 329.85728966243454, 324.79382790196803, 316.5238239253507, 304.19060857853606, 3587.5743764628123, 3086.3566595119255, 1837.0433299775784, 3292.8213761026186, 2567.4909315483187, 8487.562662303399, 1549.02491290273, 841.2334069650552, 2005.6325525929283, 2604.2207347532785, 4862.668270349857, 2425.846303829707, 1647.0975239955753, 1205.1345954100927, 2388.005126311979, 2990.6168259563565, 10244.853799068052, 992.5372208194626, 13810.982982445723, 3251.950412532838, 1292.2652132635005, 3605.7292637149453, 4770.0548515818155, 4852.846406029737, 2033.9607200194214, 1504.7075275962484, 2554.6986938959053, 5516.4249114286085, 4789.355843817033, 2940.1729936470906, 3063.6174403082687, 2449.638841088624, 2133.609263299714, 1911.7993531287736, 3181.5435103961627, 2325.4436563283716, 1700.938434288905, 1040.1910937083, 633.2059979897447, 586.8092901748395, 501.5614938649173, 473.392287900834, 461.3754391313648, 448.6175215021497, 429.9708706947675, 416.61361609665636, 378.61954359181806, 365.83347596317117, 358.69459577042124, 350.81092831676875, 303.9119676835845, 299.63682574670645, 294.8815249094377, 289.52108373556865, 283.28319975719364, 280.1583292233683, 278.8038036920056, 276.52065724769034, 271.5522843839275, 577.5545351442128, 240.14516768941238, 232.43611044793585, 232.26325312131573, 209.96489736386988, 611.8995178792873, 582.017963939548, 2343.7960041029046, 606.1050197784249, 2022.534952089854, 766.0050691978093, 2966.7569263573564, 1370.2841027849445, 2376.560840088639, 1773.0982513058523, 2610.9432416447344, 704.4234222423956, 7974.294751975601, 5164.9058788375705, 817.5492600802953, 3562.4425570422873, 2069.127355193329, 2218.944601227812, 2108.0400005876295, 6833.489353372252, 6184.210950764076, 1159.3425230685148, 8902.767590689618, 5158.485400139767, 6023.267797340653, 3302.896180663192, 5959.537145672398, 6601.2716272571215, 2140.0193824112357, 1443.4495332364168, 7481.43376375853, 3820.6770007929676, 1675.946841222692, 2219.0502633606297, 4296.15025663096, 3330.9031363326685, 2734.4243737775173, 5022.716413596503, 2971.985220108089, 4701.985971172927, 3003.782185224166, 2320.8104369356633, 2625.0129073394664, 2367.5603199493303, 7059.262143947569, 2970.005458673745, 2126.5445675664323, 1073.5445669810947, 826.3945705021604, 777.517132533477, 719.1772422025637, 703.9430735976365, 661.323359359588, 604.1865356014973, 557.7866478189219, 548.150184402444, 527.9080443570646, 512.3944644268938, 493.60672211829365, 435.2806301607675, 416.0932269988204, 360.4468822954647, 350.96165071624745, 332.9268325786396, 325.028841415355, 308.9974138380506, 304.90092727383694, 299.1254588392779, 290.60750925454437, 286.92883958336154, 279.05433558614914, 270.1939801383681, 263.1756552698747, 260.5527993818191, 490.03242480955424, 7293.678743409279, 590.7575561784763, 366.8187764743325, 2042.2357720302828, 3904.8714631221796, 1868.6021551860752, 1857.5873424837687, 4619.863048626326, 4846.87971864012, 6130.881432016824, 2147.786581517772, 2920.5359454382924, 770.9516403812013, 3916.1834242178984, 3062.717038867361, 4286.038764683202, 1679.6599757810013, 792.930097738389, 2896.82463888452, 1505.5233641035413, 937.4326871070806, 2253.992523464357, 2564.0509275149752, 2000.46057176998, 1853.4479656277856, 7017.508137240948, 5229.026649761257, 2272.9090141367024, 1793.8926694428517, 3358.6228219946147, 3994.067227650436, 3437.047167529881, 5294.964388876281, 3249.0927021109105, 4198.104396361933, 2865.1432629608094, 2236.53614175403, 2050.488543820893, 2140.532912415877, 2698.056341891358, 2323.9508825026023, 1942.3293187865122, 1485.6277152851474, 1352.9628829362744, 1108.2775931401573, 811.2388377335704, 806.5763320514981, 767.8651215780037, 660.7480504764957, 603.9382699645907, 600.2383115075479, 588.3593824613345, 527.994703380035, 502.7162771913777, 500.64293581532434, 444.46608580444746, 439.2399937870611, 419.54923191345506, 416.0260346160681, 384.83662383233536, 371.6473089452741, 363.2616769805974, 357.38312953715956, 352.29675059247546, 346.30452608123386, 339.49705024045653, 332.4501813076355, 322.3710337709758, 295.4161376605085, 1440.0898512298616, 970.2050890022136, 1469.1742018062912, 844.3025662832797, 6901.160159468298, 1832.1724348352677, 8398.251903500153, 2238.808567622129, 1499.6292359447727, 1678.216470883546, 1995.7448282260773, 4741.259553311164, 1961.2193491909861, 2815.084778084774, 4149.238872753808, 1011.9172868177309, 2356.5136828583254, 7042.898203092726, 2083.18489504796, 1873.3735938062377, 1773.1176725293865, 5273.448733952159, 1454.9309224923948, 1763.8828521147257, 976.7151104761292, 1242.5687405049764, 1346.68207310493, 1252.0434228757138, 1406.334945648825, 1465.3443580746223, 1365.9472554927288, 1992.0409603911078, 1166.8187915254348, 1072.2666448913342, 937.702548643753, 892.0546695156038, 889.0819573139055, 858.4940323979597, 820.6463521528004, 772.255035215568, 729.2415356182199, 653.9700863283326, 553.727076181908, 523.2620441599846, 521.9593282078807, 516.4577920737381, 513.5256752416826, 503.4292134173286, 459.44247357661317, 449.3493305722609, 431.3540039599279, 414.8415472303768, 396.11670870846245, 353.56922180372567, 352.5478916916714, 337.80286319396726, 331.17629658723865, 290.0771957252016, 278.847765026632, 263.65680221223005, 260.1637454539178, 608.1663896690009, 941.219275474275, 1547.5023329833837, 741.5502917779937, 6004.869775965421, 1934.758321513729, 3497.9512050129683, 2702.508936464791, 1232.629002082445, 1803.0489597708913, 4507.224771779651, 4768.75781979628, 2218.680991813952, 1936.7353540867496, 1190.728341064602, 6243.415742879243, 1592.654306816005, 1909.3149926744272, 2034.7512346182036, 3328.0969606080953, 1302.92530177845, 1436.879220220365, 1166.1377922612303, 1576.6215894602456, 1101.2302635270314, 1309.2944696184807, 1103.8581238438794, 937.1751170697607, 943.1792571794919, 1910.8074462056998, 1493.0203918787306, 1268.887699614708, 1259.477816600708, 1103.7508436618655, 1047.0831298956232, 1013.8215806188126, 926.4691877851903, 885.6697254022105, 697.4226589916952, 681.3698491720542, 618.0797352604967, 605.4852687293509, 594.6758716701628, 588.2819412407708, 559.279929284736, 539.572243678599, 488.42914469805953, 440.56618536737096, 406.93641642378924, 366.71888653062797, 362.23872743602203, 334.94044916751966, 316.77378864427214, 291.56448346104315, 286.8396248871403, 283.2056289351426, 283.03305323877566, 277.964739495142, 266.46832276366473, 401.08777873354614, 1259.7586473344047, 353.53508720808304, 702.0524706082052, 1127.8123597466413, 1448.844892988305, 945.7343923361443, 631.1622333491395, 3104.4569402132215, 5493.5535361337925, 2345.4044697802537, 1319.7442080006597, 1204.2783148398573, 1326.4264656821226, 2479.0611749233285, 928.7136697355302, 1116.540294864161, 1198.4862491064014, 1076.2248291895646, 671.5149449036993, 935.1083475731508, 788.5146970449132, 715.408949936136, 6482.889131058166, 4166.784192453024, 2103.409284608746, 1863.7961704532938, 1463.0693276655081, 1460.9188303443284, 1327.703834313652, 1311.1984038850999, 1158.6419026919332, 875.2575141605056, 704.7115291600936, 677.2404487147887, 660.7479258061276, 648.5276695680511, 579.1844639124034, 535.6912228229424, 508.77872149378027, 482.0113287233716, 471.7297905280807, 456.82840530859244, 401.1979391219285, 378.89687105967374, 367.1878725547331, 248.30758021021245, 239.49017406096533, 233.66763897611963, 225.97122268313666, 210.9208630587943, 194.29095173625998, 190.91456995329744, 685.6653756911595, 2990.392206867129, 4373.877939098998, 1761.208762679525, 3134.202304664319, 987.5741318857415, 1616.9670145158059, 1856.7189777102233, 951.007397711842, 1576.1050634204023, 985.2780996081402, 1044.8252435411982, 1227.822917813776, 925.106970521811, 804.2840899370144, 780.4403890952661, 716.4415032940757, 4182.578804918809, 2783.2865499595146, 1615.7973274415547, 1509.6033449873864, 866.2655633412247, 803.1824959147366, 703.700112069818, 696.7291982427382, 635.6579664029022, 579.8531245046322, 569.5043204608767, 557.658300089714, 543.9922777977348, 488.89112550947385, 480.04318987617586, 470.89951488924135, 448.78481572465415, 440.52584244039963, 416.7890699259726, 414.46333825648475, 401.5356431968032, 398.5343647742601, 387.2178791410783, 365.76959046301164, 364.1820431670079, 358.9244101859013, 354.72813899282085, 338.63720413124395, 334.8303225611786, 329.42309219173535, 920.5527080843591, 816.7920261702612, 1291.1377190424025, 611.6662067214082, 781.7415525303111, 840.8373456622994, 799.8967454046663, 681.0134710222434, 1327.5753198953307, 539.1612079568404, 563.5809707358995, 515.9874652555699, 442.63816454846096, 3291.300705380406, 2197.737302665333, 1957.3011992751299, 1790.4735819703114, 1270.2390386491243, 1080.1183776500832, 935.1421823524774, 891.0550233944077, 890.7513836055768, 877.595734897046, 738.0499413363788, 671.7483926373628, 635.2079720035084, 630.5578086016995, 615.5625639228219, 590.300685097865, 539.8682003271476, 539.0376498189688, 488.27471094006773, 451.4696680237424, 447.0541298546323, 408.56895898886876, 399.1746942990805, 367.64304272751207, 352.200447593401, 340.1177226374241, 333.0048585050617, 327.8340945880983, 311.1340996505889, 301.6857236840729, 332.6489713833698, 2064.0893522219885, 1625.6817362254546, 427.3509998759839, 413.5694984023511, 559.4080367533445, 737.5227432909763, 405.11720578317835], \"Term\": [\"dry\", \"spin\", \"aroma\", \"palate\", \"cabernet\", \"wine\", \"cherry\", \"flavor\", \"blackberry\", \"citrus\", \"black\", \"apple\", \"blend\", \"tannin\", \"sweet\", \"vineyard\", \"finish\", \"spice\", \"acidity\", \"oak\", \"berry\", \"merlot\", \"nose\", \"year\", \"fresh\", \"delicious\", \"fruit\", \"sauvignon\", \"pinot\", \"crisp\", \"wood\", \"intense\", \"need\", \"powerful\", \"ready\", \"develop\", \"impressive\", \"olive\", \"bone\", \"best\", \"nuance\", \"2010\", \"aftertaste\", \"opulent\", \"burst\", \"region\", \"crispness\", \"climate\", \"certainly\", \"stand\", \"easily\", \"finely\", \"chocolaty\", \"potential\", \"promise\", \"begin\", \"gorgeous\", \"different\", \"push\", \"likely\", \"decant\", \"age\", \"year\", \"currant\", \"structure\", \"hold\", \"cool\", \"dusty\", \"fine\", \"young\", \"tannin\", \"rich\", \"wine\", \"richness\", \"ripe\", \"firm\", \"edge\", \"time\", \"acidity\", \"fruit\", \"texture\", \"dry\", \"spin\", \"balance\", \"character\", \"great\", \"soft\", \"complex\", \"flavor\", \"good\", \"drink\", \"blackberry\", \"black\", \"spice\", \"red\", \"little\", \"cherry\", \"pinot\", \"noir\", \"barrel\", \"strong\", \"oaky\", \"2012\", \"tomato\", \"work\", \"winemaker\", \"release\", \"pie\", \"stuff\", \"rh\\u00f4ne\", \"rhubarb\", \"world\", \"generic\", \"lots\", \"regular\", \"neutral\", \"salad\", \"settle\", \"fermentation\", \"scour\", \"hand\", \"pinots\", \"cabs\", \"oregon\", \"welcome\", \"likeable\", \"hills\", \"smoky\", \"acid\", \"lush\", \"nice\", \"price\", \"oak\", \"forward\", \"french\", \"silky\", \"new\", \"raspberry\", \"alcohol\", \"toasty\", \"now\", \"high\", \"colon\", \"cherry\", \"value\", \"flavor\", \"bite\", \"peppery\", \"vanilla\", \"sweet\", \"good\", \"tart\", \"jammy\", \"chocolate\", \"fruit\", \"wine\", \"drink\", \"finish\", \"ripe\", \"red\", \"rich\", \"leather\", \"meat\", \"jam\", \"shiraz\", \"root\", \"menthol\", \"briary\", \"beer\", \"brunello\", \"hearty\", \"petal\", \"caramelized\", \"game\", \"bramble\", \"cure\", \"unfold\", \"floor\", \"accessible\", \"barolo\", \"chianti\", \"appearance\", \"moist\", \"balsamic\", \"thyme\", \"barnyard\", \"alongside\", \"truffle\", \"carob\", \"balsam\", \"important\", \"syrupy\", \"tar\", \"earth\", \"leafy\", \"wild\", \"forest\", \"tobacco\", \"hot\", \"smoke\", \"roast\", \"coffee\", \"mushroom\", \"berry\", \"plum\", \"espresso\", \"pepper\", \"earthy\", \"licorice\", \"solid\", \"black\", \"note\", \"savory\", \"cherry\", \"red\", \"palate\", \"dark\", \"spice\", \"aroma\", \"medium\", \"mocha\", \"finish\", \"nose\", \"accent\", \"herb\", \"tannin\", \"blackberry\", \"mouth\", \"fruit\", \"soft\", \"flavor\", \"drink\", \"offer\", \"wine\", \"good\", \"citrus\", \"melon\", \"sweetness\", \"dish\", \"nectarine\", \"slight\", \"peel\", \"impression\", \"improve\", \"golden\", \"grassy\", \"characteristic\", \"grigio\", \"passion\", \"cr\\u00e8me\", \"boysenberry\", \"pungent\", \"fun\", \"br\\u00fbl\\u00e9e\", \"offset\", \"slate\", \"cracker\", \"herbaceous\", \"angular\", \"leesy\", \"nature\", \"develope\", \"barely\", \"marlborough\", \"nuanced\", \"sparkler\", \"apple\", \"grass\", \"stony\", \"stone\", \"pear\", \"blanc\", \"grapefruit\", \"white\", \"green\", \"fresh\", \"pair\", \"chardonnay\", \"fragrant\", \"peach\", \"pineapple\", \"crisp\", \"tropical\", \"minerally\", \"clean\", \"lively\", \"lightly\", \"creamy\", \"light\", \"mineral\", \"lime\", \"fruit\", \"finish\", \"hint\", \"lemon\", \"note\", \"aroma\", \"palate\", \"wine\", \"good\", \"flavor\", \"acidity\", \"offer\", \"touch\", \"nose\", \"honey\", \"shows\", \"lean\", \"riesling\", \"refresh\", \"tangerine\", \"sugary\", \"mango\", \"dessert\", \"wave\", \"succulent\", \"prosecco\", \"gooseberry\", \"sparkle\", \"meyer\", \"chicken\", \"rind\", \"usa\", \"ap\\u00e9ritif\", \"fish\", \"sipper\", \"penetrate\", \"job\", \"veer\", \"cleanse\", \"pine\", \"sweetly\", \"marmalade\", \"cocktail\", \"brut\", \"delicate\", \"everyday\", \"flower\", \"honeysuckle\", \"spin\", \"apricot\", \"dry\", \"easy\", \"floral\", \"orange\", \"lemon\", \"sweet\", \"lime\", \"crisp\", \"acidity\", \"variety\", \"like\", \"flavor\", \"peach\", \"clean\", \"style\", \"wine\", \"simple\", \"mouth\", \"sour\", \"tart\", \"white\", \"fruity\", \"rich\", \"finish\", \"note\", \"butter\", \"smell\", \"citrusy\", \"15\", \"flavors\", \"chunky\", \"cheese\", \"mild\", \"banana\", \"example\", \"flat\", \"mildly\", \"leathery\", \"wonderful\", \"quickly\", \"lemony\", \"oily\", \"lee\", \"papaya\", \"dust\", \"dimensional\", \"custard\", \"tang\", \"pithy\", \"stemmy\", \"grabby\", \"narrow\", \"dose\", \"oil\", \"25\", \"snappy\", \"thin\", \"quality\", \"burn\", \"palate\", \"feel\", \"nose\", \"little\", \"bake\", \"herbal\", \"aroma\", \"finish\", \"bite\", \"toast\", \"heavy\", \"flavor\", \"pineapple\", \"like\", \"vanilla\", \"fruit\", \"creamy\", \"mouth\", \"chardonnay\", \"good\", \"come\", \"oak\", \"slightly\", \"lead\", \"soft\", \"close\", \"load\", \"raisin\", \"expression\", \"friendly\", \"perfect\", \"prune\", \"extract\", \"level\", \"raw\", \"compact\", \"raisiny\", \"thank\", \"austere\", \"stew\", \"overripe\", \"component\", \"huge\", \"luminous\", \"cook\", \"restrain\", \"di\", \"expressive\", \"linear\", \"recall\", \"tuscan\", \"capture\", \"day\", \"tuscany\", \"cake\", \"ruby\", \"sangiovese\", \"italian\", \"boast\", \"deliver\", \"easy\", \"almond\", \"modern\", \"aroma\", \"wine\", \"spice\", \"smooth\", \"bright\", \"offer\", \"fruit\", \"open\", \"chocolate\", \"sweet\", \"note\", \"mature\", \"oak\", \"toast\", \"grape\", \"cabernet\", \"merlot\", \"thick\", \"warm\", \"bordeaux\", \"franc\", \"malbec\", \"base\", \"fig\", \"modest\", \"wet\", \"petit\", \"verdot\", \"2011\", \"de\", \"tinge\", \"tempranillo\", \"kick\", \"preserve\", \"build\", \"pale\", \"couple\", \"inky\", \"petrol\", \"pleasantly\", \"lavender\", \"pencil\", \"change\", \"heady\", \"jasmine\", \"astringent\", \"sauvignon\", \"blend\", \"cassis\", \"blackberry\", \"deep\", \"tannic\", \"chocolate\", \"hard\", \"black\", \"dark\", \"year\", \"tannin\", \"like\", \"currant\", \"cherry\", \"flavor\", \"vineyard\", \"cab\", \"valley\", \"start\", \"grow\", \"mountain\", \"know\", \"single\", \"sip\", \"source\", \"appellation\", \"mean\", \"producer\", \"fall\", \"benefit\", \"charm\", \"wines\", \"let\", \"cellaring\", \"lose\", \"walla\", \"massive\", \"purity\", \"youth\", \"coastal\", \"santa\", \"river\", \"county\", \"terroir\", \"13\", \"estate\", \"vine\", \"grape\", \"napa\", \"old\", \"imported\", \"come\", \"vintage\", \"wine\", \"great\", \"little\", \"blend\", \"tea\", \"delicious\", \"sharp\", \"blueberry\", \"sugar\", \"wrap\", \"bacon\", \"beef\", \"run\", \"grenache\", \"zinfandel\", \"residual\", \"petite\", \"brown\", \"sirah\", \"fat\", \"50\", \"barbera\", \"italy\", \"worth\", \"pleasure\", \"blast\", \"mourv\\u00e8dre\", \"steel\", \"flesh\", \"40\", \"plummy\", \"syrup\", \"ginger\", \"60\", \"nearly\", \"stainless\", \"syrah\", \"blend\", \"barbecue\", \"fare\", \"fill\", \"like\", \"10\"], \"Total\": [18563.0, 13390.0, 18213.0, 15553.0, 6483.0, 51767.0, 23681.0, 49484.0, 11333.0, 7060.0, 13609.0, 7573.0, 8367.0, 17344.0, 13346.0, 4183.0, 24084.0, 15567.0, 15564.0, 12335.0, 12148.0, 4167.0, 9460.0, 9087.0, 9426.0, 3292.0, 39647.0, 4851.0, 5620.0, 8220.0, 3454.4510435857696, 2487.1964250588458, 2336.6997877345275, 2076.1370499641916, 1569.3428122771172, 1422.602068103165, 1250.185524544658, 1227.9529048099002, 1160.8812852529811, 1153.4876236275356, 1083.5073888799611, 1001.2457730749634, 913.1706199698451, 886.970782077115, 866.4723383258895, 777.9059262849037, 750.5465218562815, 733.914075592471, 717.3095738389546, 669.113732807294, 634.5004610393291, 634.0990732143938, 630.4433245147609, 629.1012522858313, 598.1140371668471, 577.0776034498009, 533.451633412051, 505.54115603214467, 451.1502239740373, 433.4794195562406, 813.1055347385118, 6794.6732576007, 9087.250101896761, 6071.633318101085, 6278.193536226971, 1532.8102916162486, 1590.4298087885263, 1702.2743596562786, 4751.367773682531, 3150.0637528466773, 17344.980447668862, 11944.520167907858, 51767.909861566135, 2562.806356810673, 13890.387432809688, 4247.6409457551, 2794.338813213207, 2791.0710708828015, 15564.435233070339, 39647.457908303804, 6443.992469572923, 18563.049554453737, 13390.737640776078, 9485.702969773825, 4658.277969987385, 4131.608842034389, 10348.928014809297, 3980.8772681701503, 49484.752255677406, 19250.37888472318, 14465.526744757888, 11333.510086802919, 13609.268597751185, 15567.391528889064, 11694.035881195547, 6954.264361840426, 23681.24664740732, 5620.7100974904115, 2557.773181429814, 2201.976653179676, 1945.881299913614, 1703.729777395826, 1027.1853908209298, 882.9452454713144, 869.5768773030854, 785.7397868846392, 713.3510265649114, 1750.808343409948, 563.6476668836779, 559.5059159852123, 538.3491421145152, 528.7433515048825, 526.7435430589135, 457.5776044559897, 454.0587491954469, 453.7777128905646, 418.2569063112998, 415.0712609919138, 391.77538708720647, 380.5611590308195, 369.9015564130599, 363.0270742333738, 361.2303540999128, 330.74449946459197, 325.68113407724127, 317.4110786370574, 305.07787178664506, 3678.5916003508687, 3746.725628510143, 2145.8528619343824, 4161.295403492962, 3175.5156072738923, 12335.653448319044, 1869.299913381972, 940.243206660656, 2564.7787904746697, 3519.446007912491, 7308.249681510405, 3260.279162059646, 2085.771092479861, 1445.717814867718, 3342.6066246335085, 4606.922987217546, 23681.24664740732, 1217.299630346032, 49484.752255677406, 6699.708990858959, 1791.7741063193496, 8516.041446631885, 13346.241383756016, 19250.37888472318, 4235.33996750112, 2402.785936377508, 7315.0547623310495, 39647.457908303804, 51767.909861566135, 14465.526744757888, 24084.452162372636, 13890.387432809688, 11694.035881195547, 11944.520167907858, 3182.424750784422, 2326.324956350989, 1701.8198512623544, 1041.0739227196784, 634.087258472268, 587.6905182529209, 502.4427315863343, 474.2735213400476, 462.25669499374146, 449.4988228429076, 430.85215257224996, 417.49515822372405, 379.50083001092753, 366.7147155048395, 359.5758078381904, 351.69223618680746, 304.79317525294033, 300.5182271917998, 295.7627159519191, 290.4023570862819, 284.16459980872276, 281.03954618475103, 279.68501547595844, 277.4019100753606, 272.4335075030316, 579.6071715931977, 241.02642075743552, 233.3179499721403, 233.14450988108027, 210.84644708939575, 627.0050493645399, 596.6451823220682, 2515.155032611261, 626.2616417931282, 2249.766401825959, 817.6616358490355, 3606.2494902133153, 1575.9838763219248, 2955.579665966251, 2154.0230957434023, 3371.5822445389917, 783.1126211281103, 12148.518010263593, 8149.570852710953, 957.4244654358787, 5567.029081876099, 2952.804813159355, 3292.5247142567114, 3100.848634971681, 13609.268597751185, 12825.315040078322, 1538.9428442095448, 23681.24664740732, 11694.035881195547, 15553.596702289671, 6684.303635626781, 15567.391528889064, 18213.39892178613, 3731.4846296198402, 2140.9298061590216, 24084.452162372636, 9460.010922829928, 2844.36060824687, 4864.811300595141, 17344.980447668862, 11333.510086802919, 7596.602549762223, 39647.457908303804, 10348.928014809297, 49484.752255677406, 14465.526744757888, 7191.740584817758, 51767.909861566135, 19250.37888472318, 7060.146085673949, 2970.8893826135404, 2127.428686925805, 1074.428652018534, 827.2785068885062, 778.4012307053632, 720.0612376532403, 704.8272187330936, 662.207750139629, 605.0705017528936, 558.6705888157959, 549.034375472515, 528.7919803491056, 513.278365771239, 494.490862716391, 436.1649456376471, 416.97722045611476, 361.33094358500136, 351.8456156194236, 333.8109560135407, 325.91286346348016, 309.8814311479358, 305.78492958120955, 300.00968310973184, 291.4914419088961, 287.81309620755303, 279.9385472479186, 271.07808352635004, 264.0596072566287, 261.4370147049483, 493.7698100257659, 7573.1556402408805, 604.720997181397, 370.3620949044034, 2212.611920239682, 4686.278814597773, 2289.0971936461247, 2276.3304131011973, 6381.640717228709, 6768.4091002508085, 9426.951060640498, 2855.1160654154446, 4087.4606259011944, 878.1105233083658, 6000.751758972307, 4656.158251347083, 8220.70186038491, 2451.679271267046, 919.8808364684762, 5438.737575924449, 2230.8381615453613, 1162.558665893075, 4217.250431837812, 6480.421423256721, 4320.279988646235, 3815.4523804599366, 39647.457908303804, 24084.452162372636, 5662.029712863352, 3803.994121817552, 12825.315040078322, 18213.39892178613, 15553.596702289671, 51767.909861566135, 19250.37888472318, 49484.752255677406, 15564.435233070339, 7191.740584817758, 5790.973833462835, 9460.010922829928, 2698.940877684557, 2324.8355512375856, 1943.214000936475, 1486.5122260188477, 1353.907652275625, 1109.1621279355593, 812.1233575987998, 807.4608749926963, 768.7496328081189, 661.6328383718982, 604.8231290167778, 601.1228077534815, 589.2438913325202, 528.8792318126667, 503.6007672115936, 501.52751468045227, 445.35066132869815, 440.12463466184215, 420.43374674410296, 416.9105901635694, 385.7211264934029, 372.5321430198166, 364.14635523660655, 358.2677732624076, 353.18131470761836, 347.1891491554981, 340.3817169368215, 333.3347555782311, 323.25550883617876, 296.3006514558754, 1703.3666919248253, 1122.9672909048709, 1893.5829352092787, 1004.1756528289139, 13390.737640776078, 2692.842258565284, 18563.049554453737, 3688.4378736929443, 2293.2112742342024, 2799.5992754041317, 3803.994121817552, 13346.241383756016, 3815.4523804599366, 8220.70186038491, 15564.435233070339, 1643.712174568174, 7242.45703452237, 49484.752255677406, 6000.751758972307, 5438.737575924449, 5224.632337220359, 51767.909861566135, 3602.2100804658767, 7596.602549762223, 1575.0470977864768, 4235.33996750112, 6381.640717228709, 4627.6012818566705, 11944.520167907858, 24084.452162372636, 12825.315040078322, 1992.927272594221, 1167.705106993499, 1073.1530065792772, 938.5890593903488, 892.9410292839334, 889.9682727206435, 859.3805201986042, 821.5326532942474, 773.1413560331865, 730.1280605522774, 654.8563901989767, 554.6133521568929, 524.1483963031187, 522.845872463626, 517.3441413738282, 514.4119954384252, 504.3155053300141, 460.3288704089881, 450.23565044220817, 432.24043580970175, 415.72982492056434, 397.00307301008723, 354.45561494150854, 353.4341252178094, 338.6891528340044, 332.0625504160676, 290.96346961731194, 279.73419412856475, 264.5431581376989, 261.0502468177697, 623.9607620608328, 1238.1861679155754, 2410.4126203832375, 958.8858001937275, 15553.596702289671, 3645.584680985748, 9460.010922829928, 6954.264361840426, 2207.2189597973615, 4016.9164591181434, 18213.39892178613, 24084.452162372636, 6699.708990858959, 5488.137391556987, 2316.513291200673, 49484.752255677406, 4656.158251347083, 7242.45703452237, 8516.041446631885, 39647.457908303804, 4217.250431837812, 7596.602549762223, 4087.4606259011944, 19250.37888472318, 3972.951956998018, 12335.653448319044, 4147.030676000356, 2452.7661388307, 10348.928014809297, 1911.6906160261185, 1493.9035908081337, 1269.7709087569697, 1260.3610092861177, 1104.6340664954448, 1047.9664275705766, 1014.7047344133631, 927.3524135823457, 886.5530005188392, 698.305879506414, 682.2530334048479, 618.9629447557452, 606.3684255417669, 595.5591283773508, 589.165158538534, 560.163125333224, 540.4555078786078, 489.31240849171064, 441.4493126369422, 407.81959732412236, 367.60213923469934, 363.12200188193225, 335.82370272824386, 317.65698330983605, 292.44761402244615, 287.7227284104852, 284.0889408132605, 283.9163531803623, 278.8478513957453, 267.35149232689463, 409.84828901788023, 1389.3739542082308, 379.4515007587781, 962.0598390386473, 2275.524736985261, 3688.4378736929443, 1891.068218879786, 1007.6918533444007, 18213.39892178613, 51767.909861566135, 15567.391528889064, 4860.501990723396, 4851.071901701123, 7191.740584817758, 39647.457908303804, 3343.671399766545, 7315.0547623310495, 13346.241383756016, 12825.315040078322, 1284.2306620347795, 12335.653448319044, 5488.137391556987, 3196.642816682076, 6483.775521542272, 4167.670610549035, 2104.2958015761515, 1864.6826919757689, 1463.9557218277262, 1461.8051986868836, 1328.5902497980064, 1312.0849167343863, 1159.5284469139044, 876.1440398101302, 705.5980963894843, 678.1267948694864, 661.6342624263634, 649.41415433644, 580.0709782237005, 536.5777616094895, 509.6651792243246, 482.89785567758577, 472.61630511555853, 457.7149289415465, 402.0844859013849, 379.7833370624514, 368.0743034225466, 249.19416657135378, 240.3767062529446, 234.55417925410543, 226.8576567044447, 211.80736306426274, 195.17743426538655, 191.80120741871184, 795.6550460356107, 4851.305575358217, 8367.18556931639, 3965.4921218295367, 11333.510086802919, 2102.5181171199, 4722.565659054731, 7315.0547623310495, 2489.1054036323167, 13609.268597751185, 6684.303635626781, 9087.250101896761, 17344.980447668862, 7242.45703452237, 6071.633318101085, 23681.24664740732, 49484.752255677406, 4183.466435276158, 2784.1742294858054, 1616.684902091633, 1510.4910749915105, 867.1531468310023, 804.0700858377982, 704.5877699977771, 697.6167587565161, 636.5456659924665, 580.7406808728916, 570.3919006602825, 558.5459983386827, 544.8799345066005, 489.77885582222734, 480.93086147477214, 471.7872035818387, 449.67247163963805, 441.41349535328874, 417.67673676572355, 415.35098336609, 402.4231819241137, 399.42205177358875, 388.10556988176194, 366.6572463275268, 365.0697336301103, 359.8119807440849, 355.61571238812417, 339.52474999942626, 335.7179155836077, 330.31076701876367, 1154.7049797338734, 1037.9669035836882, 3196.642816682076, 918.8461052041076, 1668.8871509211142, 3795.354083428733, 3972.951956998018, 3396.820483685724, 51767.909861566135, 4131.608842034389, 6954.264361840426, 8367.18556931639, 1311.545131426172, 3292.186748796524, 2198.623355318425, 1958.187237505054, 1791.3595664548393, 1271.125382519299, 1081.0043664304415, 936.0281618177345, 891.9411085150514, 891.6373373521646, 878.4817241368434, 738.9358949348265, 672.6343166470077, 636.0939530388301, 631.4437214076513, 616.448626735434, 591.1866785830993, 540.7542477878258, 539.9237053891422, 489.1607631816614, 452.35571469879784, 447.94018871528357, 409.4548875288588, 400.0616492557834, 368.52909272770245, 353.08643638607475, 341.00377838516795, 333.8910556858982, 328.7201582480362, 312.0200823369676, 302.5717868903731, 333.67170205134806, 3730.1794246973795, 8367.18556931639, 622.76351218128, 589.0461248764582, 1638.5387801570948, 7242.45703452237, 1111.024143358896], \"loglift\": [30.0, 29.0, 28.0, 27.0, 26.0, 25.0, 24.0, 23.0, 22.0, 21.0, 20.0, 19.0, 18.0, 17.0, 16.0, 15.0, 14.0, 13.0, 12.0, 11.0, 10.0, 9.0, 8.0, 7.0, 6.0, 5.0, 4.0, 3.0, 2.0, 1.0, 1.4239, 1.4238, 1.4238, 1.4237, 1.4236, 1.4236, 1.4235, 1.4235, 1.4234, 1.4234, 1.4234, 1.4233, 1.4232, 1.4232, 1.4232, 1.423, 1.423, 1.423, 1.4229, 1.4228, 1.4228, 1.4228, 1.4228, 1.4228, 1.4227, 1.4226, 1.4225, 1.4224, 1.4222, 1.4221, 1.4205, 1.3977, 1.3019, 1.2819, 1.2459, 1.3535, 1.3321, 1.3165, 1.2015, 1.2383, 1.0121, 1.0331, 0.7381, 1.2162, 0.8831, 1.1045, 1.1796, 1.1658, 0.7432, 0.517, 0.9289, 0.6043, 0.6996, 0.7739, 0.9802, 1.0164, 0.677, 1.014, 0.0696, 0.4186, 0.5012, 0.5634, 0.4607, 0.3354, 0.4207, 0.5893, -0.5846, 1.8904, 1.8902, 1.8902, 1.8901, 1.89, 1.8897, 1.8896, 1.8895, 1.8894, 1.8893, 1.8891, 1.889, 1.889, 1.8889, 1.8889, 1.8889, 1.8886, 1.8886, 1.8886, 1.8884, 1.8884, 1.8883, 1.8882, 1.8882, 1.8881, 1.8881, 1.8879, 1.8878, 1.8878, 1.8877, 1.8655, 1.6967, 1.7352, 1.6565, 1.678, 1.5167, 1.7026, 1.7793, 1.6447, 1.5894, 1.4831, 1.5949, 1.6544, 1.7085, 1.5543, 1.4585, 1.0527, 1.6864, 0.6144, 1.1678, 1.5638, 1.0311, 0.8617, 0.5126, 1.1571, 1.4225, 0.8386, -0.0817, -0.4898, 0.2973, -0.1714, 0.1553, 0.1893, 0.0583, 1.9829, 1.9828, 1.9827, 1.9823, 1.9818, 1.9817, 1.9814, 1.9813, 1.9813, 1.9812, 1.9811, 1.9811, 1.9808, 1.9808, 1.9807, 1.9807, 1.9803, 1.9802, 1.9802, 1.9801, 1.9801, 1.98, 1.98, 1.98, 1.9799, 1.9796, 1.9795, 1.9794, 1.9794, 1.979, 1.9588, 1.9584, 1.9126, 1.9505, 1.8767, 1.9179, 1.788, 1.8433, 1.7651, 1.7886, 1.7275, 1.8773, 1.5622, 1.5271, 1.8252, 1.5368, 1.6275, 1.5886, 1.5973, 1.2943, 1.2538, 1.6999, 1.0049, 1.1647, 1.0345, 1.2782, 1.023, 0.9683, 1.4272, 1.589, 0.814, 1.0765, 1.4542, 1.1982, 0.5876, 0.7587, 0.9614, -0.0829, 0.7355, -0.3705, 0.4113, 0.8522, -0.9985, -0.1125, 2.1069, 2.1067, 2.1066, 2.1062, 2.1059, 2.1058, 2.1058, 2.1057, 2.1056, 2.1055, 2.1054, 2.1054, 2.1053, 2.1053, 2.1052, 2.105, 2.1049, 2.1045, 2.1045, 2.1043, 2.1043, 2.1041, 2.1041, 2.104, 2.1039, 2.1039, 2.1038, 2.1037, 2.1036, 2.1036, 2.0994, 2.0694, 2.0836, 2.0974, 2.0269, 1.9246, 1.904, 1.9037, 1.7839, 1.7731, 1.6767, 1.8223, 1.7708, 1.9768, 1.6802, 1.6881, 1.4557, 1.7288, 1.9585, 1.4771, 1.7137, 1.8917, 1.4805, 1.1798, 1.337, 1.385, 0.3754, 0.5796, 1.1943, 1.3553, 0.7671, 0.5896, 0.5973, -0.173, 0.3278, -0.36, 0.4146, 0.939, 1.0688, 0.621, 2.4555, 2.4554, 2.4554, 2.4552, 2.4551, 2.455, 2.4547, 2.4547, 2.4547, 2.4545, 2.4544, 2.4543, 2.4543, 2.4541, 2.4541, 2.4541, 2.4538, 2.4538, 2.4537, 2.4537, 2.4535, 2.4534, 2.4534, 2.4533, 2.4533, 2.4533, 2.4532, 2.4532, 2.4531, 2.4528, 2.2879, 2.3096, 2.2021, 2.2824, 1.7929, 2.0707, 1.6627, 1.9566, 2.0311, 1.9441, 1.8108, 1.4209, 1.7903, 1.3842, 1.1338, 1.9707, 1.333, 0.5062, 1.3978, 1.39, 1.3752, 0.1717, 1.5492, 0.9956, 1.978, 1.2295, 0.9, 1.1486, 0.3165, -0.3437, 0.2162, 2.5675, 2.5672, 2.5672, 2.567, 2.567, 2.567, 2.567, 2.5669, 2.5668, 2.5668, 2.5666, 2.5664, 2.5663, 2.5663, 2.5663, 2.5663, 2.5662, 2.5661, 2.566, 2.5659, 2.5658, 2.5657, 2.5655, 2.5655, 2.5654, 2.5653, 2.5649, 2.5648, 2.5646, 2.5646, 2.5423, 2.2938, 2.1248, 2.311, 1.6163, 1.9344, 1.5731, 1.6228, 1.9854, 1.7669, 1.1715, 0.9485, 1.4628, 1.5264, 1.9025, 0.4978, 1.4952, 1.2348, 1.1364, 0.0904, 1.3934, 0.9028, 1.3138, 0.0657, 1.2849, 0.325, 1.2444, 1.6059, 0.1726, 2.8908, 2.8907, 2.8906, 2.8906, 2.8905, 2.8904, 2.8904, 2.8903, 2.8903, 2.89, 2.89, 2.8898, 2.8898, 2.8898, 2.8898, 2.8897, 2.8896, 2.8895, 2.8893, 2.8891, 2.8889, 2.8888, 2.8886, 2.8885, 2.8882, 2.8882, 2.8882, 2.8882, 2.8881, 2.888, 2.8697, 2.7933, 2.8205, 2.5762, 2.1893, 1.9568, 2.1983, 2.4234, 1.1219, 0.6481, 0.9985, 1.5876, 1.4979, 1.2008, 0.1191, 1.6102, 1.0116, 0.4811, 0.4133, 2.2429, 0.3117, 0.9511, 1.3943, 2.9204, 2.9203, 2.9201, 2.92, 2.9199, 2.9199, 2.9198, 2.9198, 2.9197, 2.9195, 2.9192, 2.9192, 2.9192, 2.9191, 2.919, 2.9189, 2.9188, 2.9187, 2.9186, 2.9186, 2.9183, 2.9182, 2.9181, 2.9169, 2.9168, 2.9167, 2.9166, 2.9163, 2.916, 2.9159, 2.7717, 2.4367, 2.2718, 2.1089, 1.6351, 2.1649, 1.8487, 1.5494, 1.9583, 0.7647, 1.0059, 0.7575, 0.2724, 0.8627, 0.8991, -0.4921, -1.3146, 3.1223, 3.1222, 3.122, 3.1219, 3.1215, 3.1214, 3.1213, 3.1213, 3.1211, 3.121, 3.121, 3.1209, 3.1209, 3.1207, 3.1207, 3.1206, 3.1206, 3.1205, 3.1204, 3.1204, 3.1203, 3.1203, 3.1202, 3.1201, 3.1201, 3.1201, 3.12, 3.1199, 3.1199, 3.1198, 2.8959, 2.8829, 2.216, 2.7156, 2.3641, 1.6154, 1.5197, 1.5155, -0.5409, 1.0861, 0.6097, 0.3365, 2.0363, 3.4071, 3.4069, 3.4069, 3.4069, 3.4067, 3.4065, 3.4064, 3.4064, 3.4064, 3.4063, 3.4061, 3.406, 3.406, 3.4059, 3.4059, 3.4058, 3.4057, 3.4057, 3.4055, 3.4054, 3.4054, 3.4052, 3.4051, 3.4049, 3.4048, 3.4047, 3.4047, 3.4046, 3.4045, 3.4044, 3.4043, 2.8156, 1.769, 3.0308, 3.0537, 2.3327, 1.1229, 2.3985], \"logprob\": [30.0, 29.0, 28.0, 27.0, 26.0, 25.0, 24.0, 23.0, 22.0, 21.0, 20.0, 19.0, 18.0, 17.0, 16.0, 15.0, 14.0, 13.0, 12.0, 11.0, 10.0, 9.0, 8.0, 7.0, 6.0, 5.0, 4.0, 3.0, 2.0, 1.0, -4.9318, -5.2604, -5.3228, -5.4411, -5.7211, -5.8193, -5.9486, -5.9666, -6.0228, -6.0292, -6.0918, -6.1708, -6.263, -6.2921, -6.3155, -6.4235, -6.4593, -6.4818, -6.5047, -6.5743, -6.6275, -6.6281, -6.6339, -6.6361, -6.6866, -6.7225, -6.8012, -6.8551, -6.9691, -7.0091, -6.3818, -4.2815, -4.0866, -4.5098, -4.5123, -5.8148, -5.7993, -5.7469, -4.8355, -5.2096, -3.73, -4.082, -2.9105, -5.4381, -4.081, -5.0445, -5.3882, -5.4031, -4.1072, -3.3984, -4.8033, -4.0699, -4.3012, -4.5717, -5.0765, -5.1603, -4.5815, -5.1999, -3.6241, -4.2193, -4.4224, -4.6042, -4.5239, -4.5148, -4.7155, -5.0667, -5.0153, -3.9785, -4.766, -4.9159, -5.0395, -5.1725, -5.6788, -5.8303, -5.8456, -5.9471, -6.0438, -5.1462, -6.2797, -6.2871, -6.3257, -6.3437, -6.3475, -6.4886, -6.4963, -6.4969, -6.5786, -6.5862, -6.6441, -6.6732, -6.7017, -6.7205, -6.7255, -6.8139, -6.8294, -6.8552, -6.8949, -4.4273, -4.5778, -5.0966, -4.5131, -4.7619, -3.5662, -5.2672, -5.8777, -5.0088, -4.7477, -4.1232, -4.8186, -5.2058, -5.5182, -4.8343, -4.6093, -3.378, -5.7123, -3.0793, -4.5255, -5.4484, -4.4223, -4.1424, -4.1252, -4.9948, -5.2962, -4.7669, -3.9971, -4.1384, -4.6263, -4.5852, -4.8089, -4.947, -5.0568, -4.4548, -4.7683, -5.081, -5.5728, -6.0692, -6.1452, -6.3022, -6.36, -6.3857, -6.4138, -6.4562, -6.4878, -6.5834, -6.6178, -6.6375, -6.6597, -6.8032, -6.8174, -6.8334, -6.8517, -6.8735, -6.8846, -6.8894, -6.8977, -6.9158, -6.1611, -7.0387, -7.0713, -7.0721, -7.173, -6.1034, -6.1534, -4.7604, -6.1129, -4.9078, -5.8788, -4.5247, -5.2972, -4.7465, -5.0395, -4.6525, -5.9626, -3.536, -3.9703, -5.8136, -4.3417, -4.8851, -4.8152, -4.8664, -3.6904, -3.7902, -5.4643, -3.4258, -3.9716, -3.8166, -4.4174, -3.8272, -3.7249, -4.8514, -5.2452, -3.5998, -4.2718, -5.0958, -4.8151, -4.1545, -4.409, -4.6063, -3.9982, -4.523, -4.0642, -4.5123, -4.7703, -4.6471, -4.7503, -3.534, -4.3998, -4.7339, -5.4174, -5.6791, -5.74, -5.818, -5.8394, -5.9019, -5.9923, -6.0722, -6.0896, -6.1272, -6.157, -6.1944, -6.3201, -6.3652, -6.5088, -6.5355, -6.5882, -6.6122, -6.6628, -6.6762, -6.6953, -6.7242, -6.7369, -6.7647, -6.797, -6.8233, -6.8333, -6.2017, -3.5014, -6.0147, -6.4913, -4.7743, -4.1262, -4.8632, -4.8691, -3.958, -3.91, -3.675, -4.7239, -4.4166, -5.7485, -4.1233, -4.3691, -4.033, -4.9698, -5.7204, -4.4248, -5.0792, -5.553, -4.6757, -4.5468, -4.795, -4.8713, -3.54, -3.8342, -4.6673, -4.904, -4.2769, -4.1036, -4.2538, -3.8216, -4.31, -4.0538, -4.4358, -4.6835, -4.7703, -4.7273, -4.147, -4.2963, -4.4757, -4.7437, -4.8373, -5.0367, -5.3487, -5.3545, -5.4037, -5.5539, -5.6438, -5.65, -5.67, -5.7782, -5.8273, -5.8314, -5.9504, -5.9623, -6.0081, -6.0166, -6.0945, -6.1294, -6.1522, -6.1685, -6.1828, -6.2, -6.2198, -6.2408, -6.2716, -6.3589, -4.7748, -5.1698, -4.7548, -5.3088, -3.2079, -4.534, -3.0115, -4.3336, -4.7343, -4.6218, -4.4485, -3.5832, -4.466, -4.1046, -3.7166, -5.1277, -4.2824, -3.1875, -4.4056, -4.5118, -4.5668, -3.4769, -4.7646, -4.572, -5.1631, -4.9224, -4.8419, -4.9148, -4.7986, -4.7575, -4.8277, -4.3382, -4.8731, -4.9576, -5.0917, -5.1416, -5.145, -5.18, -5.225, -5.2858, -5.3431, -5.4521, -5.6185, -5.6751, -5.6776, -5.6881, -5.6938, -5.7137, -5.8051, -5.8273, -5.8682, -5.9072, -5.9534, -6.0671, -6.07, -6.1127, -6.1325, -6.265, -6.3045, -6.3605, -6.3738, -5.5247, -5.088, -4.5907, -5.3264, -3.2348, -4.3674, -3.7752, -4.0332, -4.8182, -4.4379, -3.5217, -3.4653, -4.2305, -4.3664, -4.8528, -3.1959, -4.562, -4.3806, -4.317, -3.825, -4.7628, -4.6649, -4.8737, -4.5721, -4.931, -4.7579, -4.9286, -5.0923, -5.0859, -4.0566, -4.3033, -4.466, -4.4734, -4.6054, -4.6581, -4.6904, -4.7805, -4.8255, -5.0645, -5.0877, -5.1852, -5.2058, -5.2238, -5.2346, -5.2852, -5.3211, -5.4207, -5.5238, -5.6032, -5.7073, -5.7196, -5.7979, -5.8537, -5.9366, -5.9529, -5.9657, -5.9663, -5.9844, -6.0266, -5.6177, -4.4732, -5.7439, -5.0578, -4.5838, -4.3333, -4.7599, -5.1643, -3.5713, -3.0005, -3.8516, -4.4267, -4.5182, -4.4216, -3.7962, -4.7781, -4.5939, -4.523, -4.6306, -5.1023, -4.7712, -4.9417, -5.039, -2.8057, -3.2477, -3.9313, -4.0522, -4.2943, -4.2958, -4.3914, -4.4039, -4.5276, -4.8081, -5.0248, -5.0646, -5.0892, -5.1079, -5.221, -5.2991, -5.3506, -5.4047, -5.4262, -5.4583, -5.5882, -5.6454, -5.6767, -6.068, -6.1041, -6.1287, -6.1622, -6.2311, -6.3133, -6.3308, -5.0522, -3.5795, -3.1992, -4.1089, -3.5325, -4.6874, -4.1943, -4.0561, -4.7251, -4.2199, -4.6897, -4.631, -4.4696, -4.7527, -4.8927, -4.9228, -5.0083, -3.0419, -3.4492, -3.993, -4.061, -4.6164, -4.692, -4.8242, -4.8342, -4.9259, -5.0178, -5.0358, -5.0568, -5.0817, -5.1885, -5.2067, -5.226, -5.2741, -5.2926, -5.348, -5.3536, -5.3853, -5.3928, -5.4216, -5.4786, -5.4829, -5.4975, -5.5092, -5.5557, -5.567, -5.5833, -4.5556, -4.6752, -4.2173, -4.9644, -4.7191, -4.6462, -4.6961, -4.857, -4.1895, -5.0906, -5.0463, -5.1345, -5.2878, -2.9967, -3.4006, -3.5165, -3.6055, -3.9488, -4.1109, -4.2551, -4.3034, -4.3037, -4.3186, -4.4918, -4.5859, -4.6418, -4.6492, -4.6732, -4.7151, -4.8045, -4.806, -4.9049, -4.9833, -4.9931, -5.0831, -5.1064, -5.1887, -5.2316, -5.2665, -5.2876, -5.3033, -5.3556, -5.3864, -5.2887, -3.4633, -3.7021, -5.0382, -5.071, -4.7689, -4.4925, -5.0916]}, \"token.table\": {\"Topic\": [2, 3, 6, 7, 10, 9, 6, 1, 8, 2, 6, 10, 10, 10, 2, 3, 5, 7, 3, 2, 8, 10, 1, 3, 4, 5, 6, 1, 1, 2, 7, 8, 1, 2, 5, 7, 4, 7, 3, 7, 4, 3, 9, 4, 5, 6, 4, 5, 5, 3, 4, 5, 6, 7, 7, 8, 7, 10, 2, 3, 6, 7, 8, 1, 2, 3, 4, 5, 6, 8, 3, 3, 6, 1, 10, 10, 4, 3, 3, 2, 8, 10, 3, 1, 9, 1, 2, 3, 7, 8, 1, 2, 3, 4, 6, 8, 1, 2, 3, 7, 8, 1, 3, 7, 8, 4, 5, 10, 1, 2, 3, 4, 5, 6, 7, 8, 9, 10, 10, 1, 6, 7, 9, 1, 8, 4, 3, 3, 1, 3, 4, 7, 10, 10, 3, 5, 4, 8, 2, 6, 1, 6, 9, 8, 2, 7, 7, 3, 3, 1, 2, 7, 8, 9, 1, 8, 1, 3, 4, 6, 4, 4, 6, 9, 6, 1, 2, 3, 7, 8, 10, 3, 5, 1, 2, 7, 8, 1, 6, 4, 6, 3, 4, 5, 6, 5, 1, 7, 9, 5, 1, 3, 7, 2, 3, 1, 3, 6, 7, 9, 7, 1, 2, 10, 7, 7, 1, 8, 9, 8, 4, 1, 4, 6, 1, 2, 4, 5, 1, 4, 3, 1, 8, 6, 1, 3, 7, 8, 7, 8, 1, 9, 2, 8, 10, 5, 9, 10, 3, 4, 7, 5, 1, 4, 7, 1, 6, 4, 6, 1, 2, 3, 4, 5, 6, 7, 8, 10, 1, 3, 5, 8, 6, 1, 9, 3, 8, 1, 2, 3, 5, 1, 5, 7, 1, 4, 10, 3, 7, 1, 9, 10, 5, 6, 6, 7, 7, 7, 9, 4, 10, 10, 1, 2, 3, 6, 7, 2, 8, 1, 8, 10, 1, 3, 4, 1, 1, 2, 3, 4, 5, 6, 7, 8, 1, 3, 7, 5, 6, 1, 2, 3, 4, 5, 6, 8, 6, 10, 3, 1, 2, 5, 3, 5, 3, 7, 2, 7, 8, 4, 10, 8, 2, 7, 1, 3, 4, 6, 7, 7, 1, 2, 3, 4, 6, 7, 8, 9, 1, 3, 4, 5, 4, 3, 2, 10, 4, 1, 2, 3, 4, 6, 7, 8, 5, 1, 6, 1, 2, 4, 7, 9, 4, 5, 4, 5, 4, 1, 5, 9, 1, 2, 4, 5, 10, 4, 9, 2, 2, 6, 8, 8, 3, 1, 2, 6, 1, 2, 3, 4, 5, 8, 4, 1, 2, 3, 4, 6, 1, 2, 3, 5, 8, 2, 1, 2, 3, 4, 6, 1, 4, 5, 4, 5, 3, 4, 7, 3, 1, 3, 4, 5, 9, 4, 1, 4, 8, 1, 5, 7, 10, 3, 1, 2, 3, 6, 7, 8, 10, 8, 5, 8, 9, 8, 3, 6, 8, 3, 7, 5, 3, 6, 6, 4, 4, 5, 6, 6, 9, 7, 2, 3, 10, 1, 2, 4, 5, 6, 4, 7, 1, 3, 5, 6, 7, 8, 10, 2, 1, 4, 5, 7, 1, 3, 4, 6, 9, 1, 4, 7, 9, 2, 7, 2, 7, 8, 5, 4, 5, 9, 1, 3, 7, 9, 3, 1, 3, 5, 6, 4, 3, 8, 5, 6, 6, 1, 4, 5, 4, 6, 1, 3, 10, 2, 7, 8, 3, 9, 10, 1, 3, 5, 6, 8, 3, 5, 1, 9, 6, 4, 10, 4, 1, 2, 1, 2, 7, 1, 2, 2, 3, 4, 6, 1, 2, 3, 4, 5, 7, 8, 2, 9, 1, 4, 1, 2, 3, 6, 7, 2, 1, 2, 3, 4, 7, 4, 6, 6, 1, 8, 9, 1, 1, 3, 5, 7, 8, 1, 4, 5, 6, 2, 7, 1, 4, 2, 3, 4, 5, 6, 7, 8, 8, 6, 4, 4, 5, 6, 4, 5, 4, 8, 5, 1, 2, 3, 1, 2, 7, 3, 8, 10, 8, 2, 9, 5, 4, 6, 2, 2, 6, 8, 10, 1, 2, 3, 6, 8, 10, 1, 1, 8, 2, 4, 9, 1, 5, 7, 4, 9, 1, 4, 6, 6, 7, 7, 1, 2, 3, 7, 1, 7, 1, 2, 3, 6, 7, 8, 9, 5, 1, 2, 2, 10, 7, 2, 2, 1, 2, 3, 5, 6, 7, 8, 9, 1, 6, 7, 9, 5, 5, 1, 2, 3, 5, 6, 7, 8, 9, 3, 7, 3, 1, 7, 10, 2, 3, 7, 9, 4, 8, 3, 5, 6, 2, 2, 10, 3, 5, 2, 3, 5, 2, 3, 4, 5, 9, 9, 5, 10, 4, 4, 3, 4, 5, 6, 6, 1, 3, 6, 10, 2, 7, 1, 2, 7, 4, 6, 1, 3, 4, 6, 7, 1, 3, 3, 5, 7, 9, 5, 4, 6, 1, 2, 3, 6, 7, 1, 5, 10, 1, 9, 10, 6, 7, 1, 4, 4, 6, 2, 1, 3, 7, 2, 1, 2, 5, 8, 5, 10, 5, 1, 2, 4, 5, 7, 5, 4, 1, 2, 9, 10, 10, 1, 3, 6, 5, 1, 3, 8, 1, 2, 3, 8, 3, 7, 8, 1, 2, 3, 5, 6, 8, 1, 9, 8, 9, 1, 2, 3, 5, 6, 7, 8, 3, 6, 8, 3, 1, 2, 6, 8, 1, 2, 3, 4, 6, 7, 2, 4, 8, 3, 7, 8, 2, 1, 2, 3, 4, 5, 6, 7, 4, 5, 6, 3, 7, 7, 3, 5, 9, 2, 10, 1, 2, 3, 4, 6, 7, 5, 7, 5, 8, 1, 9, 9, 1, 2, 7, 8, 9, 9, 8, 5, 2, 8, 1, 3, 4, 5, 7, 3, 7, 1, 2, 3, 4, 5, 6, 7, 8, 9, 10, 2, 9, 6, 1, 2, 2, 10, 10, 1, 8, 1, 2, 9, 10], \"Freq\": [0.164712892238999, 0.1287100742632615, 0.09090711538873715, 0.2502195849313755, 0.364528532004342, 0.9960317157366863, 0.999372399044656, 0.9987557769446183, 0.9993622646909149, 0.9988459816197518, 0.9959768403570872, 0.9969230299606106, 0.9979927176540185, 0.9967307157625003, 0.2503198778437743, 0.589236116946862, 0.1582077879630596, 0.001757864310700662, 0.9982755548751823, 0.8236525184864215, 0.09368179973711405, 0.08247201173438246, 0.5060896770133646, 0.02216591831529907, 0.1840734955748749, 0.2665692611309445, 0.021009435620587817, 0.9987180709231712, 0.9738510961653749, 0.0005886964462235906, 0.00014717411155589765, 0.0251667730760585, 0.11226032551420642, 0.7441080592826906, 0.10704604809961214, 0.036499941902160014, 0.49971756204532414, 0.5002463636982821, 0.9972271364607516, 0.0017253064644649682, 0.996634498262636, 0.9959016717440995, 0.9993129273753206, 0.9631387953051496, 0.0005281814068029336, 0.03631247171770169, 0.3193651604599366, 0.6803220627472139, 0.9989683350885556, 0.3624254884190864, 0.21928910782394048, 0.00032942780344107233, 0.24745518501815217, 0.17042398364684808, 0.13699404100193635, 0.8621826800672324, 0.9990611706702, 0.9990708951215822, 0.0031714116847939046, 0.3846469314842893, 0.5586215153358406, 0.004983646933247565, 0.0484772928961354, 0.521943393734376, 0.16256043488959965, 0.03120485650280253, 0.16382549663971327, 0.0945633658209928, 0.025722922252310192, 0.000210843625018936, 0.9950909850647393, 0.9975507608986749, 0.9985237421019068, 0.31312046416623956, 0.6856535292255606, 0.9986051930411803, 0.9960229779098123, 0.9984087585003589, 0.9974211896537929, 0.9995564652430508, 0.999173135274593, 0.9989015695684436, 0.9973147956131954, 0.9981326541814153, 0.9980644588456693, 0.2006005998378664, 0.09581415601611674, 0.6563763574506142, 0.0452730118632854, 0.0018932350415555713, 0.9995772615002126, 0.48539421703793534, 0.06522671366715183, 0.061345948094277805, 0.3312084156233636, 0.05671888144969724, 0.381578184213228, 7.347933452979549e-05, 0.5020842928420925, 0.0003673966726489774, 0.11580343121895768, 0.4228169352035032, 0.293907180960532, 0.0067057777703393665, 0.2765250991084681, 0.8164790928003435, 0.1834784478203019, 0.9979010842541722, 0.0046610655012861565, 0.007170870001978703, 0.0009561160002638271, 0.0934603390257891, 0.036690951510124366, 0.0007170870001978703, 0.07768442502143595, 0.5227564231442474, 0.061669482017016844, 0.19433057705362283, 0.9993937058304155, 0.10914082028922735, 0.08627321984767496, 0.7296843413622629, 0.07379998324319183, 0.9992408480831103, 0.9993471647991287, 0.9973291167726832, 0.9980510312932068, 0.9991188416937857, 0.20325404776091646, 0.1886181072020675, 0.3586836136957349, 0.2481925694768189, 0.00103070003935556, 0.9982802021091319, 0.9972813914706882, 0.995610365858176, 0.9975966288000068, 0.998438047578654, 0.22630432107364468, 0.7738147752840753, 0.9994548720080296, 0.9995347182975653, 0.9995782485616849, 0.9998803904392286, 0.9965939902725547, 0.9949448857938592, 0.9961669017803256, 0.9988139785241325, 0.9943512705632049, 0.2209057471524732, 0.29025401252568106, 0.04438288983885306, 0.4440810738989786, 0.9983797594978263, 0.9981743254422969, 0.9961882200288864, 0.6414387503818479, 0.04894512553114502, 0.21896503527091196, 0.09037674495005288, 0.9981160096366921, 0.7146246208441419, 0.28526268671833943, 0.9983314435494176, 0.9983935868149708, 0.13415678858899202, 0.43262080550652293, 0.37595149159829905, 0.02423858881022393, 0.032937455177656214, 8.445501327604157e-05, 0.9986144840891827, 0.9989481839679556, 0.24429072072053037, 0.34927968183601293, 0.15269878849738802, 0.25386002707220195, 0.9992968051250252, 0.9989120143376757, 0.9998376682776757, 0.9989255897600731, 0.10406826806748333, 0.5326603756033554, 0.34438138885229025, 0.01875435219590689, 0.996655217423956, 0.9987545196054005, 0.9996387406935364, 0.9970697827522613, 0.9961160481357333, 0.21028702507506059, 0.7744138539788197, 0.015126429166189125, 0.6492402864773048, 0.3507764302732613, 0.41958725351906684, 0.05386423050574703, 0.27712391489171717, 0.04807508423643777, 0.20136160936727862, 0.9981633890309076, 0.6634216083767792, 0.32756598914173424, 0.008792031917147775, 0.9991571778398637, 0.9979902944108128, 0.9117032339229761, 0.08739775828640943, 0.9984544572982466, 0.9979374106602192, 0.9971555857843092, 0.15650007289521628, 0.5344714610694205, 0.3089690833067679, 0.0903815772203678, 0.04573818712632341, 0.5213666755942078, 0.3424281828739372, 0.9992718348025519, 0.9990073371352212, 0.9983986468899222, 0.8674766284547737, 0.13241906384614355, 0.9974733872902245, 0.3159641026393858, 0.4941427230198349, 0.04233799291995558, 0.1473601520358878, 0.9967724536818766, 0.9981537117630327, 0.9961806498592947, 0.0024597053082945548, 0.4466073287807259, 0.46991271654457634, 0.08323352772803731, 0.8453846179020809, 0.15381303464607304, 0.9996395256748549, 0.2509311328148829, 0.25312842819855086, 0.4957098385554955, 0.9990248674261077, 0.9995767838971528, 0.996647309714416, 0.9969101242113744, 0.9989295509857357, 0.9982444730283573, 0.9996010418954031, 0.9973753865491778, 0.39735849937735573, 0.20324182118466003, 0.20766613293833971, 0.09740398845210407, 0.09049100133697958, 0.0009678181961174287, 6.912987115124491e-05, 0.0016591169076298777, 0.0011060779384199186, 0.4404987432702368, 0.10267709486034869, 0.45240411470997294, 0.004417377638273134, 0.9971302180292825, 0.8976226372278392, 0.10162874099503676, 0.9319505038885949, 0.06798785672566114, 0.1324164734009795, 0.16187998538534068, 0.7006897275361295, 0.0047412548020811076, 0.999211251890173, 0.6070320489791154, 0.3928492358064932, 0.7830117055433309, 0.15424042280126854, 0.062626621787058, 0.854375493347766, 0.14518116574002382, 0.19139087808466385, 0.7976063290315629, 0.010392264873375412, 0.8637829506310802, 0.13535567886177752, 0.9984549826075386, 0.9989201432953813, 0.997547216823732, 0.9985416400900696, 0.9984097806326901, 0.2970904868217291, 0.7028312088239763, 0.9992722398656156, 0.1996936194616531, 0.01179509016050973, 0.15635352073233827, 0.5307790572229378, 0.10121833184251373, 0.998020837671883, 0.9995442570509495, 0.509600389146691, 0.14830286773969573, 0.34115762578802433, 0.8004011015658545, 0.08902699604584709, 0.1104944986384627, 0.9982667168888573, 0.07477853296633083, 0.1272190033363896, 0.3106153276630322, 0.21711102103328367, 0.06082762398427244, 0.1980115623078466, 0.00029064393712621646, 0.01112751073568943, 0.726285493382629, 0.25049198215854696, 0.02307162993565564, 0.9978158622374832, 0.9986922473204904, 0.25805928933462313, 0.27909607243543305, 0.09501916824208284, 0.08483421273506248, 0.14232666991258816, 0.12616007386969869, 0.014469103458386073, 0.9989461462145064, 0.998564312185542, 0.9973976607176913, 0.11381419711847468, 0.23198909144455374, 0.6541045811406591, 0.22391414292775064, 0.7757780093416643, 0.9368178307700695, 0.062372988732733094, 0.8286524751384172, 0.1321350299284629, 0.038517093744329274, 0.8780215924245884, 0.12071373384825729, 0.999449175110605, 0.8944494297245437, 0.10422835209632018, 0.26371198747170466, 0.08189286175710217, 0.6503693464155355, 0.0005303941823646514, 0.003500601603606699, 0.9994259940783318, 0.4036576578759191, 0.13912619600372217, 0.12669160306865418, 0.17701008766390905, 0.08393980788621962, 0.06252607684793823, 0.005927240040042551, 0.0011350034119230418, 0.45531148248680503, 0.12122911327721766, 0.15277893598394454, 0.2705505344439867, 0.9963165524330793, 0.9986802927126323, 0.9985884154277515, 0.9978092057028859, 0.9982307817852757, 0.3658109818081777, 0.2520989342111739, 0.12301056587926226, 0.16877589887741684, 0.0819204655369918, 0.0004155762360785887, 0.007947895515003009, 0.9978890042802018, 0.9991533751445051, 0.9968001498069076, 0.134828951721091, 0.06850937454041515, 0.16892722489417436, 0.22367215888765676, 0.40386119877477605, 0.8162259702310625, 0.18362887812517983, 0.9773102021504949, 0.02149751713698212, 0.9987996704512093, 0.6651162065591124, 0.2042787766870054, 0.13045765477997145, 0.08170309917872845, 0.1641449243898143, 0.7161210157672636, 0.037970518063170366, 0.9992852056262501, 0.9985022837362572, 0.9986701924161648, 0.9975627125719548, 0.37001245453727977, 0.24747847122145966, 0.38206497748637686, 0.9939673647734012, 0.9988902688559833, 0.08288318514265222, 0.4027604778025756, 0.5141347578380145, 0.11675684109895758, 0.17492970382960016, 0.45613279999751205, 0.12477359603356909, 0.01623906768805924, 0.11100122217154418, 0.9974330664945308, 0.0540215367206415, 0.13393357951937845, 0.29375766511685236, 0.0692073143241398, 0.4488517544115973, 0.16095223291762237, 0.7144125133964354, 0.005085851226021525, 0.10770037890398523, 0.011667541047931733, 0.9964668962047865, 0.16001328957029184, 0.10049399753366012, 0.29794969040296065, 0.4014461448049375, 0.03991501483762247, 0.9316221373319897, 0.06784923129028497, 0.9996513900351295, 0.15833883200819804, 0.840490403867416, 0.869298233683294, 0.1300774729234126, 0.9973178516037309, 0.9959854808981586, 0.05137860545117743, 0.228964144292683, 0.3883695612053104, 0.10960769162917851, 0.22158670350994983, 0.9988263524575847, 0.9990517211074814, 0.998176176374598, 0.9970812865430779, 0.9995189663965452, 0.06588457273197822, 0.9329255498848115, 0.9982891927508971, 0.9995182502650053, 0.14691279595725887, 0.6263562547186249, 0.10945627574152715, 0.012901690296529815, 0.09738695256090248, 0.0037456520215731724, 0.0033294684636205976, 0.9958227196298991, 0.9968519381833117, 0.9981406923492632, 0.9991657959124398, 0.9976373081227213, 0.5711918383983785, 0.3820176677939191, 0.046478136743337006, 0.9676466824071892, 0.0303387573692023, 0.99937526132691, 0.9998665323400601, 0.9978090244838704, 0.9971132151502741, 0.9983140434392249, 0.4716095615686244, 0.5247116415222822, 0.0036803421750059876, 0.999199094418329, 0.9990632471420979, 0.9993762352408535, 0.3176893389655649, 0.673950901686987, 0.008200394026835804, 0.20847409632212746, 0.24597165768872775, 0.395653281250877, 0.110023708865786, 0.039657914696363254, 0.8059808313244982, 0.1926784484703176, 0.12564796665859865, 0.055644099520236544, 0.3254420411146341, 0.2635845806057855, 0.0001380746886358227, 0.127719086988136, 0.10189912021323715, 0.9987049014205095, 0.9988940200281449, 0.4856566968283401, 0.513962645699069, 0.997931783828611, 0.4339783250922165, 0.045439745105745666, 0.050904018251373306, 0.3886823766481979, 0.08110131721405239, 0.3249899578092985, 0.675082588221798, 0.9993951478437475, 0.9967473692847881, 0.9987376907209513, 0.9989821874809176, 0.8560698790615278, 0.1435326743336693, 0.9995557322522154, 0.9994292293199959, 0.9959872421699132, 0.9959957503503776, 0.9989433438346363, 0.24684039197268054, 0.22970951303451345, 0.523270483929468, 0.9990224648635803, 0.9994304508717187, 0.030282852863181248, 0.5734982754620166, 0.21921569594763063, 0.17687329990884623, 0.9997006342212722, 0.9988250308087773, 0.9998390922383987, 0.9988070565997744, 0.9993516346646582, 0.9988940905326069, 0.3215069402099665, 0.4629329592656105, 0.2152638260585089, 0.8620681816184086, 0.13697426340973454, 0.32135570163055477, 0.6740062172280386, 0.0042037809806322575, 0.373129939229045, 0.6261834884402325, 0.9986942331875269, 0.9963010679498192, 0.9986691634763614, 0.9988890411551706, 0.20522332052883263, 0.35989772823978733, 0.23220906825712687, 0.18916350968565265, 0.013427054967248832, 0.8989767001658779, 0.09960253212065126, 0.33302638849628335, 0.6660527769925667, 0.9966886921626995, 0.9971749158802465, 0.9981102438655978, 0.9984545629097572, 0.9997005230461351, 0.9982861368717063, 0.25827928542059386, 0.7398891740761567, 0.0017048137651524348, 0.20858889260094512, 0.7913401190494381, 0.9996977130593802, 0.4039107387052532, 0.22632109174769616, 0.3697670149151991, 0.0004678247654151472, 0.06323431412528073, 0.482171391554545, 0.2619038978382466, 0.10650810492618185, 0.08389657459778306, 0.0017933282674247309, 0.8334959890566587, 0.16600749989510213, 0.9995317162714639, 0.9983284130388289, 0.12427391920684178, 0.6880867750995909, 0.005674608182960812, 0.10611517302136718, 0.07579655215811941, 0.9995716589534864, 0.10317391057825574, 0.0787013927052463, 0.3227313294503121, 0.3110512641018303, 0.18437817442960527, 0.9975706129504395, 0.9979468070861383, 0.9973915033027723, 0.46857572099371025, 0.06291617737127823, 0.46857572099371025, 0.9992239891235505, 0.35081198471892266, 0.31761494268669727, 0.05233767887963467, 0.2778383067381749, 0.001196289802963078, 0.9989055083924617, 0.3661238267223218, 0.5993714938927376, 0.03393342784255665, 0.9977490193614794, 0.99792359532318, 0.24762565997369543, 0.7523336882934905, 0.0005786442950957507, 0.3872416210401896, 0.2209778269160106, 0.0034075719600083097, 0.3860843324499981, 6.429381056619453e-05, 0.0016073452641548632, 0.9973028407227558, 0.9972555473095155, 0.997509410377509, 0.6525849022407582, 0.34712317450651153, 0.0001666457870890598, 0.8332837533771813, 0.16665675067543625, 0.9985261841663648, 0.9962194059618535, 0.9985715513955308, 0.20765115162833422, 0.15232541226715174, 0.6398385831315974, 0.2784949275916496, 0.7210730389747722, 0.9990778067453774, 0.9980221693981045, 0.9983383714107577, 0.9990569665696367, 0.995207887135625, 0.9983959732540009, 0.0011423294888489712, 0.9965749241922145, 0.6578384656736779, 0.3421275467901302, 0.999873664096156, 0.9971708054129496, 0.9987716941097811, 0.9942727135486419, 0.9970029897827188, 0.2843094491569762, 0.0013497643248712725, 0.6337757034509203, 0.07411433202020441, 0.006380704081209652, 0.9970564009879264, 0.998249483240051, 0.9994523242267599, 0.9986959715335936, 0.8083726605279421, 0.19115006035857454, 0.9983850855007217, 0.9981374167840567, 0.9981321491399109, 0.9993054783431453, 0.9976564176454392, 0.9971513681648558, 0.9974504634755462, 0.35761512062733414, 0.6422136969038437, 0.9974018428617771, 0.999392875713522, 0.9984442610597227, 0.052680192491785745, 0.6654124054222184, 0.28173640607944633, 0.9981299319614249, 0.9991443473875737, 0.9984694215271943, 0.3665971306701443, 0.1824861854093977, 0.44107954280303346, 0.0005130820583207058, 0.002479896615216745, 0.00675558043455596, 8.55136763867843e-05, 0.9993296054763414, 0.9988354295110847, 0.9976682550499844, 0.9981060845017393, 0.9987334558501736, 0.998361981146375, 0.9974939272509731, 0.9990957808116803, 0.6762933869628102, 0.16007340379709, 0.010548770333908651, 0.11771088166250447, 8.372039947546549e-05, 0.0013395263916074478, 0.032818396594382473, 0.0010883651931810514, 0.8123906804222928, 0.13617884124273782, 0.050725642869787736, 0.00039019725284452104, 0.9996554175540019, 0.996967195861642, 0.5821291910764507, 0.17638096934668615, 0.11086803787505986, 0.07919145562504276, 0.01814204256137343, 0.024333374546604048, 0.008999029048300314, 0.9982686018455446, 0.8231109515509152, 0.1764140787305966, 0.9982853172686554, 0.019519417829388545, 0.9784108186981008, 0.9989448759496934, 0.9969948940655045, 0.09284757326080281, 0.906883273710167, 0.997743319323593, 0.3834019463642339, 0.6163289352844405, 0.7531143891151482, 0.24562315710571703, 0.0006497967119198863, 0.9985254432369067, 0.9974190913884191, 0.9997164792610261, 0.9989684472002978, 0.9996405977028608, 0.7821337292128593, 0.1614174296580876, 0.05653509009763938, 0.33673771737464064, 0.08938956718436462, 0.16989569912059363, 0.40391869643866624, 0.999115906049024, 0.9991427700766515, 0.9981304459520829, 0.9992972906490192, 0.9971990566626332, 0.999484545129766, 0.37906640264260855, 0.21895184071214285, 0.13551865030861704, 0.2662145728482442, 0.9993961600499338, 0.07748057094753842, 0.8042415595733573, 0.061916788137115854, 0.05616495535935099, 0.9753732922289531, 0.02446588525657909, 0.5178477459332119, 0.21047208744126966, 0.27157688702099314, 0.024039973203535483, 0.9744202471833049, 0.4736722482739514, 0.2871795026254964, 0.11005970844227471, 0.09112054878056633, 0.03787831932341676, 0.31991242294516564, 0.6798138987584771, 0.308562201525916, 0.6202989112979834, 0.07047408306456107, 0.998724592753209, 0.998337556553973, 0.992365248038212, 0.006075705600233952, 0.3366652653576584, 0.1029716505186656, 0.3828515515229239, 0.02685099807660775, 0.15063538394651954, 0.4845140106578908, 0.5153562249614834, 0.9979869373182725, 0.9983355104630399, 0.9996748905043923, 0.9973462858592962, 0.9979652350001827, 0.9980223566827606, 0.0763803170606136, 0.9228911682708459, 0.9909221409246234, 0.00810018098848466, 0.9995470947207041, 0.8367056494338202, 0.16230783490825484, 0.0007964074333084144, 0.998850936636962, 0.2924607707061998, 0.2966715933210796, 0.33935402255372527, 0.07139258342500819, 0.9986390583010344, 0.9992410421222525, 0.9986167648199146, 0.18252329850446924, 0.35740399584003213, 0.014985492488051663, 0.3552310994292647, 0.08976310000342945, 0.9959406840377448, 0.9997984952781546, 0.004289337905320209, 0.3597682168087325, 0.08230167105833151, 0.5533245897863069, 0.9973312981263671, 0.02232836882922839, 0.976068694534841, 0.9987146065055741, 0.9989522470103426, 0.4408620547197925, 0.2166195398551142, 0.34239862751292244, 0.6622665291931092, 0.019198637957804944, 0.24767972572591604, 0.07079858081737078, 0.9754541178643713, 0.0033520760064067743, 0.020112456038440644, 0.0009444342203206956, 0.4802448010330737, 0.13505409350585945, 0.29348293396465613, 0.09019346804062643, 0.0002361085550801739, 0.6618148161292309, 0.3377695432548955, 0.99869487017862, 0.9978615511705424, 0.609404808981762, 0.15906287985900333, 0.09310997845405072, 0.10226579300203238, 0.036002525002232943, 0.9977432440672611, 0.9993842112999604, 0.14052814068575836, 0.7599826458925207, 0.09933885807096711, 0.998551163273348, 0.7724633107669552, 0.16266156915036997, 0.06484965642338539, 0.9989232471957905, 0.288258089608647, 0.12627234898785863, 0.0663248701754409, 0.022411975361481404, 0.35294305914788193, 0.14376462244072216, 0.7896360276245905, 0.19033728170428807, 0.01965699886618592, 0.8227384178637339, 0.05989602233183907, 0.11729637706651819, 0.9989294404424707, 0.20255660511223206, 0.0069073011120965744, 0.2932149322084996, 0.35399918199494945, 0.02935602972641044, 0.0818515181783444, 0.03211895017124907, 0.6852446075182435, 0.07912943682055906, 0.23534889198692052, 0.9957414595702415, 0.99748810803207, 0.9969594479874905, 0.9980316989811518, 0.9974447359377958, 0.9995763540002466, 0.8157399996233695, 0.184013856914033, 0.0450913728410602, 0.42343617308558096, 0.13597867122382215, 0.11425496295404056, 0.23896079096759767, 0.04227316203849393, 0.6156795670542906, 0.38388716088068914, 0.9964613806850022, 0.9990413700402433, 0.2119528081679938, 0.7871156557875043, 0.9998885050750675, 0.3397294633444541, 0.18281802143579376, 0.09597210143006242, 0.18075727079158996, 0.200481598386112, 0.9989484156402464, 0.9996338830307662, 0.9990435203103651, 0.9979085860187416, 0.9991523554378268, 0.0018803941700452104, 0.06205300761149195, 0.723951755467406, 0.21107424558757487, 0.0010968965991930394, 0.899204467787451, 0.1004548738111537, 0.5035358790746317, 0.09250904687491508, 0.05070708875478223, 0.10228344188821786, 0.10185846819198731, 0.006934798043034978, 0.10612752214048515, 0.009851662958071975, 0.02565295766337173, 0.0005408756133843438, 0.9990584836138025, 0.9985045301145832, 0.9983821762623077, 0.9998694311831088, 0.999336599996915, 0.9985941165921673, 0.9976270312972131, 0.9991146565596318, 0.8849761929982989, 0.11499628471564566, 0.8304593828096177, 0.1692029247085345, 0.9982074639622976, 0.9994516401154313], \"Term\": [\"10\", \"10\", \"10\", \"10\", \"10\", \"13\", \"15\", \"2010\", \"2011\", \"2012\", \"25\", \"40\", \"50\", \"60\", \"accent\", \"accent\", \"accent\", \"accent\", \"accessible\", \"acid\", \"acid\", \"acid\", \"acidity\", \"acidity\", \"acidity\", \"acidity\", \"acidity\", \"aftertaste\", \"age\", \"age\", \"age\", \"age\", \"alcohol\", \"alcohol\", \"alcohol\", \"alcohol\", \"almond\", \"almond\", \"alongside\", \"alongside\", \"angular\", \"appearance\", \"appellation\", \"apple\", \"apple\", \"apple\", \"apricot\", \"apricot\", \"ap\\u00e9ritif\", \"aroma\", \"aroma\", \"aroma\", \"aroma\", \"aroma\", \"astringent\", \"astringent\", \"austere\", \"bacon\", \"bake\", \"bake\", \"bake\", \"bake\", \"bake\", \"balance\", \"balance\", \"balance\", \"balance\", \"balance\", \"balance\", \"balance\", \"balsam\", \"balsamic\", \"banana\", \"barbecue\", \"barbecue\", \"barbera\", \"barely\", \"barnyard\", \"barolo\", \"barrel\", \"base\", \"beef\", \"beer\", \"begin\", \"benefit\", \"berry\", \"berry\", \"berry\", \"berry\", \"berry\", \"best\", \"bite\", \"bite\", \"bite\", \"bite\", \"bite\", \"black\", \"black\", \"black\", \"black\", \"black\", \"blackberry\", \"blackberry\", \"blackberry\", \"blackberry\", \"blanc\", \"blanc\", \"blast\", \"blend\", \"blend\", \"blend\", \"blend\", \"blend\", \"blend\", \"blend\", \"blend\", \"blend\", \"blend\", \"blueberry\", \"boast\", \"boast\", \"boast\", \"boast\", \"bone\", \"bordeaux\", \"boysenberry\", \"bramble\", \"briary\", \"bright\", \"bright\", \"bright\", \"bright\", \"bright\", \"brown\", \"brunello\", \"brut\", \"br\\u00fbl\\u00e9e\", \"build\", \"burn\", \"burn\", \"burst\", \"butter\", \"cab\", \"cabernet\", \"cabs\", \"cake\", \"capture\", \"caramelized\", \"carob\", \"cassis\", \"cassis\", \"cassis\", \"cassis\", \"cellaring\", \"certainly\", \"change\", \"character\", \"character\", \"character\", \"character\", \"characteristic\", \"chardonnay\", \"chardonnay\", \"charm\", \"cheese\", \"cherry\", \"cherry\", \"cherry\", \"cherry\", \"cherry\", \"cherry\", \"chianti\", \"chicken\", \"chocolate\", \"chocolate\", \"chocolate\", \"chocolate\", \"chocolaty\", \"chunky\", \"citrus\", \"citrusy\", \"clean\", \"clean\", \"clean\", \"clean\", \"cleanse\", \"climate\", \"close\", \"coastal\", \"cocktail\", \"coffee\", \"coffee\", \"coffee\", \"colon\", \"colon\", \"come\", \"come\", \"come\", \"come\", \"come\", \"compact\", \"complex\", \"complex\", \"complex\", \"component\", \"cook\", \"cool\", \"cool\", \"county\", \"couple\", \"cracker\", \"creamy\", \"creamy\", \"creamy\", \"crisp\", \"crisp\", \"crisp\", \"crisp\", \"crispness\", \"cr\\u00e8me\", \"cure\", \"currant\", \"currant\", \"custard\", \"dark\", \"dark\", \"dark\", \"dark\", \"day\", \"de\", \"decant\", \"decant\", \"deep\", \"deep\", \"deep\", \"delicate\", \"delicate\", \"delicious\", \"deliver\", \"deliver\", \"deliver\", \"dessert\", \"develop\", \"develope\", \"di\", \"different\", \"dimensional\", \"dish\", \"dose\", \"drink\", \"drink\", \"drink\", \"drink\", \"drink\", \"drink\", \"drink\", \"drink\", \"drink\", \"dry\", \"dry\", \"dry\", \"dry\", \"dust\", \"dusty\", \"dusty\", \"earth\", \"earth\", \"earthy\", \"earthy\", \"earthy\", \"earthy\", \"easily\", \"easy\", \"easy\", \"edge\", \"edge\", \"edge\", \"espresso\", \"espresso\", \"estate\", \"estate\", \"estate\", \"everyday\", \"everyday\", \"example\", \"expression\", \"expressive\", \"extract\", \"fall\", \"fare\", \"fare\", \"fat\", \"feel\", \"feel\", \"feel\", \"feel\", \"feel\", \"fermentation\", \"fig\", \"fill\", \"fill\", \"fill\", \"fine\", \"fine\", \"fine\", \"finely\", \"finish\", \"finish\", \"finish\", \"finish\", \"finish\", \"finish\", \"finish\", \"finish\", \"firm\", \"firm\", \"firm\", \"fish\", \"flat\", \"flavor\", \"flavor\", \"flavor\", \"flavor\", \"flavor\", \"flavor\", \"flavor\", \"flavors\", \"flesh\", \"floor\", \"floral\", \"floral\", \"floral\", \"flower\", \"flower\", \"forest\", \"forest\", \"forward\", \"forward\", \"forward\", \"fragrant\", \"fragrant\", \"franc\", \"french\", \"french\", \"fresh\", \"fresh\", \"fresh\", \"fresh\", \"fresh\", \"friendly\", \"fruit\", \"fruit\", \"fruit\", \"fruit\", \"fruit\", \"fruit\", \"fruit\", \"fruit\", \"fruity\", \"fruity\", \"fruity\", \"fruity\", \"fun\", \"game\", \"generic\", \"ginger\", \"golden\", \"good\", \"good\", \"good\", \"good\", \"good\", \"good\", \"good\", \"gooseberry\", \"gorgeous\", \"grabby\", \"grape\", \"grape\", \"grape\", \"grape\", \"grape\", \"grapefruit\", \"grapefruit\", \"grass\", \"grass\", \"grassy\", \"great\", \"great\", \"great\", \"green\", \"green\", \"green\", \"green\", \"grenache\", \"grigio\", \"grow\", \"hand\", \"hard\", \"hard\", \"hard\", \"heady\", \"hearty\", \"heavy\", \"heavy\", \"heavy\", \"herb\", \"herb\", \"herb\", \"herb\", \"herb\", \"herb\", \"herbaceous\", \"herbal\", \"herbal\", \"herbal\", \"herbal\", \"herbal\", \"high\", \"high\", \"high\", \"high\", \"high\", \"hills\", \"hint\", \"hint\", \"hint\", \"hint\", \"hint\", \"hold\", \"hold\", \"honey\", \"honeysuckle\", \"honeysuckle\", \"hot\", \"hot\", \"huge\", \"important\", \"imported\", \"imported\", \"imported\", \"imported\", \"imported\", \"impression\", \"impressive\", \"improve\", \"inky\", \"intense\", \"italian\", \"italian\", \"italy\", \"jam\", \"jammy\", \"jammy\", \"jammy\", \"jammy\", \"jammy\", \"jammy\", \"jammy\", \"jasmine\", \"job\", \"kick\", \"know\", \"lavender\", \"lead\", \"lead\", \"lead\", \"leafy\", \"leafy\", \"lean\", \"leather\", \"leathery\", \"lee\", \"leesy\", \"lemon\", \"lemon\", \"lemon\", \"lemony\", \"let\", \"level\", \"licorice\", \"licorice\", \"licorice\", \"light\", \"light\", \"light\", \"light\", \"light\", \"lightly\", \"lightly\", \"like\", \"like\", \"like\", \"like\", \"like\", \"like\", \"like\", \"likeable\", \"likely\", \"lime\", \"lime\", \"linear\", \"little\", \"little\", \"little\", \"little\", \"little\", \"lively\", \"lively\", \"load\", \"lose\", \"lots\", \"luminous\", \"lush\", \"lush\", \"malbec\", \"mango\", \"marlborough\", \"marmalade\", \"massive\", \"mature\", \"mature\", \"mature\", \"mean\", \"meat\", \"medium\", \"medium\", \"medium\", \"medium\", \"melon\", \"menthol\", \"merlot\", \"meyer\", \"mild\", \"mildly\", \"mineral\", \"mineral\", \"mineral\", \"minerally\", \"minerally\", \"mocha\", \"mocha\", \"mocha\", \"modern\", \"modern\", \"modest\", \"moist\", \"mountain\", \"mourv\\u00e8dre\", \"mouth\", \"mouth\", \"mouth\", \"mouth\", \"mouth\", \"mushroom\", \"mushroom\", \"napa\", \"napa\", \"narrow\", \"nature\", \"nearly\", \"nectarine\", \"need\", \"neutral\", \"new\", \"new\", \"new\", \"nice\", \"nice\", \"noir\", \"nose\", \"nose\", \"nose\", \"note\", \"note\", \"note\", \"note\", \"note\", \"note\", \"note\", \"now\", \"now\", \"nuance\", \"nuanced\", \"oak\", \"oak\", \"oak\", \"oak\", \"oak\", \"oaky\", \"offer\", \"offer\", \"offer\", \"offer\", \"offer\", \"offset\", \"oil\", \"oily\", \"old\", \"old\", \"old\", \"olive\", \"open\", \"open\", \"open\", \"open\", \"open\", \"opulent\", \"orange\", \"orange\", \"orange\", \"oregon\", \"overripe\", \"pair\", \"pair\", \"palate\", \"palate\", \"palate\", \"palate\", \"palate\", \"palate\", \"palate\", \"pale\", \"papaya\", \"passion\", \"peach\", \"peach\", \"peach\", \"pear\", \"pear\", \"peel\", \"pencil\", \"penetrate\", \"pepper\", \"pepper\", \"pepper\", \"peppery\", \"peppery\", \"perfect\", \"petal\", \"petit\", \"petite\", \"petrol\", \"pie\", \"pie\", \"pine\", \"pineapple\", \"pineapple\", \"pinot\", \"pinots\", \"pithy\", \"pleasantly\", \"pleasure\", \"plum\", \"plum\", \"plum\", \"plum\", \"plum\", \"plummy\", \"potential\", \"powerful\", \"preserve\", \"price\", \"price\", \"producer\", \"promise\", \"prosecco\", \"prune\", \"pungent\", \"purity\", \"push\", \"quality\", \"quality\", \"quickly\", \"raisin\", \"raisiny\", \"raspberry\", \"raspberry\", \"raspberry\", \"raw\", \"ready\", \"recall\", \"red\", \"red\", \"red\", \"red\", \"red\", \"red\", \"red\", \"refresh\", \"region\", \"regular\", \"release\", \"residual\", \"restrain\", \"rhubarb\", \"rh\\u00f4ne\", \"rich\", \"rich\", \"rich\", \"rich\", \"rich\", \"rich\", \"rich\", \"rich\", \"richness\", \"richness\", \"richness\", \"richness\", \"riesling\", \"rind\", \"ripe\", \"ripe\", \"ripe\", \"ripe\", \"ripe\", \"ripe\", \"ripe\", \"river\", \"roast\", \"roast\", \"root\", \"ruby\", \"ruby\", \"run\", \"salad\", \"sangiovese\", \"sangiovese\", \"santa\", \"sauvignon\", \"sauvignon\", \"savory\", \"savory\", \"savory\", \"scour\", \"settle\", \"sharp\", \"shiraz\", \"shows\", \"silky\", \"silky\", \"silky\", \"simple\", \"simple\", \"simple\", \"simple\", \"single\", \"sip\", \"sipper\", \"sirah\", \"slate\", \"slight\", \"slightly\", \"slightly\", \"slightly\", \"slightly\", \"smell\", \"smoke\", \"smoke\", \"smoke\", \"smoke\", \"smoky\", \"smoky\", \"smooth\", \"smooth\", \"smooth\", \"snappy\", \"snappy\", \"soft\", \"soft\", \"soft\", \"soft\", \"soft\", \"solid\", \"solid\", \"sour\", \"sour\", \"sour\", \"source\", \"sparkle\", \"sparkler\", \"sparkler\", \"spice\", \"spice\", \"spice\", \"spice\", \"spice\", \"spin\", \"spin\", \"stainless\", \"stand\", \"start\", \"steel\", \"stemmy\", \"stew\", \"stone\", \"stone\", \"stony\", \"stony\", \"strong\", \"structure\", \"structure\", \"structure\", \"stuff\", \"style\", \"style\", \"style\", \"style\", \"succulent\", \"sugar\", \"sugary\", \"sweet\", \"sweet\", \"sweet\", \"sweet\", \"sweet\", \"sweetly\", \"sweetness\", \"syrah\", \"syrah\", \"syrah\", \"syrah\", \"syrup\", \"syrupy\", \"syrupy\", \"tang\", \"tangerine\", \"tannic\", \"tannic\", \"tannic\", \"tannin\", \"tannin\", \"tannin\", \"tannin\", \"tar\", \"tar\", \"tar\", \"tart\", \"tart\", \"tart\", \"tart\", \"tart\", \"tart\", \"tea\", \"tea\", \"tempranillo\", \"terroir\", \"texture\", \"texture\", \"texture\", \"texture\", \"texture\", \"thank\", \"thick\", \"thin\", \"thin\", \"thin\", \"thyme\", \"time\", \"time\", \"time\", \"tinge\", \"toast\", \"toast\", \"toast\", \"toast\", \"toast\", \"toast\", \"toasty\", \"toasty\", \"toasty\", \"tobacco\", \"tobacco\", \"tobacco\", \"tomato\", \"touch\", \"touch\", \"touch\", \"touch\", \"touch\", \"touch\", \"touch\", \"tropical\", \"tropical\", \"tropical\", \"truffle\", \"tuscan\", \"tuscany\", \"unfold\", \"usa\", \"valley\", \"value\", \"value\", \"vanilla\", \"vanilla\", \"vanilla\", \"vanilla\", \"vanilla\", \"vanilla\", \"variety\", \"variety\", \"veer\", \"verdot\", \"vine\", \"vine\", \"vineyard\", \"vintage\", \"vintage\", \"vintage\", \"vintage\", \"vintage\", \"walla\", \"warm\", \"wave\", \"welcome\", \"wet\", \"white\", \"white\", \"white\", \"white\", \"white\", \"wild\", \"wild\", \"wine\", \"wine\", \"wine\", \"wine\", \"wine\", \"wine\", \"wine\", \"wine\", \"wine\", \"wine\", \"winemaker\", \"wines\", \"wonderful\", \"wood\", \"work\", \"world\", \"worth\", \"wrap\", \"year\", \"year\", \"young\", \"young\", \"youth\", \"zinfandel\"]}, \"R\": 30, \"lambda.step\": 0.01, \"plot.opts\": {\"xlab\": \"PC1\", \"ylab\": \"PC2\"}, \"topic.order\": [7, 9, 1, 6, 8, 2, 5, 10, 4, 3]};\n",
       "\n",
       "function LDAvis_load_lib(url, callback){\n",
       "  var s = document.createElement('script');\n",
       "  s.src = url;\n",
       "  s.async = true;\n",
       "  s.onreadystatechange = s.onload = callback;\n",
       "  s.onerror = function(){console.warn(\"failed to load library \" + url);};\n",
       "  document.getElementsByTagName(\"head\")[0].appendChild(s);\n",
       "}\n",
       "\n",
       "if(typeof(LDAvis) !== \"undefined\"){\n",
       "   // already loaded: just create the visualization\n",
       "   !function(LDAvis){\n",
       "       new LDAvis(\"#\" + \"ldavis_el64751400898638969047523475820\", ldavis_el64751400898638969047523475820_data);\n",
       "   }(LDAvis);\n",
       "}else if(typeof define === \"function\" && define.amd){\n",
       "   // require.js is available: use it to load d3/LDAvis\n",
       "   require.config({paths: {d3: \"https://cdnjs.cloudflare.com/ajax/libs/d3/3.5.5/d3.min\"}});\n",
       "   require([\"d3\"], function(d3){\n",
       "      window.d3 = d3;\n",
       "      LDAvis_load_lib(\"https://cdn.rawgit.com/bmabey/pyLDAvis/files/ldavis.v1.0.0.js\", function(){\n",
       "        new LDAvis(\"#\" + \"ldavis_el64751400898638969047523475820\", ldavis_el64751400898638969047523475820_data);\n",
       "      });\n",
       "    });\n",
       "}else{\n",
       "    // require.js not available: dynamically load d3 & LDAvis\n",
       "    LDAvis_load_lib(\"https://cdnjs.cloudflare.com/ajax/libs/d3/3.5.5/d3.min.js\", function(){\n",
       "         LDAvis_load_lib(\"https://cdn.rawgit.com/bmabey/pyLDAvis/files/ldavis.v1.0.0.js\", function(){\n",
       "                 new LDAvis(\"#\" + \"ldavis_el64751400898638969047523475820\", ldavis_el64751400898638969047523475820_data);\n",
       "            })\n",
       "         });\n",
       "}\n",
       "</script>"
      ],
      "text/plain": [
       "PreparedData(topic_coordinates=                x           y  topics  cluster       Freq\n",
       "topic                                                    \n",
       "6      -48.290363   12.957685       1        1  24.070773\n",
       "8       76.317268   77.724243       2        1  15.098667\n",
       "0        9.804424   50.920185       3        1  13.763161\n",
       "5       36.761948  -84.863411       4        1  12.160422\n",
       "7      -80.225800   79.386024       5        1   8.579279\n",
       "1       13.570970  -18.376568       6        1   7.669014\n",
       "4       -8.269468  120.327164       7        1   5.550577\n",
       "9     -115.518295   -8.019401       8        1   5.390647\n",
       "3      -50.074886  -67.555595       9        1   4.404566\n",
       "2       86.004913   -4.526914      10        1   3.312895, topic_info=      Category          Freq        Term         Total  loglift  logprob\n",
       "term                                                                    \n",
       "4945   Default  18563.000000         dry  18563.000000  30.0000  30.0000\n",
       "14212  Default  13390.000000        spin  13390.000000  29.0000  29.0000\n",
       "1149   Default  18213.000000       aroma  18213.000000  28.0000  28.0000\n",
       "10908  Default  15553.000000      palate  15553.000000  27.0000  27.0000\n",
       "2493   Default   6483.000000    cabernet   6483.000000  26.0000  26.0000\n",
       "16851  Default  51767.000000        wine  51767.000000  25.0000  25.0000\n",
       "3089   Default  23681.000000      cherry  23681.000000  24.0000  24.0000\n",
       "6022   Default  49484.000000      flavor  49484.000000  23.0000  23.0000\n",
       "1850   Default  11333.000000  blackberry  11333.000000  22.0000  22.0000\n",
       "3270   Default   7060.000000      citrus   7060.000000  21.0000  21.0000\n",
       "1847   Default  13609.000000       black  13609.000000  20.0000  20.0000\n",
       "1038   Default   7573.000000       apple   7573.000000  19.0000  19.0000\n",
       "1896   Default   8367.000000       blend   8367.000000  18.0000  18.0000\n",
       "15036  Default  17344.000000      tannin  17344.000000  17.0000  17.0000\n",
       "14891  Default  13346.000000       sweet  13346.000000  16.0000  16.0000\n",
       "16467  Default   4183.000000    vineyard   4183.000000  15.0000  15.0000\n",
       "5936   Default  24084.000000      finish  24084.000000  14.0000  14.0000\n",
       "14199  Default  15567.000000       spice  15567.000000  13.0000  13.0000\n",
       "503    Default  15564.000000     acidity  15564.000000  12.0000  12.0000\n",
       "10468  Default  12335.000000         oak  12335.000000  11.0000  11.0000\n",
       "1760   Default  12148.000000       berry  12148.000000  10.0000  10.0000\n",
       "9531   Default   4167.000000      merlot   4167.000000   9.0000   9.0000\n",
       "10376  Default   9460.000000        nose   9460.000000   8.0000   8.0000\n",
       "16996  Default   9087.000000        year   9087.000000   7.0000   7.0000\n",
       "6331   Default   9426.000000       fresh   9426.000000   6.0000   6.0000\n",
       "4474   Default   3292.000000   delicious   3292.000000   5.0000   5.0000\n",
       "6380   Default  39647.000000       fruit  39647.000000   4.0000   4.0000\n",
       "13235  Default   4851.000000   sauvignon   4851.000000   3.0000   3.0000\n",
       "11430  Default   5620.000000       pinot   5620.000000   2.0000   2.0000\n",
       "4091   Default   8220.000000       crisp   8220.000000   1.0000   1.0000\n",
       "...        ...           ...         ...           ...      ...      ...\n",
       "6966   Topic10    890.751384    grenache    891.637337   3.4064  -4.3037\n",
       "17082  Topic10    877.595735   zinfandel    878.481724   3.4063  -4.3186\n",
       "12553  Topic10    738.049941    residual    738.935895   3.4061  -4.4918\n",
       "11288  Topic10    671.748393      petite    672.634317   3.4060  -4.5859\n",
       "2305   Topic10    635.207972       brown    636.093953   3.4060  -4.6418\n",
       "13831  Topic10    630.557809       sirah    631.443721   3.4059  -4.6492\n",
       "5755   Topic10    615.562564         fat    616.448627   3.4059  -4.6732\n",
       "289    Topic10    590.300685          50    591.186679   3.4058  -4.7151\n",
       "1520   Topic10    539.868200     barbera    540.754248   3.4057  -4.8045\n",
       "7968   Topic10    539.037650       italy    539.923705   3.4057  -4.8060\n",
       "16945  Topic10    488.274711       worth    489.160763   3.4055  -4.9049\n",
       "11523  Topic10    451.469668    pleasure    452.355715   3.4054  -4.9833\n",
       "1880   Topic10    447.054130       blast    447.940189   3.4054  -4.9931\n",
       "9957   Topic10    408.568959   mourvèdre    409.454888   3.4052  -5.0831\n",
       "14404  Topic10    399.174694       steel    400.061649   3.4051  -5.1064\n",
       "6037   Topic10    367.643043       flesh    368.529093   3.4049  -5.1887\n",
       "263    Topic10    352.200448          40    353.086436   3.4048  -5.2316\n",
       "11546  Topic10    340.117723      plummy    341.003778   3.4047  -5.2665\n",
       "14939  Topic10    333.004859       syrup    333.891056   3.4047  -5.2876\n",
       "6671   Topic10    327.834095      ginger    328.720158   3.4046  -5.3033\n",
       "315    Topic10    311.134100          60    312.020082   3.4045  -5.3556\n",
       "10167  Topic10    301.685724      nearly    302.571787   3.4044  -5.3864\n",
       "14326  Topic10    332.648971   stainless    333.671702   3.4043  -5.2887\n",
       "14936  Topic10   2064.089352       syrah   3730.179425   2.8156  -3.4633\n",
       "1896   Topic10   1625.681736       blend   8367.185569   1.7690  -3.7021\n",
       "1517   Topic10    427.351000    barbecue    622.763512   3.0308  -5.0382\n",
       "5727   Topic10    413.569498        fare    589.046125   3.0537  -5.0710\n",
       "5907   Topic10    559.408037        fill   1638.538780   2.3327  -4.7689\n",
       "8710   Topic10    737.522743        like   7242.457035   1.1229  -4.4925\n",
       "23     Topic10    405.117206          10   1111.024143   2.3985  -5.0916\n",
       "\n",
       "[606 rows x 6 columns], token_table=       Topic      Freq        Term\n",
       "term                              \n",
       "23         2  0.164713          10\n",
       "23         3  0.128710          10\n",
       "23         6  0.090907          10\n",
       "23         7  0.250220          10\n",
       "23        10  0.364529          10\n",
       "49         9  0.996032          13\n",
       "62         6  0.999372          15\n",
       "175        1  0.998756        2010\n",
       "177        8  0.999362        2011\n",
       "178        2  0.998846        2012\n",
       "221        6  0.995977          25\n",
       "263       10  0.996923          40\n",
       "289       10  0.997993          50\n",
       "315       10  0.996731          60\n",
       "450        2  0.250320      accent\n",
       "450        3  0.589236      accent\n",
       "450        5  0.158208      accent\n",
       "450        7  0.001758      accent\n",
       "459        3  0.998276  accessible\n",
       "497        2  0.823653        acid\n",
       "497        8  0.093682        acid\n",
       "497       10  0.082472        acid\n",
       "503        1  0.506090     acidity\n",
       "503        3  0.022166     acidity\n",
       "503        4  0.184073     acidity\n",
       "503        5  0.266569     acidity\n",
       "503        6  0.021009     acidity\n",
       "615        1  0.998718  aftertaste\n",
       "618        1  0.973851         age\n",
       "618        2  0.000589         age\n",
       "...      ...       ...         ...\n",
       "16786      3  0.062053       white\n",
       "16786      4  0.723952       white\n",
       "16786      5  0.211074       white\n",
       "16786      7  0.001097       white\n",
       "16812      3  0.899204        wild\n",
       "16812      7  0.100455        wild\n",
       "16851      1  0.503536        wine\n",
       "16851      2  0.092509        wine\n",
       "16851      3  0.050707        wine\n",
       "16851      4  0.102283        wine\n",
       "16851      5  0.101858        wine\n",
       "16851      6  0.006935        wine\n",
       "16851      7  0.106128        wine\n",
       "16851      8  0.009852        wine\n",
       "16851      9  0.025653        wine\n",
       "16851     10  0.000541        wine\n",
       "16857      2  0.999058   winemaker\n",
       "16861      9  0.998505       wines\n",
       "16901      6  0.998382   wonderful\n",
       "16907      1  0.999869        wood\n",
       "16928      2  0.999337        work\n",
       "16935      2  0.998594       world\n",
       "16945     10  0.997627       worth\n",
       "16952     10  0.999115        wrap\n",
       "16996      1  0.884976        year\n",
       "16996      8  0.114996        year\n",
       "17026      1  0.830459       young\n",
       "17026      2  0.169203       young\n",
       "17032      9  0.998207       youth\n",
       "17082     10  0.999452   zinfandel\n",
       "\n",
       "[947 rows x 3 columns], R=30, lambda_step=0.01, plot_opts={'xlab': 'PC1', 'ylab': 'PC2'}, topic_order=[7, 9, 1, 6, 8, 2, 5, 10, 4, 3])"
      ]
     },
     "execution_count": 139,
     "metadata": {},
     "output_type": "execute_result"
    }
   ],
   "source": [
    "pyLDAvis.enable_notebook()\n",
    "dash = pyLDAvis.sklearn.prepare(lda, data_vectorized, vectorizer, mds='tsne')\n",
    "dash"
   ]
  },
  {
   "cell_type": "code",
   "execution_count": 204,
   "metadata": {},
   "outputs": [
    {
     "data": {
      "text/plain": [
       "(array([ 585., 2599., 5445., 7542., 4487., 3174., 1420.,  373.,   87.,\n",
       "          23.]),\n",
       " array([ 80.,  82.,  84.,  86.,  88.,  90.,  92.,  94.,  96.,  98., 100.]),\n",
       " <a list of 10 Patch objects>)"
      ]
     },
     "execution_count": 204,
     "metadata": {},
     "output_type": "execute_result"
    },
    {
     "data": {
      "image/png": "[encoded data removed]",
      "text/plain": [
       "<Figure size 432x288 with 2 Axes>"
      ]
     },
     "metadata": {
      "needs_background": "light"
     },
     "output_type": "display_data"
    }
   ],
   "source": [
    "designation_not_empty = data[data['designation'] != \"EMPTY\"]\n",
    "designation_empty =  data[data['designation'] == \"EMPTY\"]\n",
    "\n",
    "fig, axs = plt.subplots(1, 2, sharey=True)\n",
    "fig.suptitle(\"Distribution of points with respect to designation\\nNot empty vs empty\")\n",
    "axs[0].hist(designation_not_empty['points'])\n",
    "axs[1].hist(designation_empty['points'])"
   ]
  },
  {
   "cell_type": "code",
   "execution_count": 202,
   "metadata": {},
   "outputs": [],
   "source": [
    "df = data\n",
    "\n",
    "# We drop description because we don't need it anymore\n",
    "# We drop points as it is the targetted variable and has been moved to labels\n",
    "# We drop province and use country instead\n",
    "# We drop designation as it has many missing values, and the distribution of the missing value is the same with the non missing value\n",
    "df = df.drop(['description', 'province', 'points', 'designation'], axis=1)"
   ]
  },
  {
   "cell_type": "code",
   "execution_count": 203,
   "metadata": {},
   "outputs": [],
   "source": [
    "# Transform to one-hot-vector\n",
    "categorical_columns = ['country', 'region_1', 'variety', 'winery']\n",
    "X = pd.get_dummies(df, columns=categorical_columns, sparse=True)"
   ]
  },
  {
   "cell_type": "code",
   "execution_count": 142,
   "metadata": {},
   "outputs": [],
   "source": [
    "X_train, X_test, y_train, y_test = train_test_split(X, labels, test_size=0.2, random_state=42)"
   ]
  },
  {
   "cell_type": "code",
   "execution_count": 145,
   "metadata": {},
   "outputs": [],
   "source": [
    "vectorizer = CountVectorizer(lowercase=True)\n",
    "data_vectorized_train = vectorizer.fit_transform(X_train[\"processed_description\"])\n",
    "data_vectorized_test = vectorizer.transform(X_test[\"processed_description\"])"
   ]
  },
  {
   "cell_type": "code",
   "execution_count": 146,
   "metadata": {},
   "outputs": [
    {
     "name": "stdout",
     "output_type": "stream",
     "text": [
      "iteration: 1 of max_iter: 10\n",
      "iteration: 2 of max_iter: 10\n",
      "iteration: 3 of max_iter: 10\n",
      "iteration: 4 of max_iter: 10\n",
      "iteration: 5 of max_iter: 10\n",
      "iteration: 6 of max_iter: 10\n",
      "iteration: 7 of max_iter: 10\n",
      "iteration: 8 of max_iter: 10\n",
      "iteration: 9 of max_iter: 10\n",
      "iteration: 10 of max_iter: 10\n"
     ]
    }
   ],
   "source": [
    "lda = LatentDirichletAllocation(n_components=10, doc_topic_prior=.01, max_iter=10, learning_method='online',verbose=True)\n",
    "data_lda_train = lda.fit_transform(data_vectorized_train)\n",
    "data_lda_test = lda.transform(data_vectorized_test)"
   ]
  },
  {
   "cell_type": "code",
   "execution_count": 155,
   "metadata": {},
   "outputs": [],
   "source": [
    "# Append LDA result to the dataframe\n",
    "for i, d_train in enumerate(data_lda_train.T):\n",
    "    X_train['topic_' + str(i)] = d_train"
   ]
  },
  {
   "cell_type": "code",
   "execution_count": 159,
   "metadata": {},
   "outputs": [],
   "source": [
    "# Append LDA result to the dataframe\n",
    "for i, d_test in enumerate(data_lda_test.T):\n",
    "    X_test['topic_' + str(i)] = d_test"
   ]
  },
  {
   "cell_type": "code",
   "execution_count": 175,
   "metadata": {},
   "outputs": [],
   "source": [
    "# Normalized price\n",
    "scaler = StandardScaler()\n",
    "X_train['price'] = scaler.fit_transform(np.array(X_train['price']).reshape(-1, 1))\n",
    "X_test['price'] = scaler.transform(np.array(X_test['price']).reshape(-1, 1))"
   ]
  },
  {
   "cell_type": "code",
   "execution_count": 181,
   "metadata": {},
   "outputs": [
    {
     "name": "stderr",
     "output_type": "stream",
     "text": [
      "/home/prdx/.local/lib/python3.7/site-packages/sklearn/ensemble/forest.py:248: FutureWarning: The default value of n_estimators will change from 10 in version 0.20 to 100 in 0.22.\n",
      "  \"10 in version 0.20 to 100 in 0.22.\", FutureWarning)\n"
     ]
    },
    {
     "data": {
      "text/plain": [
       "0.892041706473874"
      ]
     },
     "execution_count": 181,
     "metadata": {},
     "output_type": "execute_result"
    }
   ],
   "source": [
    "# Just a quick check with a model\n",
    "test = RandomForestRegressor(max_depth=100)\n",
    "test.fit(X_train, y_train)\n",
    "test.score(X_test, y_test)"
   ]
  },
  {
   "cell_type": "markdown",
   "metadata": {},
   "source": [
    "---------------------------------------------------------------------------------------------------"
   ]
  },
  {
   "cell_type": "code",
   "execution_count": null,
   "metadata": {},
   "outputs": [],
   "source": [
    "parameters = {'max_depth': [None, 10, 100], 'n_estimators': [500, 700, 1000]}\n",
    "\n",
    "rf_cv = GridSearchCV(RandomForestRegressor(), parameters, cv=10, scoring=\"r2\", \n",
    "                   n_jobs=8, verbose=1)\n",
    "rf_cv.fit(X_train, y_train)"
   ]
  },
  {
   "cell_type": "markdown",
   "metadata": {},
   "source": [
    "---------------------------------------------------------------------------------"
   ]
  },
  {
   "cell_type": "code",
   "execution_count": 146,
   "metadata": {},
   "outputs": [
    {
     "data": {
      "text/plain": [
       "XGBRegressor(base_score=0.5, booster='gbtree', colsample_bylevel=1,\n",
       "       colsample_bytree=1, gamma=0, learning_rate=0.1, max_delta_step=0,\n",
       "       max_depth=100, min_child_weight=1, missing=None, n_estimators=100,\n",
       "       n_jobs=1, nthread=None, objective='reg:linear', random_state=0,\n",
       "       reg_alpha=0, reg_lambda=1, scale_pos_weight=1, seed=None,\n",
       "       silent=True, subsample=1)"
      ]
     },
     "execution_count": 146,
     "metadata": {},
     "output_type": "execute_result"
    }
   ],
   "source": [
    "parameters = {'max_depth': [None, 10, 100], 'n_estimators': [500, 700, 1000]}\n",
    "\n",
    "xgb_cv = GridSearchCV(xgb.XGBRegressor(), parameters, cv=10, scoring=\"r2\", \n",
    "                   n_jobs=8, verbose=1)\n",
    "xgb_cv.fit(X_train, y_train)"
   ]
  },
  {
   "cell_type": "markdown",
   "metadata": {},
   "source": [
    "---------------------------------------------------------------------------------"
   ]
  },
  {
   "cell_type": "code",
   "execution_count": 165,
   "metadata": {},
   "outputs": [
    {
     "data": {
      "text/plain": [
       "Ridge(alpha=0.001, copy_X=True, fit_intercept=True, max_iter=None,\n",
       "   normalize=False, random_state=None, solver='auto', tol=0.001)"
      ]
     },
     "execution_count": 165,
     "metadata": {},
     "output_type": "execute_result"
    }
   ],
   "source": [
    "parameters = {alpha=[1, 0.1, 0.01, 0.001]}\n",
    "ridge_cv = GridSearchCV(Ridge(), parameters, cv=10, scoring=\"r2\", \n",
    "                   n_jobs=8, verbose=1)\n",
    "ridge_cv.fit(X_train, y_train)"
   ]
  },
  {
   "cell_type": "markdown",
   "metadata": {},
   "source": [
    "--------------------------------------------------------------------------------------------------"
   ]
  },
  {
   "cell_type": "markdown",
   "metadata": {},
   "source": [
    "--------------------------------------------------------------------------------------------------------------------"
   ]
  },
  {
   "cell_type": "code",
   "execution_count": null,
   "metadata": {},
   "outputs": [],
   "source": []
  }
 ],
 "metadata": {
  "kernelspec": {
   "display_name": "Python 3",
   "language": "python",
   "name": "python3"
  },
  "language_info": {
   "codemirror_mode": {
    "name": "ipython",
    "version": 3
   },
   "file_extension": ".py",
   "mimetype": "text/x-python",
   "name": "python",
   "nbconvert_exporter": "python",
   "pygments_lexer": "ipython3",
   "version": "3.7.2"
  }
 },
 "nbformat": 4,
 "nbformat_minor": 2
}
